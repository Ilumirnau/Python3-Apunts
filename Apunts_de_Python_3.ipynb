{
  "nbformat": 4,
  "nbformat_minor": 0,
  "metadata": {
    "colab": {
      "name": "Apunts de Python 3",
      "provenance": []
    },
    "kernelspec": {
      "name": "python3",
      "display_name": "Python 3"
    }
  },
  "cells": [
    {
      "cell_type": "markdown",
      "metadata": {
        "id": "oA5TbcBb53Xw",
        "colab_type": "text"
      },
      "source": [
        "#Primer curs: Getting Started with Python"
      ]
    },
    {
      "cell_type": "markdown",
      "metadata": {
        "id": "VFZDbVJ8UOwW",
        "colab_type": "text"
      },
      "source": [
        "##Sessió 1"
      ]
    },
    {
      "cell_type": "markdown",
      "metadata": {
        "id": "PtX6qLBR6FNF",
        "colab_type": "text"
      },
      "source": [
        "###Funció $print$ per mostrar text o valors"
      ]
    },
    {
      "cell_type": "markdown",
      "metadata": {
        "id": "ICQ9kNqo6XT6",
        "colab_type": "text"
      },
      "source": [
        "Les cel·les es poden executar amb shift+enter"
      ]
    },
    {
      "cell_type": "code",
      "metadata": {
        "id": "SoGBgSvW6Axc",
        "colab_type": "code",
        "colab": {
          "base_uri": "https://localhost:8080/",
          "height": 35
        },
        "outputId": "bce0eac0-ac80-4965-e220-fd2d46db570b"
      },
      "source": [
        "print(\"hello world\")"
      ],
      "execution_count": null,
      "outputs": [
        {
          "output_type": "stream",
          "text": [
            "hello world\n"
          ],
          "name": "stdout"
        }
      ]
    },
    {
      "cell_type": "code",
      "metadata": {
        "id": "Cu5eXFZP6S85",
        "colab_type": "code",
        "colab": {
          "base_uri": "https://localhost:8080/",
          "height": 35
        },
        "outputId": "996f09a3-f834-49b3-934e-adaae7fd7a9b"
      },
      "source": [
        "#això és un comentari,com veus el tipus de cometes no afecten\n",
        "print('hello world')"
      ],
      "execution_count": null,
      "outputs": [
        {
          "output_type": "stream",
          "text": [
            "hello world\n"
          ],
          "name": "stdout"
        }
      ]
    },
    {
      "cell_type": "markdown",
      "metadata": {
        "id": "PszZhFHlCBPE",
        "colab_type": "text"
      },
      "source": [
        "###Ús de $input$ per demanar valors i dades mentre s'executa el codi"
      ]
    },
    {
      "cell_type": "markdown",
      "metadata": {
        "id": "727EIsgR9e7D",
        "colab_type": "text"
      },
      "source": [
        "**Write a program that uses input to prompt a user for their name and then welcomes them. Note that input will pop up a dialog box. Enter Sarah in the pop-up box when you are prompted so your output will match the desired output.**"
      ]
    },
    {
      "cell_type": "code",
      "metadata": {
        "id": "j5E1sdm56iAe",
        "colab_type": "code",
        "colab": {
          "base_uri": "https://localhost:8080/",
          "height": 52
        },
        "outputId": "3b6a5a09-d237-4ad2-ba42-152671e2d598"
      },
      "source": [
        "\"\"\"com veus, si vols ajuntar text amb variables, una manera fàcil de fer-ho és\n",
        "utilitzant una coma en el codi, que quan s'executi es transformarà en un espai\"\"\"\n",
        "name = input(\"Enter your name: \")\n",
        "print(\"Hello\", name)"
      ],
      "execution_count": null,
      "outputs": [
        {
          "output_type": "stream",
          "text": [
            "Enter your name: Arnau\n",
            "Hello Arnau\n"
          ],
          "name": "stdout"
        }
      ]
    },
    {
      "cell_type": "markdown",
      "metadata": {
        "id": "Y2BD820s-wDw",
        "colab_type": "text"
      },
      "source": [
        "**Write a program to prompt the user for hours and rate per hour using input to compute gross pay. Use 35 hours and a rate of 2.75 per hour to test the program (the pay should be 96.25). You should use input to read a string and float() to convert the string to a number. Do not worry about error checking or bad user data.**"
      ]
    },
    {
      "cell_type": "code",
      "metadata": {
        "id": "bSPKwj7I-aUx",
        "colab_type": "code",
        "colab": {
          "base_uri": "https://localhost:8080/",
          "height": 69
        },
        "outputId": "ba1e519d-65f8-43b0-d151-207c46dc3777"
      },
      "source": [
        "#a mi m'agrada fer funcions per poder reutilitzar codi\n",
        "#amb el float() transformes a números amb decimals\n",
        "#hi ha str() per fer strings o int() per truncar números (sense decimals), per exemple int(20.8) dóna 20\n",
        "hrs = input(\"Enter Hours:\")\n",
        "paga_hr = input(\"Enter Salary:\")\n",
        "def paga(hores,paga_hora):\n",
        "    return print(\"Pay:\",hores*paga_hora)\n",
        "paga(float(hrs),float(paga_hr))"
      ],
      "execution_count": null,
      "outputs": [
        {
          "output_type": "stream",
          "text": [
            "Enter Hours:35\n",
            "Enter Salary:2.75\n",
            "Pay: 96.25\n"
          ],
          "name": "stdout"
        }
      ]
    },
    {
      "cell_type": "code",
      "metadata": {
        "id": "_X-YHAaPAxvV",
        "colab_type": "code",
        "colab": {
          "base_uri": "https://localhost:8080/",
          "height": 69
        },
        "outputId": "dbfd07fb-bd1c-4792-ab94-0d6e78407056"
      },
      "source": [
        "#també es podia fer directe\n",
        "hrs2 = input(\"Enter Hours:\")\n",
        "paga_hr2 = input(\"Enter Salary:\")\n",
        "print(\"Pay:\",float(hrs2)*float(paga_hr2))"
      ],
      "execution_count": null,
      "outputs": [
        {
          "output_type": "stream",
          "text": [
            "Enter Hours:35\n",
            "Enter Salary:2.75\n",
            "Pay: 96.25\n"
          ],
          "name": "stdout"
        }
      ]
    },
    {
      "cell_type": "markdown",
      "metadata": {
        "id": "KYbZlyuYUFgA",
        "colab_type": "text"
      },
      "source": [
        "##Sessió 2"
      ]
    },
    {
      "cell_type": "markdown",
      "metadata": {
        "id": "0KqVUWlZU1tH",
        "colab_type": "text"
      },
      "source": [
        "###Condicionals amb *if* i indexació"
      ]
    },
    {
      "cell_type": "markdown",
      "metadata": {
        "id": "4Yeks85MU-FS",
        "colab_type": "text"
      },
      "source": [
        "Python utilitza indexació així que és important tenir en compte què va dins de què"
      ]
    },
    {
      "cell_type": "code",
      "metadata": {
        "id": "ZStdqIuHU0U1",
        "colab_type": "code",
        "colab": {
          "base_uri": "https://localhost:8080/",
          "height": 69
        },
        "outputId": "5ba76369-8a7d-4556-f6a0-022b0e4f8953"
      },
      "source": [
        "#els if ns com van en altres programes però aquí és fàcil\n",
        "#si la condició se satisfà, fa el que el codi de dins mana,\n",
        "#si la condició no se satisfà, va a la següent línia de codi\n",
        "num = input('Tria un número: ')\n",
        "if float(num)<10:\n",
        "  print('És menor de 10')\n",
        "if float(num)>0:\n",
        "  print('És positiu')\n",
        "if float(num)<=0:\n",
        "  print('No és positiu')\n",
        "#es pot veure que si poses bé l'if i els dos punts, el colaboratory ja t'indexa"
      ],
      "execution_count": null,
      "outputs": [
        {
          "output_type": "stream",
          "text": [
            "Tria un número: 0\n",
            "És menor de 10\n",
            "No és positiu\n"
          ],
          "name": "stdout"
        }
      ]
    },
    {
      "cell_type": "code",
      "metadata": {
        "id": "LU76echHWdYC",
        "colab_type": "code",
        "colab": {
          "base_uri": "https://localhost:8080/",
          "height": 52
        },
        "outputId": "67742363-fd71-4d96-bd0b-ea267e156120"
      },
      "source": [
        "#per tal que si no se satisfà el if s'executi un altre codi, tens el else\n",
        "num = input('Tria un número: ')\n",
        "if float(num)>0:\n",
        "  print('És positiu')\n",
        "else:\n",
        "  print('No és positiu')\n"
      ],
      "execution_count": null,
      "outputs": [
        {
          "output_type": "stream",
          "text": [
            "Tria un número: 0\n",
            "No és positiu\n"
          ],
          "name": "stdout"
        }
      ]
    },
    {
      "cell_type": "markdown",
      "metadata": {
        "id": "EjmjPDfP-ST_",
        "colab_type": "text"
      },
      "source": [
        "###Condicionals amb *elif*"
      ]
    },
    {
      "cell_type": "code",
      "metadata": {
        "id": "a71diHzqGh4d",
        "colab_type": "code",
        "colab": {
          "base_uri": "https://localhost:8080/",
          "height": 52
        },
        "outputId": "ede6cc02-eb63-471b-c359-5c29171223f8"
      },
      "source": [
        "#si tens un if i vols posar més condicions a part de else, poses un elif\n",
        "\"\"\"tingues en compte que només un de tots els condicionals s'executarà,\n",
        "si la condició de l'if se satisfà, el elif i el else no es llegiran\"\"\"\n",
        "x = input(\"Escriu un número: \")\n",
        "if float(x)<5:\n",
        "  print('És un número molt petit')\n",
        "elif float(x)<20:\n",
        "  print('És un número mitjà')\n",
        "else:\n",
        "  print('És un número gran')"
      ],
      "execution_count": null,
      "outputs": [
        {
          "output_type": "stream",
          "text": [
            "Escriu un número: 2\n",
            "És un número molt petit\n"
          ],
          "name": "stdout"
        }
      ]
    },
    {
      "cell_type": "code",
      "metadata": {
        "id": "xHtQxBXz_pQA",
        "colab_type": "code",
        "colab": {
          "base_uri": "https://localhost:8080/",
          "height": 35
        },
        "outputId": "8316475f-00b0-4cdb-aaf3-b33e11a2e8b5"
      },
      "source": [
        "#no cal tenir un else al final si no vols obtenir sempre una resposta,\n",
        "#sense l'else, quan no es compleixi cap condició simplement no s'executarà res\n",
        "x = input(\"Escriu un número: \")\n",
        "if float(x)<5:\n",
        "  print('És un número molt petit')\n",
        "elif float(x)<20:\n",
        "  print('És un número mitjà')"
      ],
      "execution_count": null,
      "outputs": [
        {
          "output_type": "stream",
          "text": [
            "Escriu un número: 20\n"
          ],
          "name": "stdout"
        }
      ]
    },
    {
      "cell_type": "code",
      "metadata": {
        "id": "V0dBG77W_2rb",
        "colab_type": "code",
        "colab": {
          "base_uri": "https://localhost:8080/",
          "height": 52
        },
        "outputId": "0ea1538c-e047-449e-92ff-f526ecfe7c77"
      },
      "source": [
        "\"\"\"pots tenir molts elif seguits, però recorda que a la que un s'executi (i va en ordre)\n",
        " la resta de condicions se saltaran i es procedirà a llegir el següent conjunt de codi\"\"\"\n",
        "x = input(\"Escriu un número: \")\n",
        "if float(x)<5:\n",
        "  print('És un número molt petit')\n",
        "elif float(x)<20:\n",
        "  print('És un número mitjà')\n",
        "elif float(x)<50:\n",
        " print('És un número gran')\n",
        "elif float(x)<100:\n",
        "  print('És un número enorme')\n",
        "else:\n",
        "  print(\"T'has passat tres pobles\")\n",
        "#fixa't que si vols escriure apòstrofs com a string has d'utilitzar les dobles cometes o se't tancarà abans d'hora "
      ],
      "execution_count": null,
      "outputs": [
        {
          "output_type": "stream",
          "text": [
            "Escriu un número: 3\n",
            "És un número molt petit\n"
          ],
          "name": "stdout"
        }
      ]
    },
    {
      "cell_type": "markdown",
      "metadata": {
        "id": "9R8-jhuYNXEr",
        "colab_type": "text"
      },
      "source": [
        "###Com evitar que peti el codi amb *try* i *except*"
      ]
    },
    {
      "cell_type": "markdown",
      "metadata": {
        "id": "rldAixZ_PhFz",
        "colab_type": "text"
      },
      "source": [
        "Pots posar moltes coses dins del *try*, però si algo peta ja no farà res del try i anirà directament al except."
      ]
    },
    {
      "cell_type": "code",
      "metadata": {
        "id": "F7NC1Sv4NhFa",
        "colab_type": "code",
        "colab": {
          "base_uri": "https://localhost:8080/",
          "height": 107
        },
        "outputId": "95ca9b80-dfb2-457c-af08-bbc07bbf59a7"
      },
      "source": [
        "#això és útil quan no vols que el teu codi peti i deixi de llegir la resta\n",
        "x = input(\"Escriu algo: \")\n",
        "try:\n",
        "  num = float(x)\n",
        "  print(num)\n",
        "except:\n",
        "  print('No és un número')\n",
        "print('fi')\n",
        "#aquí, com que float() converteix una string en número amb decimals, si no s'escriu un número\n",
        "#com a input, el float() donaria error, però amb l'except diem que si dóna error, enlloc d'explotar\n",
        "#segueixi el codi de sota"
      ],
      "execution_count": null,
      "outputs": [
        {
          "output_type": "stream",
          "text": [
            "Escriu algo: hola\n",
            "No és un número\n",
            "fi\n"
          ],
          "name": "stdout"
        },
        {
          "output_type": "execute_result",
          "data": {
            "text/plain": [
              "\"aquí, com que float() converteix una string en número amb decimals, si no s'escriu un número\\ncom a input, el float() donaria error, però amb l'except diem que si dóna error, enlloc d'explotar\\nsegueixi el codi de sota\""
            ]
          },
          "metadata": {
            "tags": []
          },
          "execution_count": 12
        }
      ]
    },
    {
      "cell_type": "markdown",
      "metadata": {
        "id": "gQIv5VNfSqlm",
        "colab_type": "text"
      },
      "source": [
        "**Write a program to prompt the user for hours and rate per hour using input to compute gross pay. Pay the hourly rate for the hours up to 40 and 1.5 times the hourly rate for all hours worked above 40 hours. Use 45 hours and a rate of 10.50 per hour to test the program (the pay should be 498.75). You should use input to read a string and float() to convert the string to a number. Do not worry about error checking the user input - assume the user types numbers properly.**"
      ]
    },
    {
      "cell_type": "code",
      "metadata": {
        "id": "VxtVfq_GSvh_",
        "colab_type": "code",
        "colab": {
          "base_uri": "https://localhost:8080/",
          "height": 69
        },
        "outputId": "bcf5a05b-a347-4c63-f1cd-51c898dfd71e"
      },
      "source": [
        "hrs = input(\"Enter Hours:\")\n",
        "h = float(hrs)\n",
        "salari = float(input(\"Enter Hourly Rate: \"))\n",
        "if h<=40:\n",
        "    tope = salari*h\n",
        "    print(tope)\n",
        "else:\n",
        "    print(1.5*salari*(h-40)+40*salari)"
      ],
      "execution_count": null,
      "outputs": [
        {
          "output_type": "stream",
          "text": [
            "Enter Hours:45\n",
            "Enter Hourly Rate: 10.50\n",
            "498.75\n"
          ],
          "name": "stdout"
        }
      ]
    },
    {
      "cell_type": "markdown",
      "metadata": {
        "id": "jAJtNxbBRmLX",
        "colab_type": "text"
      },
      "source": [
        "**Write a program to prompt for a score between 0.0 and 1.0. If the score is out of range, print an error. If the score is between 0.0 and 1.0, print a grade using the following table:**\\\n",
        "Score Grade\n",
        ">= 0.9 A\\\n",
        ">= 0.8 B\\\n",
        ">= 0.7 C\\\n",
        ">= 0.6 D\\\n",
        "< 0.6 F\\\n",
        "If the user enters a value out of range, print a suitable error message and exit. For the test, enter a score of 0.85."
      ]
    },
    {
      "cell_type": "code",
      "metadata": {
        "id": "yx2kMMKgOQY3",
        "colab_type": "code",
        "colab": {
          "base_uri": "https://localhost:8080/",
          "height": 52
        },
        "outputId": "6230b389-d478-4f77-f317-0259e47f66c0"
      },
      "source": [
        "#en aquest exercici, com a extra, he utilitzat operadors lògics \"and\" que funcionen com a tot arreu\n",
        "score = input(\"Enter Score: \")\n",
        "if float(score)<=1.0 and float(score)>=0.9:\n",
        "    print(\"A\")\n",
        "elif float(score)<=1.0 and float(score)>=0.8:\n",
        "    print(\"B\")\n",
        "elif float(score)<=1.0 and float(score)>=0.7:\n",
        "    print(\"C\")\n",
        "elif float(score)<=1.0 and float(score)>=0.6:\n",
        "    print(\"D\")\n",
        "elif float(score)>=0.0 and float(score)<0.6:\n",
        "    print(\"F\")\n",
        "else:\n",
        "    print(\"Input must be a number between 0.0 and 1.0 both included\")"
      ],
      "execution_count": null,
      "outputs": [
        {
          "output_type": "stream",
          "text": [
            "Enter Score: 0.8\n",
            "B\n"
          ],
          "name": "stdout"
        }
      ]
    },
    {
      "cell_type": "code",
      "metadata": {
        "id": "Y5nhm9qRSXMT",
        "colab_type": "code",
        "colab": {
          "base_uri": "https://localhost:8080/",
          "height": 35
        },
        "outputId": "340f7a58-3d10-41d5-826d-35a07f1e637d"
      },
      "source": [
        "def stuff():\n",
        "    print('Hello')\n",
        "    return\n",
        "    print('World')\n",
        "\n",
        "stuff()"
      ],
      "execution_count": null,
      "outputs": [
        {
          "output_type": "stream",
          "text": [
            "Hello\n"
          ],
          "name": "stdout"
        }
      ]
    },
    {
      "cell_type": "markdown",
      "metadata": {
        "id": "S5grmqakFAtX",
        "colab_type": "text"
      },
      "source": [
        "##Sessió 3"
      ]
    },
    {
      "cell_type": "markdown",
      "metadata": {
        "id": "xd8UA7LYFHjA",
        "colab_type": "text"
      },
      "source": [
        "###Creació de funcions"
      ]
    },
    {
      "cell_type": "markdown",
      "metadata": {
        "id": "Fq3FECtSFLs1",
        "colab_type": "text"
      },
      "source": [
        "Hi ha més d'una sola manera per crear funcions amb Python, de moment veurem la més intuïtiva.\\\n",
        "Per indicar que comences una funció utilitzes el *def*, seguit del nom de la funció i les variables entre parèntesi. \\\n",
        "Pots voler les funcions per fer tot el que hi poses a dins o bé per imprimir específics valors resultants de càlculs que hi fas. En aquest darrer cas cal acabar el codi indexat dins de *def* amb un *return*."
      ]
    },
    {
      "cell_type": "code",
      "metadata": {
        "id": "3MBoijFtEGHF",
        "colab_type": "code",
        "colab": {
          "base_uri": "https://localhost:8080/",
          "height": 35
        },
        "outputId": "9ae523f7-6dc1-44fb-8544-cac350e51bba"
      },
      "source": [
        "def ordre(a,b,c):\n",
        "  if a<b<c:\n",
        "    print('Estan ordenats')\n",
        "  else:\n",
        "    print('No estan ordenats')\n",
        "\n",
        "ordre(1,2,3)"
      ],
      "execution_count": null,
      "outputs": [
        {
          "output_type": "stream",
          "text": [
            "Estan ordenats\n"
          ],
          "name": "stdout"
        }
      ]
    },
    {
      "cell_type": "code",
      "metadata": {
        "id": "rI5hDS9IGRbU",
        "colab_type": "code",
        "colab": {
          "base_uri": "https://localhost:8080/",
          "height": 35
        },
        "outputId": "795be424-9ccd-435b-a3cb-7bea1a7c11dd"
      },
      "source": [
        "def producte(x,y):\n",
        "  vull = x*y\n",
        "  return vull\n",
        "\n",
        "producte(1,2)"
      ],
      "execution_count": null,
      "outputs": [
        {
          "output_type": "execute_result",
          "data": {
            "text/plain": [
              "2"
            ]
          },
          "metadata": {
            "tags": []
          },
          "execution_count": 4
        }
      ]
    },
    {
      "cell_type": "code",
      "metadata": {
        "id": "T2nTRoh9Gm4x",
        "colab_type": "code",
        "colab": {
          "base_uri": "https://localhost:8080/",
          "height": 35
        },
        "outputId": "6cd69301-832a-4436-c029-f7cdbacc0efe"
      },
      "source": [
        "#es pot fer encara més curt ja que al return pots posar operacions\n",
        "def producte(x,y):\n",
        "  return x*y\n",
        "\n",
        "producte(1,2)"
      ],
      "execution_count": null,
      "outputs": [
        {
          "output_type": "execute_result",
          "data": {
            "text/plain": [
              "2"
            ]
          },
          "metadata": {
            "tags": []
          },
          "execution_count": 5
        }
      ]
    },
    {
      "cell_type": "markdown",
      "metadata": {
        "id": "DwtWBMraG1kc",
        "colab_type": "text"
      },
      "source": [
        "**Write a program to prompt the user for hours and rate per hour using input to compute gross pay. Pay should be the normal rate for hours up to 40 and time-and-a-half for the hourly rate for all hours worked above 40 hours. Put the logic to do the computation of pay in a function called computepay() and use the function to do the computation. The function should return a value. Use 45 hours and a rate of 10.50 per hour to test the program (the pay should be 498.75). You should use input to read a string and float() to convert the string to a number. Do not worry about error checking the user input unless you want to - you can assume the user types numbers properly. Do not name your variable sum or use the sum() function.**"
      ]
    },
    {
      "cell_type": "code",
      "metadata": {
        "id": "XfwAXKObGx1B",
        "colab_type": "code",
        "colab": {
          "base_uri": "https://localhost:8080/",
          "height": 69
        },
        "outputId": "26f03d4e-1716-4c54-f283-bfbbffb7da5a"
      },
      "source": [
        "#per la part condicional podem reutilitzar el codi de la sessió 2\n",
        "def computepay(h,r):\n",
        "    if h<=40:\n",
        "    \treturn r*h\n",
        "    else:\n",
        "    \treturn 1.5*r*(h-40)+40*r\n",
        "\n",
        "hrs = input(\"Enter Hours:\")\n",
        "salari = input(\"Enter Hourly Rate: \")\n",
        "p = computepay(float(hrs),float(salari))\n",
        "print(\"Pay\",p)"
      ],
      "execution_count": null,
      "outputs": [
        {
          "output_type": "stream",
          "text": [
            "Enter Hours:45\n",
            "Enter Hourly Rate: 10.50\n",
            "Pay 498.75\n"
          ],
          "name": "stdout"
        }
      ]
    },
    {
      "cell_type": "markdown",
      "metadata": {
        "id": "H-6wvpe5OfvJ",
        "colab_type": "text"
      },
      "source": [
        "##Sessió 4"
      ]
    },
    {
      "cell_type": "markdown",
      "metadata": {
        "id": "KS3lOzfyOk_N",
        "colab_type": "text"
      },
      "source": [
        "###Loops infinits o condicionals amb el *while*"
      ]
    },
    {
      "cell_type": "markdown",
      "metadata": {
        "id": "lQ3M96WpOraC",
        "colab_type": "text"
      },
      "source": [
        "Comencem veient el *while*, això funciona com un if (és a dir té una condició) però quan arriba a l'última línia indexada (executada si la condició és certa) enlloc de passar a la següent línia torna a la primera dins del *while*, i així fins que la condició deixa de complir-se."
      ]
    },
    {
      "cell_type": "code",
      "metadata": {
        "id": "i4VZ-1F7JLKR",
        "colab_type": "code",
        "colab": {
          "base_uri": "https://localhost:8080/",
          "height": 121
        },
        "outputId": "ef518beb-13dd-453c-9777-33269f9ccb4b"
      },
      "source": [
        "cuenta_atras = int(input(\"Escriu un número des d'on contar fins a 0: \"))\n",
        "while cuenta_atras>-1:\n",
        "  print(cuenta_atras)\n",
        "  cuenta_atras = cuenta_atras - 1\n",
        "#hi ha una manera més còmoda d'anar restant -1, seria x-=1"
      ],
      "execution_count": null,
      "outputs": [
        {
          "output_type": "stream",
          "text": [
            "Escriu un número des d'on contar fins a 0: 4\n",
            "4\n",
            "3\n",
            "2\n",
            "1\n",
            "0\n"
          ],
          "name": "stdout"
        }
      ]
    },
    {
      "cell_type": "markdown",
      "metadata": {
        "id": "TpO9afBGRjMd",
        "colab_type": "text"
      },
      "source": [
        "Per evitar els loops infinits o per tornar a l'inici dels *while*'s tenim els comandos *break* per parar i *continue* per seguir."
      ]
    },
    {
      "cell_type": "code",
      "metadata": {
        "id": "f8oc29RtPn3O",
        "colab_type": "code",
        "colab": {
          "base_uri": "https://localhost:8080/",
          "height": 104
        },
        "outputId": "bdc13d81-5dc7-4acf-f8f3-ffe91d21bdb8"
      },
      "source": [
        "\"\"\"aquest codi té més chicha, al while posem True, que és una funció lògica ja inclosa\n",
        "a Python, per tant el while serà un loop infinit (ja que no ho podem canviar a False)\n",
        "És fàcil veure que text[0] és el primer terme de l'string de l'input, si és un #, no farem\n",
        "res sinó que tornarem a demanar un input, si l'input és igual a 'Para' el que farà serà sortir\n",
        "del while i seguir amb el codi de sota. Nota que per aplicar la condició de que una cosa és igual\n",
        "a una altra utilitzem == (no =), és un altre tipus de condició, com bé serien <,>, etc.\"\"\"\n",
        "\n",
        "while True:\n",
        "  text = input('Escriu algo: ')\n",
        "  if text[0] == '#':\n",
        "    continue\n",
        "  if text == 'Para':\n",
        "    break\n",
        "  print(text)\n",
        "print('Ja has acabat:)')"
      ],
      "execution_count": null,
      "outputs": [
        {
          "output_type": "stream",
          "text": [
            "Escriu algo: Hola\n",
            "Hola\n",
            "Escriu algo: # modo incognito\n",
            "Escriu algo: Para\n",
            "Ja has acabat:)\n"
          ],
          "name": "stdout"
        }
      ]
    },
    {
      "cell_type": "markdown",
      "metadata": {
        "id": "XfKIevCOT-Q_",
        "colab_type": "text"
      },
      "source": [
        "###Loops finits amb el *for*"
      ]
    },
    {
      "cell_type": "code",
      "metadata": {
        "id": "Lrju4-F2TN4E",
        "colab_type": "code",
        "colab": {
          "base_uri": "https://localhost:8080/",
          "height": 121
        },
        "outputId": "2e67a43b-f045-41aa-9ea5-5d109abd5ec4"
      },
      "source": [
        "#recordem que [] és una llista\n",
        "for i in [5,4,3,2,1]:\n",
        "  print(i)\n",
        "print('fi')"
      ],
      "execution_count": null,
      "outputs": [
        {
          "output_type": "stream",
          "text": [
            "5\n",
            "4\n",
            "3\n",
            "2\n",
            "1\n",
            "fi\n"
          ],
          "name": "stdout"
        }
      ]
    },
    {
      "cell_type": "code",
      "metadata": {
        "id": "0WFf6pQeUQVX",
        "colab_type": "code",
        "colab": {
          "base_uri": "https://localhost:8080/",
          "height": 104
        },
        "outputId": "03631ca6-80da-4111-9d42-32fb86dfb313"
      },
      "source": [
        "for familiar in ['Javi', 'Marta', 'Arnau', 'Oriol', 'Eudald']:\n",
        "  print('Està al grup de Liras:',familiar)"
      ],
      "execution_count": null,
      "outputs": [
        {
          "output_type": "stream",
          "text": [
            "Està al grup de Liras: Javi\n",
            "Està al grup de Liras: Marta\n",
            "Està al grup de Liras: Arnau\n",
            "Està al grup de Liras: Oriol\n",
            "Està al grup de Liras: Eudald\n"
          ],
          "name": "stdout"
        }
      ]
    },
    {
      "cell_type": "code",
      "metadata": {
        "id": "88_bk0l4Vp17",
        "colab_type": "code",
        "colab": {
          "base_uri": "https://localhost:8080/",
          "height": 104
        },
        "outputId": "764cafb9-39a1-4710-e575-9913c2e6c924"
      },
      "source": [
        "#també et pots definir la llista abans\n",
        "familiars = ['Javi', 'Marta', 'Arnau', 'Oriol', 'Eudald']\n",
        "for familiar in familiars:\n",
        "  print('Està al grup de Liras:',familiar)\n"
      ],
      "execution_count": null,
      "outputs": [
        {
          "output_type": "stream",
          "text": [
            "Està al grup de Liras: Javi\n",
            "Està al grup de Liras: Marta\n",
            "Està al grup de Liras: Arnau\n",
            "Està al grup de Liras: Oriol\n",
            "Està al grup de Liras: Eudald\n"
          ],
          "name": "stdout"
        }
      ]
    },
    {
      "cell_type": "markdown",
      "metadata": {
        "id": "xz81o3NQcmYt",
        "colab_type": "text"
      },
      "source": [
        "Evidentment dins de loops es poden posar condicionals i altres objectes estudiats, així que passo directament a fer exercicis."
      ]
    },
    {
      "cell_type": "markdown",
      "metadata": {
        "id": "AEvTNB3Jcy-j",
        "colab_type": "text"
      },
      "source": [
        "**Write a program that repeatedly prompts a user for integer numbers until the user enters 'done'. Once 'done' is entered, print out the largest and smallest of the numbers. If the user enters anything other than a valid number catch it with a try/except and put out an appropriate message and ignore the number. Enter 7, 2, bob, 10, and 4 and match the output below.**"
      ]
    },
    {
      "cell_type": "code",
      "metadata": {
        "id": "5uQmjjwpXjBI",
        "colab_type": "code",
        "colab": {
          "base_uri": "https://localhost:8080/",
          "height": 173
        },
        "outputId": "0a120ee3-ae1e-4b00-861f-a5bff9a72ac1"
      },
      "source": [
        "largest = None\n",
        "smallest = None\n",
        "while True:\n",
        "    try:\n",
        "      num = input(\"Enter a number: \")\n",
        "      if num == 'done':\n",
        "        break\n",
        "      elif smallest == None:\n",
        "        smallest = int(num)\n",
        "        largest = int(num)\n",
        "      elif int(num)<smallest:\n",
        "        smallest = int(num)\n",
        "      elif int(num)>largest:\n",
        "        largest = int(num)\n",
        "    except:\n",
        "      print('Invalid input')\n",
        "      continue\n",
        "\n",
        "print(\"Maximum is\", largest)\n",
        "print(\"Minimum is\", smallest)"
      ],
      "execution_count": null,
      "outputs": [
        {
          "output_type": "stream",
          "text": [
            "Enter a number: 7\n",
            "Enter a number: 2\n",
            "Enter a number: bob\n",
            "Invalid input\n",
            "Enter a number: 10\n",
            "Enter a number: 4\n",
            "Enter a number: done\n",
            "Maximum is 10\n",
            "Minimum is 2\n"
          ],
          "name": "stdout"
        }
      ]
    },
    {
      "cell_type": "markdown",
      "metadata": {
        "id": "GiCren5NVAYL",
        "colab_type": "text"
      },
      "source": [
        "#Segon curs: Python Data Structures"
      ]
    },
    {
      "cell_type": "markdown",
      "metadata": {
        "id": "2ZIWc0ruWAQ1",
        "colab_type": "text"
      },
      "source": [
        "##Sessió 1"
      ]
    },
    {
      "cell_type": "markdown",
      "metadata": {
        "id": "nFQYpqYCWDav",
        "colab_type": "text"
      },
      "source": [
        "###Strings: *len( )*, slicing, operador lògic *in*, etc."
      ]
    },
    {
      "cell_type": "code",
      "metadata": {
        "id": "kownnH4aVHfR",
        "colab_type": "code",
        "colab": {
          "base_uri": "https://localhost:8080/",
          "height": 35
        },
        "outputId": "8447fbe4-454e-47b1-eca4-28c546490aa8"
      },
      "source": [
        "#segurament ja les coneixes, seria l'equivalent a tenir text,\n",
        "#tot i que un seguit de números també pot ser una string\n",
        "\n",
        "#es poden sumar\n",
        "string1 = 'Hello'\n",
        "string2 = ' World'\n",
        "print(string1+string2)"
      ],
      "execution_count": null,
      "outputs": [
        {
          "output_type": "stream",
          "text": [
            "Hello World\n"
          ],
          "name": "stdout"
        }
      ]
    },
    {
      "cell_type": "code",
      "metadata": {
        "id": "jtSYP5PFWfyL",
        "colab_type": "code",
        "colab": {
          "base_uri": "https://localhost:8080/",
          "height": 52
        },
        "outputId": "f25f4f37-a3bd-45e9-fc63-457a3323712a"
      },
      "source": [
        "#si vols sumar números has de vigilar de no tenir-los com a string\n",
        "#recorda que el try s'executa si tot va bé, si dóna error salta l'except\n",
        "try:\n",
        "  str3 = '12'\n",
        "  print(str3+1)\n",
        "  print('Sí es pot sumar')\n",
        "except:\n",
        "  str3 = '12'\n",
        "  print(int(str3)+1)\n",
        "  print('Cal convertir la string en un integrer o float per poder sumar')"
      ],
      "execution_count": null,
      "outputs": [
        {
          "output_type": "stream",
          "text": [
            "13\n",
            "Cal convertir la string en un integrer o float per poder sumar\n"
          ],
          "name": "stdout"
        }
      ]
    },
    {
      "cell_type": "markdown",
      "metadata": {
        "id": "08SoxCEuXUq9",
        "colab_type": "text"
      },
      "source": [
        "També cal recordar que tots els inputs són de tipus string: "
      ]
    },
    {
      "cell_type": "code",
      "metadata": {
        "id": "wnbdOvVtXA55",
        "colab_type": "code",
        "colab": {
          "base_uri": "https://localhost:8080/",
          "height": 52
        },
        "outputId": "05a9d392-9a69-410a-91ac-1684f9d410a6"
      },
      "source": [
        "#aprofitem per veure la funció interna type() per saber quin tipus d'objecte tenim\n",
        "x = input('Escriu algo: ')\n",
        "if type(x) == str:\n",
        "  print('És una string')\n",
        "else:\n",
        "  print('No és una string')"
      ],
      "execution_count": null,
      "outputs": [
        {
          "output_type": "stream",
          "text": [
            "Escriu algo: blablabla\n",
            "És una string\n"
          ],
          "name": "stdout"
        }
      ]
    },
    {
      "cell_type": "markdown",
      "metadata": {
        "id": "vCX6opkuZTDZ",
        "colab_type": "text"
      },
      "source": [
        "Ara veurem com jugar una mica amb els elements de una string, serà semblant al tractament de llistes que segurament farem més endavant."
      ]
    },
    {
      "cell_type": "code",
      "metadata": {
        "id": "y_ygUgSBYA8w",
        "colab_type": "code",
        "colab": {
          "base_uri": "https://localhost:8080/",
          "height": 52
        },
        "outputId": "d8ea71a3-3ad6-4ac3-d882-23759ff7d3d9"
      },
      "source": [
        "#important recordar que el primer terme és el 0\n",
        "#veiem que \"nom de la string\"[número] ens dóna aquell element de la string\n",
        "#notar també que si ens passem, no torna al principi (no és cíclic) sinó que donarà error\n",
        "fruit = 'banana'\n",
        "lletra_u = fruit[0]\n",
        "lletra_dos = fruit[1]\n",
        "print(lletra_u)\n",
        "print(lletra_dos)"
      ],
      "execution_count": null,
      "outputs": [
        {
          "output_type": "stream",
          "text": [
            "b\n",
            "a\n"
          ],
          "name": "stdout"
        }
      ]
    },
    {
      "cell_type": "markdown",
      "metadata": {
        "id": "llcyAcQZdtrW",
        "colab_type": "text"
      },
      "source": [
        "####*len( )*"
      ]
    },
    {
      "cell_type": "code",
      "metadata": {
        "id": "KlDY7__qaRV4",
        "colab_type": "code",
        "colab": {
          "base_uri": "https://localhost:8080/",
          "height": 35
        },
        "outputId": "7b4e70e4-7d70-42ff-9467-0f085a2f648a"
      },
      "source": [
        "#per saber la longitud d'una cadena (string) hi ha la funció interna len(string)\n",
        "fruit = 'banana'\n",
        "llargada = len(fruit)\n",
        "print(llargada)"
      ],
      "execution_count": null,
      "outputs": [
        {
          "output_type": "stream",
          "text": [
            "6\n"
          ],
          "name": "stdout"
        }
      ]
    },
    {
      "cell_type": "code",
      "metadata": {
        "id": "eE6rHoduannZ",
        "colab_type": "code",
        "colab": {
          "base_uri": "https://localhost:8080/",
          "height": 121
        },
        "outputId": "8c23292d-85db-4830-9610-6ea8aeb29111"
      },
      "source": [
        "fruit = 'banana'\n",
        "index = 0\n",
        "while index < len(fruit):\n",
        "  print(index,fruit[index])\n",
        "  index +=1\n",
        "#recordem que això últim equivaldria a posar index = index + 1\n",
        "#són truquitos interessants hehe"
      ],
      "execution_count": null,
      "outputs": [
        {
          "output_type": "stream",
          "text": [
            "0 b\n",
            "1 a\n",
            "2 n\n",
            "3 a\n",
            "4 n\n",
            "5 a\n"
          ],
          "name": "stdout"
        }
      ]
    },
    {
      "cell_type": "markdown",
      "metadata": {
        "id": "4JuaAEtJbsK4",
        "colab_type": "text"
      },
      "source": [
        "T'ensenyo el *while* per anar repassant i perquè surt al curs, però amb el for queda millor:"
      ]
    },
    {
      "cell_type": "code",
      "metadata": {
        "id": "109HE05bbeKN",
        "colab_type": "code",
        "colab": {
          "base_uri": "https://localhost:8080/",
          "height": 121
        },
        "outputId": "e2dca749-a4b1-47cc-93eb-bf7f5a1089bb"
      },
      "source": [
        "#recordem que amb el for és fàcil manar on començar, on acabar i ell sol\n",
        "#ja et va actualitzant el compte del que sigui per avançar cap a un final\n",
        "fruit = 'banana'\n",
        "for i in fruit:\n",
        "  print(i)"
      ],
      "execution_count": null,
      "outputs": [
        {
          "output_type": "stream",
          "text": [
            "b\n",
            "a\n",
            "n\n",
            "a\n",
            "n\n",
            "a\n"
          ],
          "name": "stdout"
        }
      ]
    },
    {
      "cell_type": "markdown",
      "metadata": {
        "id": "_O5C975ZdjfA",
        "colab_type": "text"
      },
      "source": [
        "####Slicing"
      ]
    },
    {
      "cell_type": "markdown",
      "metadata": {
        "id": "JJ8Jgtixdzf_",
        "colab_type": "text"
      },
      "source": [
        "Slicing bàsicament vol dir **tallar**, és molt senzill tot i que pot costar acostumar-se als índexs. string[0:4] per exemple ens donaria des del primer terme fins al anterior del que es troba en posició 4 (la posició 4, al començar al 0, és el cinquè\n",
        "$\\implies$ ens donarà des del primer al quart element."
      ]
    },
    {
      "cell_type": "code",
      "metadata": {
        "id": "rB5fbhu0b5ce",
        "colab_type": "code",
        "colab": {
          "base_uri": "https://localhost:8080/",
          "height": 35
        },
        "outputId": "e1fbe131-621a-430c-f53d-ea4f68d87c38"
      },
      "source": [
        "fruit = 'bananas are yellow'\n",
        "print(fruit[0:4])"
      ],
      "execution_count": null,
      "outputs": [
        {
          "output_type": "stream",
          "text": [
            "bana\n"
          ],
          "name": "stdout"
        }
      ]
    },
    {
      "cell_type": "code",
      "metadata": {
        "id": "30x3cIJzerC-",
        "colab_type": "code",
        "colab": {
          "base_uri": "https://localhost:8080/",
          "height": 35
        },
        "outputId": "5b00f6e9-4877-4ffa-a30e-27bc38c14496"
      },
      "source": [
        "#si et passes d'index, en aquesta situació no passa res, no dóna error\n",
        "paraula_curta = 'this is short'\n",
        "print(paraula_curta[3:400])"
      ],
      "execution_count": null,
      "outputs": [
        {
          "output_type": "stream",
          "text": [
            "s is short\n"
          ],
          "name": "stdout"
        }
      ]
    },
    {
      "cell_type": "markdown",
      "metadata": {
        "id": "ttAmFacmfLzl",
        "colab_type": "text"
      },
      "source": [
        "No sempre cal posar els índexs, si vols començar al principi, acabar al final o agafar-ho tot, no cal posar res:)"
      ]
    },
    {
      "cell_type": "code",
      "metadata": {
        "id": "sB58qXR_f7ba",
        "colab_type": "code",
        "colab": {
          "base_uri": "https://localhost:8080/",
          "height": 69
        },
        "outputId": "41e3d08c-d788-49c1-8591-09935a343777"
      },
      "source": [
        "st = '1234567890'\n",
        "print('Des del principi al 5è terme seria així:', st[:5])\n",
        "print('Des del 5è terme al final seria així:', st[4:])\n",
        "print('Tots els termes serien així:', st[:], '. O bé així:', st)"
      ],
      "execution_count": null,
      "outputs": [
        {
          "output_type": "stream",
          "text": [
            "Des del principi al 5è terme seria així: 12345\n",
            "Des del 5è terme al final seria així: 567890\n",
            "Tots els termes serien així: 1234567890 . O bé així: 1234567890\n"
          ],
          "name": "stdout"
        }
      ]
    },
    {
      "cell_type": "markdown",
      "metadata": {
        "id": "jj3yKvyBLme-",
        "colab_type": "text"
      },
      "source": [
        "####Operador lògic *in*"
      ]
    },
    {
      "cell_type": "code",
      "metadata": {
        "id": "w1PLTJvgLqro",
        "colab_type": "code",
        "colab": {
          "base_uri": "https://localhost:8080/",
          "height": 35
        },
        "outputId": "7695e9d6-636a-4090-aba9-c267234a01c5"
      },
      "source": [
        "#hem utilitzat ja in per processos iteratius, tembé el podem fer servir \n",
        "#en condicionals com a operador lògic\n",
        "color = 'blau'\n",
        "if 'a' in color:\n",
        "  print('té una a')"
      ],
      "execution_count": null,
      "outputs": [
        {
          "output_type": "stream",
          "text": [
            "té una a\n"
          ],
          "name": "stdout"
        }
      ]
    },
    {
      "cell_type": "markdown",
      "metadata": {
        "id": "7gbysF7SiV5i",
        "colab_type": "text"
      },
      "source": [
        "###Manipulating strings"
      ]
    },
    {
      "cell_type": "markdown",
      "metadata": {
        "id": "_SKSiDUdMkzc",
        "colab_type": "text"
      },
      "source": [
        "####Funcions internes per strings"
      ]
    },
    {
      "cell_type": "code",
      "metadata": {
        "id": "xTNaqh8Ggjo_",
        "colab_type": "code",
        "colab": {
          "base_uri": "https://localhost:8080/",
          "height": 87
        },
        "outputId": "0f72e1ce-22ff-4185-b6bd-2d43e2e34535"
      },
      "source": [
        "#la funció string.lower() t'ho passa tot a minúscula\n",
        "frase = 'Hola el meu nom és Arnau i sóc de Terrassa'\n",
        "minus = frase.lower()\n",
        "print(minus)\n",
        "\n",
        "#fixa't que no et modifica la string que tens sinó que crea una còpia\n",
        "#si modifiqués la string, ara sortiria en minúscules\n",
        "print(frase)\n",
        "\n",
        "#també funciona amb una string directament\n",
        "print('Minúscules DirectaMent'.lower())\n",
        "\n",
        "#el contrari seria string.upper()\n",
        "frase2 = 'ale posa això en majúscules'\n",
        "print(frase2.upper())"
      ],
      "execution_count": null,
      "outputs": [
        {
          "output_type": "stream",
          "text": [
            "hola el meu nom és arnau i sóc de terrassa\n",
            "Hola el meu nom és Arnau i sóc de Terrassa\n",
            "minúscules directament\n",
            "ALE POSA AIXÒ EN MAJÚSCULES\n"
          ],
          "name": "stdout"
        }
      ]
    },
    {
      "cell_type": "markdown",
      "metadata": {
        "id": "2y8xnprtORs5",
        "colab_type": "text"
      },
      "source": [
        "Com hem vist anteriorment, *type(objecte)* et diu el tipus d'objecte, pot ser una funció, integrer, float, string...\n",
        "Per saber què podem fer amb un objecte (funcions internes) tenim el *dir(objecte)* que ens dóna totes les possibilitats. SI tenim curiositat sobre alguna només cal googlejar-la.\n",
        "https://docs.python.org/3/library"
      ]
    },
    {
      "cell_type": "code",
      "metadata": {
        "id": "UyFt7gYdM1o3",
        "colab_type": "code",
        "colab": {
          "base_uri": "https://localhost:8080/",
          "height": 1000
        },
        "outputId": "7850ef04-291f-4051-dd1e-f0ed5c711cf2"
      },
      "source": [
        "llibre = '¿Está usted de broma, Sr. Feynman?'\n",
        "type(llibre)\n",
        "dir(llibre)"
      ],
      "execution_count": null,
      "outputs": [
        {
          "output_type": "execute_result",
          "data": {
            "text/plain": [
              "['__add__',\n",
              " '__class__',\n",
              " '__contains__',\n",
              " '__delattr__',\n",
              " '__dir__',\n",
              " '__doc__',\n",
              " '__eq__',\n",
              " '__format__',\n",
              " '__ge__',\n",
              " '__getattribute__',\n",
              " '__getitem__',\n",
              " '__getnewargs__',\n",
              " '__gt__',\n",
              " '__hash__',\n",
              " '__init__',\n",
              " '__init_subclass__',\n",
              " '__iter__',\n",
              " '__le__',\n",
              " '__len__',\n",
              " '__lt__',\n",
              " '__mod__',\n",
              " '__mul__',\n",
              " '__ne__',\n",
              " '__new__',\n",
              " '__reduce__',\n",
              " '__reduce_ex__',\n",
              " '__repr__',\n",
              " '__rmod__',\n",
              " '__rmul__',\n",
              " '__setattr__',\n",
              " '__sizeof__',\n",
              " '__str__',\n",
              " '__subclasshook__',\n",
              " 'capitalize',\n",
              " 'casefold',\n",
              " 'center',\n",
              " 'count',\n",
              " 'encode',\n",
              " 'endswith',\n",
              " 'expandtabs',\n",
              " 'find',\n",
              " 'format',\n",
              " 'format_map',\n",
              " 'index',\n",
              " 'isalnum',\n",
              " 'isalpha',\n",
              " 'isdecimal',\n",
              " 'isdigit',\n",
              " 'isidentifier',\n",
              " 'islower',\n",
              " 'isnumeric',\n",
              " 'isprintable',\n",
              " 'isspace',\n",
              " 'istitle',\n",
              " 'isupper',\n",
              " 'join',\n",
              " 'ljust',\n",
              " 'lower',\n",
              " 'lstrip',\n",
              " 'maketrans',\n",
              " 'partition',\n",
              " 'replace',\n",
              " 'rfind',\n",
              " 'rindex',\n",
              " 'rjust',\n",
              " 'rpartition',\n",
              " 'rsplit',\n",
              " 'rstrip',\n",
              " 'split',\n",
              " 'splitlines',\n",
              " 'startswith',\n",
              " 'strip',\n",
              " 'swapcase',\n",
              " 'title',\n",
              " 'translate',\n",
              " 'upper',\n",
              " 'zfill']"
            ]
          },
          "metadata": {
            "tags": []
          },
          "execution_count": 6
        }
      ]
    },
    {
      "cell_type": "markdown",
      "metadata": {
        "id": "IB68VX5cPi4z",
        "colab_type": "text"
      },
      "source": [
        "Altres opcions són:"
      ]
    },
    {
      "cell_type": "code",
      "metadata": {
        "id": "qhrlLAfgOu08",
        "colab_type": "code",
        "colab": {
          "base_uri": "https://localhost:8080/",
          "height": 52
        },
        "outputId": "875292f6-0033-4978-ceab-71e000b4196d"
      },
      "source": [
        "print('aquesta posa en majúscula només la primera'.capitalize())\n",
        "print('EXEmPLE SECunDARI'.capitalize())"
      ],
      "execution_count": null,
      "outputs": [
        {
          "output_type": "stream",
          "text": [
            "Aquesta posa en majúscula només la primera\n",
            "Exemple secundari\n"
          ],
          "name": "stdout"
        }
      ]
    },
    {
      "cell_type": "code",
      "metadata": {
        "id": "FJmMCMxfPu_u",
        "colab_type": "code",
        "colab": {
          "base_uri": "https://localhost:8080/",
          "height": 52
        },
        "outputId": "231d5482-9d6e-4974-95a7-a312efafa1ed"
      },
      "source": [
        "#molt rellevant, string.find()\n",
        "#aquesta és com l'in però enlloc de dir si la cosa està a dins o no,\n",
        "#et diu a quina posició està, i si no ho troba torna un -1\n",
        "#només troba un cop l'element que li dius, el primer lloc on apareix\n",
        "print(\"A veure si trobes alguna i\".find('i'))\n",
        "print(\"A ver si trobes la segona lletra del nom de l'enano\".find('u'))"
      ],
      "execution_count": null,
      "outputs": [
        {
          "output_type": "stream",
          "text": [
            "9\n",
            "-1\n"
          ],
          "name": "stdout"
        }
      ]
    },
    {
      "cell_type": "code",
      "metadata": {
        "id": "j7Nf21hIQctg",
        "colab_type": "code",
        "colab": {
          "base_uri": "https://localhost:8080/",
          "height": 35
        },
        "outputId": "97d6a781-c658-4ca2-c883-ab336ed9a73e"
      },
      "source": [
        "#també rellevant string.replace()\n",
        "#busca i substitueix a tot arreu on troba la entrada\n",
        "#fa una còpia de l'original, aquesta no te la toca\n",
        "z = 'Hello World'\n",
        "print(z.replace('o', 'x'))\n"
      ],
      "execution_count": null,
      "outputs": [
        {
          "output_type": "stream",
          "text": [
            "Hellx Wxrld\n"
          ],
          "name": "stdout"
        }
      ]
    },
    {
      "cell_type": "code",
      "metadata": {
        "id": "3jvRmaA0RvKu",
        "colab_type": "code",
        "colab": {
          "base_uri": "https://localhost:8080/",
          "height": 69
        },
        "outputId": "f0f6b08a-f0ed-45c8-ab86-3a11ed6d1579"
      },
      "source": [
        "#per eliminar \"whitespaces\", per exemple els espais, hi ha tmb funcions\n",
        "#pots eliminar espais a la dreta, a l'esquerra o tots\n",
        "saludo = '  Buenas papa     '\n",
        "print(saludo.lstrip()) #treu a l'esquerra (left)\n",
        "print(saludo.rstrip())  #treu a la dreta (right)\n",
        "print(saludo.strip()) #treu els de les dues bandes"
      ],
      "execution_count": null,
      "outputs": [
        {
          "output_type": "stream",
          "text": [
            "Buenas papa     \n",
            "  Buenas papa\n",
            "Buenas papa\n"
          ],
          "name": "stdout"
        }
      ]
    },
    {
      "cell_type": "code",
      "metadata": {
        "id": "12GtNjJxSj98",
        "colab_type": "code",
        "colab": {
          "base_uri": "https://localhost:8080/",
          "height": 52
        },
        "outputId": "dd1290d7-6779-4451-b7a5-7cb081dc1d81"
      },
      "source": [
        "#per trobar prefixos\n",
        "y = 'Ja ns què més posar'\n",
        "print(y.startswith('Ja ns'))\n",
        "print(y.startswith('j')) #majúscules i minúscules es diferencien"
      ],
      "execution_count": null,
      "outputs": [
        {
          "output_type": "stream",
          "text": [
            "True\n",
            "False\n"
          ],
          "name": "stdout"
        }
      ]
    },
    {
      "cell_type": "markdown",
      "metadata": {
        "id": "tJ-MB7HeTwT6",
        "colab_type": "text"
      },
      "source": [
        "Si per exemple vull trobar un tros de text i conec quines característiques ha de tenir, com el final d'un correu electrònic:"
      ]
    },
    {
      "cell_type": "code",
      "metadata": {
        "id": "vmOJ_xiETJXU",
        "colab_type": "code",
        "colab": {
          "base_uri": "https://localhost:8080/",
          "height": 35
        },
        "outputId": "9d9b9337-79c5-4bf5-81ab-4da8d8773011"
      },
      "source": [
        "mail = \"El meu correu és tal.pasqual@mail.cat i m'hi connecto cada dia\"\n",
        "inici = mail.find('@')\n",
        "final = mail.find(' ', inici) #li puc dir on vull que comenci a buscar\n",
        "print(mail[inici+1:final])"
      ],
      "execution_count": null,
      "outputs": [
        {
          "output_type": "stream",
          "text": [
            "mail.cat\n"
          ],
          "name": "stdout"
        }
      ]
    },
    {
      "cell_type": "markdown",
      "metadata": {
        "id": "kyraro_tWhhv",
        "colab_type": "text"
      },
      "source": [
        "####Exercici final"
      ]
    },
    {
      "cell_type": "markdown",
      "metadata": {
        "id": "tbEUawk6Wj6D",
        "colab_type": "text"
      },
      "source": [
        "**Write code using find() and string slicing (see section 6.10) to extract the number at the end of the line below. Convert the extracted value to a floating point number and print it out.**"
      ]
    },
    {
      "cell_type": "code",
      "metadata": {
        "id": "by0-wyrtWm-S",
        "colab_type": "code",
        "colab": {
          "base_uri": "https://localhost:8080/",
          "height": 35
        },
        "outputId": "88264b98-e448-43c9-9082-096ee994b732"
      },
      "source": [
        "text = \"X-DSPAM-Confidence:    0.8475\";\n",
        "inici = text.find('0')\n",
        "print(float(text[inici:]))"
      ],
      "execution_count": null,
      "outputs": [
        {
          "output_type": "stream",
          "text": [
            "0.8475\n"
          ],
          "name": "stdout"
        }
      ]
    },
    {
      "cell_type": "markdown",
      "metadata": {
        "id": "CYnn8URMXLTY",
        "colab_type": "text"
      },
      "source": [
        "##Sessió 2"
      ]
    },
    {
      "cell_type": "markdown",
      "metadata": {
        "id": "9hpLMV1EYpwy",
        "colab_type": "text"
      },
      "source": [
        "Sessió 3 del curs, la 2 era sobre instalar python i fer captures de pantalla."
      ]
    },
    {
      "cell_type": "code",
      "metadata": {
        "id": "iHR2_2rzQ18k",
        "colab_type": "code",
        "colab": {
          "base_uri": "https://localhost:8080/",
          "height": 35
        },
        "outputId": "67f50391-a212-466b-c183-055e6ab96bf8"
      },
      "source": [
        "text = \"aixo $\\\\$ es un text $\\\\$ amb unes linies $\\\\$ diferents en cada $\\\\$ cas\"\n",
        "count=0\n",
        "for line in text:\n",
        "  count=count+1\n",
        "\n",
        "print(count)\n",
        "\n",
        "#caldria tenir text=open(document) i contaria línies enlloc de termes\n",
        "#es poden posar if amb per exemple line.startswith(' amb') per imprimir només certes línies\n",
        "#si imprimeixes línies i surten molt separades cal un line.rstrip() per eliminar el salt de línia,\n",
        "#el print() ja en posa un i es dupliquen"
      ],
      "execution_count": null,
      "outputs": [
        {
          "output_type": "stream",
          "text": [
            "69\n"
          ],
          "name": "stdout"
        }
      ]
    },
    {
      "cell_type": "markdown",
      "metadata": {
        "id": "Et5axIHnfAb4",
        "colab_type": "text"
      },
      "source": [
        "###Entrega 1 de la setmana"
      ]
    },
    {
      "cell_type": "markdown",
      "metadata": {
        "id": "VBihLbRWY7JI",
        "colab_type": "text"
      },
      "source": [
        " Write a program that prompts for a file name, then opens that file and reads through the file, and print the contents of the file in upper case. Use the file words.txt to produce the output below.\n",
        "You can download the sample data at http://www.py4e.com/code3/words.txt"
      ]
    },
    {
      "cell_type": "code",
      "metadata": {
        "id": "MobAddQ4W8ma",
        "colab_type": "code",
        "colab": {
          "base_uri": "https://localhost:8080/",
          "height": 451
        },
        "outputId": "d0669d6c-a0d4-49af-d5fd-d2d2a994d204"
      },
      "source": [
        "# Use words.txt as the file name\n",
        "fname = input(\"Enter file name: \")\n",
        "fh = open(fname)\n",
        "for line in fh:\n",
        "    line=line.rstrip().upper()\n",
        "    print(line)"
      ],
      "execution_count": null,
      "outputs": [
        {
          "output_type": "stream",
          "text": [
            "Enter file name: words.txt\n",
            "WRITING PROGRAMS OR PROGRAMMING IS A VERY CREATIVE\n",
            "AND REWARDING ACTIVITY  YOU CAN WRITE PROGRAMS FOR\n",
            "MANY REASONS RANGING FROM MAKING YOUR LIVING TO SOLVING\n",
            "A DIFFICULT DATA ANALYSIS PROBLEM TO HAVING FUN TO HELPING\n",
            "SOMEONE ELSE SOLVE A PROBLEM  THIS BOOK ASSUMES THAT\n",
            "{\\EM EVERYONE} NEEDS TO KNOW HOW TO PROGRAM AND THAT ONCE\n",
            "YOU KNOW HOW TO PROGRAM, YOU WILL FIGURE OUT WHAT YOU WANT\n",
            "TO DO WITH YOUR NEWFOUND SKILLS\n",
            "\n",
            "WE ARE SURROUNDED IN OUR DAILY LIVES WITH COMPUTERS RANGING\n",
            "FROM LAPTOPS TO CELL PHONES  WE CAN THINK OF THESE COMPUTERS\n",
            "AS OUR PERSONAL ASSISTANTS WHO CAN TAKE CARE OF MANY THINGS\n",
            "ON OUR BEHALF  THE HARDWARE IN OUR CURRENT-DAY COMPUTERS\n",
            "IS ESSENTIALLY BUILT TO CONTINUOUSLY ASK US THE QUESTION\n",
            "WHAT WOULD YOU LIKE ME TO DO NEXT\n",
            "\n",
            "OUR COMPUTERS ARE FAST AND HAVE VASTS AMOUNTS OF MEMORY AND\n",
            "COULD BE VERY HELPFUL TO US IF WE ONLY KNEW THE LANGUAGE TO\n",
            "SPEAK TO EXPLAIN TO THE COMPUTER WHAT WE WOULD LIKE IT TO\n",
            "DO NEXT IF WE KNEW THIS LANGUAGE WE COULD TELL THE\n",
            "COMPUTER TO DO TASKS ON OUR BEHALF THAT WERE REPTITIVE\n",
            "INTERESTINGLY, THE KINDS OF THINGS COMPUTERS CAN DO BEST\n",
            "ARE OFTEN THE KINDS OF THINGS THAT WE HUMANS FIND BORING\n",
            "AND MIND-NUMBING\n"
          ],
          "name": "stdout"
        }
      ]
    },
    {
      "cell_type": "markdown",
      "metadata": {
        "id": "mubW9QUYfImz",
        "colab_type": "text"
      },
      "source": [
        "###Entrega 2 de la setmana"
      ]
    },
    {
      "cell_type": "markdown",
      "metadata": {
        "id": "35Js5-ROeEIQ",
        "colab_type": "text"
      },
      "source": [
        "Write a program that prompts for a file name, then opens that file and reads through the file, looking for lines of the form:\n",
        "X-DSPAM-Confidence:    0.8475\n",
        "Count these lines and extract the floating point values from each of the lines and compute the average of those values and produce an output as shown below. Do not use the sum() function or a variable named sum in your solution.\n",
        "You can download the sample data at http://www.py4e.com/code3/mbox-short.txt when you are testing below enter mbox-short.txt as the file name."
      ]
    },
    {
      "cell_type": "code",
      "metadata": {
        "id": "txtVvW9ceFU4",
        "colab_type": "code",
        "colab": {
          "base_uri": "https://localhost:8080/",
          "height": 52
        },
        "outputId": "5b717841-f50a-413a-a4c1-d07c51f5eb82"
      },
      "source": [
        "# Use the file name mbox-short.txt as the file name\n",
        "fname = input(\"Enter file name: \")\n",
        "fh = open(fname)\n",
        "valor=0\n",
        "count=0\n",
        "for line in fh:\n",
        "    if line.startswith(\"X-DSPAM-Confidence:\"):\n",
        "    \tinici= line.find(':')+1\n",
        "    \tvalor=valor+float(line[inici:])\n",
        "    \tcount=count+1\n",
        "    else:\n",
        "        continue\n",
        "average=valor/count    \n",
        "print(\"Average spam confidence:\",average)"
      ],
      "execution_count": null,
      "outputs": [
        {
          "output_type": "stream",
          "text": [
            "Enter file name: mbox-short.txt\n",
            "Average spam confidence: 0.7507185185185187\n"
          ],
          "name": "stdout"
        }
      ]
    },
    {
      "cell_type": "markdown",
      "metadata": {
        "id": "wr2PAT9_fP6d",
        "colab_type": "text"
      },
      "source": [
        "##Sessió 3"
      ]
    },
    {
      "cell_type": "markdown",
      "metadata": {
        "id": "foDXh-evsOSY",
        "colab_type": "text"
      },
      "source": [
        "###Llistes"
      ]
    },
    {
      "cell_type": "markdown",
      "metadata": {
        "id": "RbVrY4sxsu1_",
        "colab_type": "text"
      },
      "source": [
        "Són col·leccions d'una sola variable, s'expressen entre [ ]. Els elements en una llista se separen per comes (,), podem tenir tot tipus d'objectes dins de llistes, fins i tot altres llistes. També existeixen llistes buides. \\\\\n",
        "Recordem que tot i que $strings$ no són mutables, les llistes sí ho són. "
      ]
    },
    {
      "cell_type": "code",
      "metadata": {
        "id": "p3LeMFJ7sP7K",
        "colab_type": "code",
        "colab": {
          "base_uri": "https://localhost:8080/"
        },
        "outputId": "56cd617c-bc88-4c3e-8f8a-fea341305607"
      },
      "source": [
        "buida=[]\n",
        "print(len(buida)) #per saber quants elements tenim a la llista\n",
        "\n",
        "buida2=list()\n",
        "print(len(buida2))"
      ],
      "execution_count": null,
      "outputs": [
        {
          "output_type": "stream",
          "text": [
            "0\n",
            "0\n"
          ],
          "name": "stdout"
        }
      ]
    },
    {
      "cell_type": "code",
      "metadata": {
        "id": "lmkB5FhHrc_y",
        "colab_type": "code",
        "colab": {
          "base_uri": "https://localhost:8080/"
        },
        "outputId": "f4403925-4d2b-4c67-e088-9bb89247f164"
      },
      "source": [
        "#recordem que les llistes es poden cridar per indexs\n",
        "list=[1,2,3,4,5,6,7,8,9]\n",
        "print('Primer terme:',list[0], ', del 2n al 4t terme:', list[2:5], ', últim terme:', list[-1])\n",
        "print('Intervals de termes:', list[:6])\n",
        "print(list[2:])\n",
        "#com s'ha vist abans, el darrer terme  indica \"fins aquí però sense incloure'l\""
      ],
      "execution_count": null,
      "outputs": [
        {
          "output_type": "stream",
          "text": [
            "Primer terme: 1 , del 2n al 4t terme: [3, 4, 5] , últim terme: 9\n",
            "Intervals de termes: [1, 2, 3, 4, 5, 6]\n",
            "[3, 4, 5, 6, 7, 8, 9]\n"
          ],
          "name": "stdout"
        }
      ]
    },
    {
      "cell_type": "markdown",
      "metadata": {
        "id": "so51AldqvA5C",
        "colab_type": "text"
      },
      "source": [
        "####Suma de llistes"
      ]
    },
    {
      "cell_type": "code",
      "metadata": {
        "id": "knOsQad1vEg_",
        "colab_type": "code",
        "colab": {
          "base_uri": "https://localhost:8080/"
        },
        "outputId": "3c2fbc2a-986c-447e-fb5f-856becf6c5d8"
      },
      "source": [
        "#se sumen com les strings\n",
        "a=[1,2,3]\n",
        "b=[6,7,8]\n",
        "print(a+b)"
      ],
      "execution_count": null,
      "outputs": [
        {
          "output_type": "stream",
          "text": [
            "[1, 2, 3, 6, 7, 8]\n"
          ],
          "name": "stdout"
        }
      ]
    },
    {
      "cell_type": "markdown",
      "metadata": {
        "id": "YKC0WjoHu7Qs",
        "colab_type": "text"
      },
      "source": [
        "####Funció *range( )* i *len( )*"
      ]
    },
    {
      "cell_type": "code",
      "metadata": {
        "id": "hyLNFT21uSbb",
        "colab_type": "code",
        "colab": {
          "base_uri": "https://localhost:8080/",
          "height": 35
        },
        "outputId": "ede8df94-6e32-4305-f977-1bf07e66bb7e"
      },
      "source": [
        "llista = [3,4,5]\n",
        "print(range(len(llista))) #comença contant per 0 i fins al nombre final que es posa-1"
      ],
      "execution_count": null,
      "outputs": [
        {
          "output_type": "stream",
          "text": [
            "range(0, 3)\n"
          ],
          "name": "stdout"
        }
      ]
    },
    {
      "cell_type": "code",
      "metadata": {
        "id": "FcADoHZKvBfJ",
        "colab_type": "code",
        "colab": {
          "base_uri": "https://localhost:8080/",
          "height": 156
        },
        "outputId": "46d7e1ec-197e-46f7-bf66-9d0561fd06fd"
      },
      "source": [
        "familia = ['Javi', 'Oriol', 'Eudald', 'Marta']\n",
        "for i in familia:\n",
        "  print('Feliç pany nou', i)\n",
        "for i in range(len(familia)):\n",
        "  membre=familia[i]\n",
        "  print('Feliç pany deu', membre)\n"
      ],
      "execution_count": null,
      "outputs": [
        {
          "output_type": "stream",
          "text": [
            "Feliç pany nou Javi\n",
            "Feliç pany nou Oriol\n",
            "Feliç pany nou Eudald\n",
            "Feliç pany nou Marta\n",
            "Feliç pany deu Javi\n",
            "Feliç pany deu Oriol\n",
            "Feliç pany deu Eudald\n",
            "Feliç pany deu Marta\n"
          ],
          "name": "stdout"
        }
      ]
    },
    {
      "cell_type": "markdown",
      "metadata": {
        "id": "ZmnI6QSFvw2f",
        "colab_type": "text"
      },
      "source": [
        "####*.append( )* i *.sort( )*"
      ]
    },
    {
      "cell_type": "code",
      "metadata": {
        "id": "ouKRJWonwAD8",
        "colab_type": "code",
        "colab": {
          "base_uri": "https://localhost:8080/"
        },
        "outputId": "1eff5191-cd59-4038-e860-6a40350de09a"
      },
      "source": [
        "#llista.append(coses) per afegir coses al final de la llista\n",
        "nj = []\n",
        "dir(nj)\n",
        "nj.append('bjl')\n",
        "nj.append('ahjb')\n",
        "nj.append('bji')\n",
        "#per odenar llista.sort()\n",
        "print(1,nj.sort()) #no funciona així, cal donar-li un nom\n",
        "nj.sort()\n",
        "print(2,nj)"
      ],
      "execution_count": null,
      "outputs": [
        {
          "output_type": "stream",
          "text": [
            "1 None\n",
            "2 ['ahjb', 'bji', 'bjl']\n"
          ],
          "name": "stdout"
        }
      ]
    },
    {
      "cell_type": "markdown",
      "metadata": {
        "id": "DSVFNyNWy0Tv",
        "colab_type": "text"
      },
      "source": [
        "####Altres: *max( )*, *min( )*, *sum( )*"
      ]
    },
    {
      "cell_type": "code",
      "metadata": {
        "id": "qF7mXnp-y8yS",
        "colab_type": "code",
        "colab": {
          "base_uri": "https://localhost:8080/"
        },
        "outputId": "7c344187-ec3a-4287-fe7c-5dbcc79bb6a2"
      },
      "source": [
        "perfer_mitjana = [3,5,4,5,56,43,23,11]\n",
        "print('Màxim:', max(perfer_mitjana))\n",
        "print('Mínim:', min(perfer_mitjana))\n",
        "print('Suma:', sum(perfer_mitjana))\n",
        "print('Mitjana:', sum(perfer_mitjana)/len(perfer_mitjana))"
      ],
      "execution_count": null,
      "outputs": [
        {
          "output_type": "stream",
          "text": [
            "Màxim: 56\n",
            "Mínim: 3\n",
            "Suma: 150\n",
            "Mitjana: 18.75\n"
          ],
          "name": "stdout"
        }
      ]
    },
    {
      "cell_type": "markdown",
      "metadata": {
        "id": "Y16FYDWf0PlT",
        "colab_type": "text"
      },
      "source": [
        "###Llistes i strings"
      ]
    },
    {
      "cell_type": "code",
      "metadata": {
        "id": "wXwMXYjp0TWc",
        "colab_type": "code",
        "colab": {
          "base_uri": "https://localhost:8080/"
        },
        "outputId": "6b333059-9ed5-4abc-9952-59163a7a1c56"
      },
      "source": [
        "#de string a llista\n",
        "string = 'this     is a string'\n",
        "print(len(string))\n",
        "llista = string.split()  #talla pels espais, si hi ha múltiples espais els talla tots\n",
        "print(llista)\n",
        "string2 = 'this;is;a;string'\n",
        "print(len(string2))\n",
        "llista2 = string2.split(';')  #talla pel que tu diguis\n",
        "print(llista2)"
      ],
      "execution_count": null,
      "outputs": [
        {
          "output_type": "stream",
          "text": [
            "20\n",
            "['this', 'is', 'a', 'string']\n",
            "16\n",
            "['this', 'is', 'a', 'string']\n"
          ],
          "name": "stdout"
        }
      ]
    },
    {
      "cell_type": "markdown",
      "metadata": {
        "id": "J6yWED-Z3e5X",
        "colab_type": "text"
      },
      "source": [
        "###Entrega 1 de la setmana"
      ]
    },
    {
      "cell_type": "markdown",
      "metadata": {
        "id": "EdzCnDoG3k64",
        "colab_type": "text"
      },
      "source": [
        "8.4 Open the file romeo.txt and read it line by line. For each line, split the line into a list of words using the split() method. The program should build a list of words. For each word on each line check to see if the word is already in the list and if not append it to the list. When the program completes, sort and print the resulting words in alphabetical order.\n",
        "You can download the sample data at http://www.py4e.com/code3/romeo.txt"
      ]
    },
    {
      "cell_type": "code",
      "metadata": {
        "id": "3Y1aBks-w_AP",
        "colab_type": "code",
        "colab": {
          "base_uri": "https://localhost:8080/",
          "height": 72
        },
        "outputId": "a724a6ba-249b-44cb-edac-703d1cb1b96b"
      },
      "source": [
        "fname = input(\"Enter file name: \")\n",
        "fh = open(fname)\n",
        "lst = list()\n",
        "for line in fh:\n",
        "    for item in line.split():\n",
        "        if not item in lst:\n",
        "            lst.append(item)\n",
        "lst.sort()\n",
        "print(lst)"
      ],
      "execution_count": null,
      "outputs": [
        {
          "output_type": "stream",
          "text": [
            "Enter file name: romeo.txt\n",
            "['Arise', 'But', 'It', 'Juliet', 'Who', 'already', 'and', 'breaks', 'east', 'envious', 'fair', 'grief', 'is', 'kill', 'light', 'moon', 'pale', 'sick', 'soft', 'sun', 'the', 'through', 'what', 'window', 'with', 'yonder']\n"
          ],
          "name": "stdout"
        }
      ]
    },
    {
      "cell_type": "markdown",
      "metadata": {
        "id": "u-pfhzPN2ico",
        "colab_type": "text"
      },
      "source": [
        "###Entrega 2 de la setmana"
      ]
    },
    {
      "cell_type": "markdown",
      "metadata": {
        "id": "tNpICNJA2m8h",
        "colab_type": "text"
      },
      "source": [
        "Open the file mbox-short.txt and read it line by line. When you find a line that starts with 'From ' like the following line:\n",
        "From stephen.marquard@uct.ac.za Sat Jan  5 09:14:16 2008\n",
        "You will parse the From line using split() and print out the second word in the line (i.e. the entire address of the person who sent the message). Then print out a count at the end.\n",
        "Hint: make sure not to include the lines that start with 'From:'.\n",
        "\n",
        "You can download the sample data at http://www.py4e.com/code3/mbox-short.txt"
      ]
    },
    {
      "cell_type": "code",
      "metadata": {
        "id": "bp6vPUyA2liM",
        "colab_type": "code",
        "colab": {
          "base_uri": "https://localhost:8080/",
          "height": 520
        },
        "outputId": "a25521ed-e8c1-4b9a-dc1b-5f44bc31ce4f"
      },
      "source": [
        "fname = input(\"Enter file name: \")\n",
        "if len(fname) < 1 : fname = \"mbox-short.txt\"\n",
        "\n",
        "fh = open(fname)\n",
        "count = 0\n",
        "\n",
        "for line in fh:\n",
        "    if line.startswith('From '):\n",
        "        llista = line.split()\n",
        "        print(llista[1])\n",
        "        count=count+1\n",
        "    \n",
        "print(\"There were\", count, \"lines in the file with From as the first word\")\n"
      ],
      "execution_count": null,
      "outputs": [
        {
          "output_type": "stream",
          "text": [
            "Enter file name: mbox-short.txt\n",
            "stephen.marquard@uct.ac.za\n",
            "louis@media.berkeley.edu\n",
            "zqian@umich.edu\n",
            "rjlowe@iupui.edu\n",
            "zqian@umich.edu\n",
            "rjlowe@iupui.edu\n",
            "cwen@iupui.edu\n",
            "cwen@iupui.edu\n",
            "gsilver@umich.edu\n",
            "gsilver@umich.edu\n",
            "zqian@umich.edu\n",
            "gsilver@umich.edu\n",
            "wagnermr@iupui.edu\n",
            "zqian@umich.edu\n",
            "antranig@caret.cam.ac.uk\n",
            "gopal.ramasammycook@gmail.com\n",
            "david.horwitz@uct.ac.za\n",
            "david.horwitz@uct.ac.za\n",
            "david.horwitz@uct.ac.za\n",
            "david.horwitz@uct.ac.za\n",
            "stephen.marquard@uct.ac.za\n",
            "louis@media.berkeley.edu\n",
            "louis@media.berkeley.edu\n",
            "ray@media.berkeley.edu\n",
            "cwen@iupui.edu\n",
            "cwen@iupui.edu\n",
            "cwen@iupui.edu\n",
            "There were 27 lines in the file with From as the first word\n"
          ],
          "name": "stdout"
        }
      ]
    },
    {
      "cell_type": "markdown",
      "metadata": {
        "id": "eQEpg_Ki7Otm",
        "colab_type": "text"
      },
      "source": [
        "##Sessió 4"
      ]
    },
    {
      "cell_type": "markdown",
      "metadata": {
        "id": "ELym46f07RYf",
        "colab_type": "text"
      },
      "source": [
        "###Diccionaris"
      ]
    },
    {
      "cell_type": "markdown",
      "metadata": {
        "id": "tdh8cuaZ9hWP",
        "colab_type": "text"
      },
      "source": [
        "Llista: Col·lecció lineal de valors que es mantenen en ordre. Indexen els elements segons la posició a la llista.\n",
        "\n",
        "Diccionari: \"Bossa\" de valors, cada una amb una etiqueta. No tenen ordre, els elements estan indexats amb un \"lookup tag\"."
      ]
    },
    {
      "cell_type": "code",
      "metadata": {
        "id": "xc_MZWpu7Quc",
        "colab_type": "code",
        "colab": {
          "base_uri": "https://localhost:8080/",
          "height": 69
        },
        "outputId": "4bad100b-f8c0-4ecf-b242-bbdce3f2a108"
      },
      "source": [
        "#les llistes es feien amb [], els diccionaris es fan amb {}\n",
        "dicc = {}\n",
        "dicc2 = dict() #diferents maneres de crear diccionaris buits\n",
        "dicc['diners'] = 21  #així s'afegeixen elements al dicc o es modifiquen\n",
        "dicc['elemets'] = 118\n",
        "print(dicc)\n",
        "print(dicc['diners'])\n",
        "dicc['diners']+=2  #equivalent a dicc['diners']=dicc['diners'] + 2\n",
        "print(dicc['diners'])"
      ],
      "execution_count": null,
      "outputs": [
        {
          "output_type": "stream",
          "text": [
            "{'diners': 21, 'elemets': 118}\n",
            "21\n",
            "23\n"
          ],
          "name": "stdout"
        }
      ]
    },
    {
      "cell_type": "code",
      "metadata": {
        "id": "THAaiH6yAJAP",
        "colab_type": "code",
        "colab": {
          "base_uri": "https://localhost:8080/",
          "height": 51
        },
        "outputId": "15cfd7c0-9981-4afc-f98c-a929985b5917"
      },
      "source": [
        "#per veure si un element està en un diccionari: (executar línia anterior primer de tot)\n",
        "print('diners' in dicc)\n",
        "print('random' in dicc)\n"
      ],
      "execution_count": null,
      "outputs": [
        {
          "output_type": "stream",
          "text": [
            "True\n",
            "False\n"
          ],
          "name": "stdout"
        }
      ]
    },
    {
      "cell_type": "code",
      "metadata": {
        "id": "q3ZafomwC8Km",
        "colab_type": "code",
        "colab": {
          "base_uri": "https://localhost:8080/",
          "height": 34
        },
        "outputId": "7a5040f7-6c0d-4514-e798-9ae9e7f842e1"
      },
      "source": [
        "contar = {}\n",
        "noms = ['a','b','c', 'a', 'c']\n",
        "for nom in noms:\n",
        "  if nom not in contar:\n",
        "    contar[nom] = 1\n",
        "  else:\n",
        "    contar[nom]+=1\n",
        "print(contar)"
      ],
      "execution_count": null,
      "outputs": [
        {
          "output_type": "stream",
          "text": [
            "{'a': 2, 'b': 1, 'c': 2}\n"
          ],
          "name": "stdout"
        }
      ]
    },
    {
      "cell_type": "markdown",
      "metadata": {
        "id": "jIUDV8pEG83o",
        "colab_type": "text"
      },
      "source": [
        "####*.get( )*"
      ]
    },
    {
      "cell_type": "code",
      "metadata": {
        "id": "eb-yyj5wEzVZ",
        "colab_type": "code",
        "colab": {
          "base_uri": "https://localhost:8080/",
          "height": 35
        },
        "outputId": "21e7e805-ad75-4de1-f1d1-a8d4aebc7a94"
      },
      "source": [
        "contar = {}\n",
        "noms = ['a','b','c', 'a', 'c']\n",
        "for nom in noms:\n",
        "  contar[nom] = contar.get(nom, 0) + 1\n",
        "print(contar)"
      ],
      "execution_count": null,
      "outputs": [
        {
          "output_type": "stream",
          "text": [
            "{'a': 2, 'b': 1, 'c': 2}\n"
          ],
          "name": "stdout"
        }
      ]
    },
    {
      "cell_type": "markdown",
      "metadata": {
        "id": "Lds8Zp7-AzcV",
        "colab_type": "text"
      },
      "source": [
        "Contar paraules:"
      ]
    },
    {
      "cell_type": "code",
      "metadata": {
        "id": "VA9xm6HH9bzc",
        "colab_type": "code",
        "colab": {
          "base_uri": "https://localhost:8080/",
          "height": 107
        },
        "outputId": "1f261c7e-5de1-4ef3-c58d-fb70a98527fc"
      },
      "source": [
        "cont = {}\n",
        "linia = input('Write a sentence: ')\n",
        "paraules = linia.split()\n",
        "print('Paraules:', paraules)\n",
        "print('Contant...')\n",
        "for paraula in paraules:\n",
        "  cont[paraula] = cont.get(paraula, 0) + 1\n",
        "\n",
        "print('Recompte:', cont)"
      ],
      "execution_count": null,
      "outputs": [
        {
          "output_type": "stream",
          "text": [
            "Write a sentence: vaja vaja quina frase posarem que estigui com repetida com molts cops\n",
            "Paraules: ['vaja', 'vaja', 'quina', 'frase', 'posarem', 'que', 'estigui', 'com', 'repetida', 'com', 'molts', 'cops']\n",
            "Contant...\n",
            "Recompte: {'vaja': 2, 'quina': 1, 'frase': 1, 'posarem': 1, 'que': 1, 'estigui': 1, 'com': 2, 'repetida': 1, 'molts': 1, 'cops': 1}\n"
          ],
          "name": "stdout"
        }
      ]
    },
    {
      "cell_type": "markdown",
      "metadata": {
        "id": "E1Uos8zWEi0C",
        "colab_type": "text"
      },
      "source": [
        "####Loops dins de diccionaris"
      ]
    },
    {
      "cell_type": "code",
      "metadata": {
        "id": "DlqkZxxqCA8C",
        "colab_type": "code",
        "colab": {
          "base_uri": "https://localhost:8080/",
          "height": 69
        },
        "outputId": "1e022bfc-87f4-48b5-88cd-ef21d22ef57d"
      },
      "source": [
        "noms = {}\n",
        "noms['a']=2\n",
        "noms['b']=4\n",
        "noms['c']=3\n",
        "for clau in noms:\n",
        "  print(clau, noms[clau])"
      ],
      "execution_count": null,
      "outputs": [
        {
          "output_type": "stream",
          "text": [
            "a 2\n",
            "b 4\n",
            "c 3\n"
          ],
          "name": "stdout"
        }
      ]
    },
    {
      "cell_type": "markdown",
      "metadata": {
        "id": "OndMQUN9GLSr",
        "colab_type": "text"
      },
      "source": [
        "####Com obtenir claus i valors dels diccionaris"
      ]
    },
    {
      "cell_type": "code",
      "metadata": {
        "id": "Zp_6rYAUEt1R",
        "colab_type": "code",
        "colab": {
          "base_uri": "https://localhost:8080/",
          "height": 87
        },
        "outputId": "075e5260-11df-4df6-b6ba-ae4e48c9ead0"
      },
      "source": [
        "noms = {'a':2, 'b':4, 'c':3}\n",
        "#obtenir les claus aka noms\n",
        "print(list(noms))\n",
        "#obtenir les claus de manera diferent\n",
        "print(noms.keys())\n",
        "#obtenir els valors\n",
        "print(noms.values())\n",
        "#obtenir els elements com a 'tuples'\n",
        "print(noms.items())"
      ],
      "execution_count": null,
      "outputs": [
        {
          "output_type": "stream",
          "text": [
            "['a', 'b', 'c']\n",
            "dict_keys(['a', 'b', 'c'])\n",
            "dict_values([2, 4, 3])\n",
            "dict_items([('a', 2), ('b', 4), ('c', 3)])\n"
          ],
          "name": "stdout"
        }
      ]
    },
    {
      "cell_type": "markdown",
      "metadata": {
        "id": "ry_azfsrHx3I",
        "colab_type": "text"
      },
      "source": [
        "####Bonus: iteració amb dues variables"
      ]
    },
    {
      "cell_type": "code",
      "metadata": {
        "id": "nGBy-YYqHjh6",
        "colab_type": "code",
        "colab": {
          "base_uri": "https://localhost:8080/",
          "height": 69
        },
        "outputId": "0e661e14-0bbb-4741-9a9b-1e63615bb27d"
      },
      "source": [
        "noms = {'a':2, 'b':4, 'c':3}\n",
        "for x,y in noms.items():\n",
        "  print(x,y)"
      ],
      "execution_count": null,
      "outputs": [
        {
          "output_type": "stream",
          "text": [
            "a 2\n",
            "b 4\n",
            "c 3\n"
          ],
          "name": "stdout"
        }
      ]
    },
    {
      "cell_type": "code",
      "metadata": {
        "id": "MGU0t1pxKP26",
        "colab_type": "code",
        "colab": {
          "base_uri": "https://localhost:8080/",
          "height": 35
        },
        "outputId": "c291c341-51e1-4de8-b205-4094a7827155"
      },
      "source": [
        "stuff = dict()\n",
        "print(stuff.get('candy',-1))"
      ],
      "execution_count": null,
      "outputs": [
        {
          "output_type": "stream",
          "text": [
            "-1\n"
          ],
          "name": "stdout"
        }
      ]
    },
    {
      "cell_type": "markdown",
      "metadata": {
        "id": "zgD0jjnML-Ta",
        "colab_type": "text"
      },
      "source": [
        "###Entrega de la setmana"
      ]
    },
    {
      "cell_type": "markdown",
      "metadata": {
        "id": "noth7csOMDDu",
        "colab_type": "text"
      },
      "source": [
        "Write a program to read through the mbox-short.txt and figure out who has sent the greatest number of mail messages. The program looks for 'From ' lines and takes the second word of those lines as the person who sent the mail. The program creates a Python dictionary that maps the sender's mail address to a count of the number of times they appear in the file. After the dictionary is produced, the program reads through the dictionary using a maximum loop to find the most prolific committer."
      ]
    },
    {
      "cell_type": "code",
      "metadata": {
        "id": "YP7XwRvOKQh3",
        "colab_type": "code",
        "colab": {
          "base_uri": "https://localhost:8080/",
          "height": 52
        },
        "outputId": "acb303b7-8970-40f4-e32b-7d3c1c00947f"
      },
      "source": [
        "name = input(\"Enter file:\")\n",
        "if len(name) < 1 : name = \"mbox-short.txt\"\n",
        "handle = open(name)\n",
        "dic = {}\n",
        "for line in handle:\n",
        "    if line.startswith('From '):\n",
        "        paraules = line.split()\n",
        "        dic[paraules[1]] = dic.get(paraules[1], 0) + 1\n",
        "    else:\n",
        "        continue\n",
        "bigcount = 0\n",
        "bigword = None\n",
        "for paraula,num in dic.items():\n",
        "    if num > bigcount:\n",
        "        bigword = paraula\n",
        "        bigcount = num\n",
        "    else:\n",
        "        continue\n",
        "\n",
        "print(bigword, bigcount)"
      ],
      "execution_count": null,
      "outputs": [
        {
          "output_type": "stream",
          "text": [
            "Enter file:mbox-short.txt\n",
            "cwen@iupui.edu 5\n"
          ],
          "name": "stdout"
        }
      ]
    },
    {
      "cell_type": "markdown",
      "metadata": {
        "id": "7mmpEQkC5Qia",
        "colab_type": "text"
      },
      "source": [
        "##Sessió 5"
      ]
    },
    {
      "cell_type": "markdown",
      "metadata": {
        "id": "H8nxcPV3638L",
        "colab_type": "text"
      },
      "source": [
        "###Tuples"
      ]
    },
    {
      "cell_type": "markdown",
      "metadata": {
        "id": "3pRB4ZIp7zi4",
        "colab_type": "text"
      },
      "source": [
        "Són com llistes: seqüència d'elements ordenats que comença per índex 0"
      ]
    },
    {
      "cell_type": "code",
      "metadata": {
        "id": "yGwvvDR_5TKj",
        "colab_type": "code",
        "colab": {
          "base_uri": "https://localhost:8080/",
          "height": 121
        },
        "outputId": "54a3c9c8-954f-4a1e-90b0-13f99080fe5d"
      },
      "source": [
        "x = ('a', 'b', 'c', 'd')\n",
        "y = (1,2,3,4,4)\n",
        "for i in x:\n",
        "  print(i)\n",
        "print(max(y))\n",
        "print(y)"
      ],
      "execution_count": null,
      "outputs": [
        {
          "output_type": "stream",
          "text": [
            "a\n",
            "b\n",
            "c\n",
            "d\n",
            "4\n",
            "(1, 2, 3, 4, 4)\n"
          ],
          "name": "stdout"
        }
      ]
    },
    {
      "cell_type": "markdown",
      "metadata": {
        "id": "87RPAFJNFUJo",
        "colab_type": "text"
      },
      "source": [
        "####Diferència resp. llistes"
      ]
    },
    {
      "cell_type": "markdown",
      "metadata": {
        "id": "fo4xqI53-QrO",
        "colab_type": "text"
      },
      "source": [
        "La diferència amb les llistes és que $tuples$ són immutables"
      ]
    },
    {
      "cell_type": "code",
      "metadata": {
        "id": "puvT3gKq9-Er",
        "colab_type": "code",
        "colab": {
          "base_uri": "https://localhost:8080/",
          "height": 52
        },
        "outputId": "662f7adc-88a0-4d1b-8ccb-e1951f40bcb8"
      },
      "source": [
        "#recordem que si no hi ha error s'executarà el try, però si el try conté un error\n",
        "#s'executarà el except\n",
        "y=(4,2,7,95,54,23)\n",
        "z=[4,2,7,95,54,23]\n",
        "try:\n",
        "  z[1]=3\n",
        "  print('Es pot canviar en una llista: ', z[1])\n",
        "except:\n",
        "  print('No es pot canviar en una llista')\n",
        "try:\n",
        "  y[1]=3\n",
        "  print('Es pot canviar en una tuple: ', y[1])\n",
        "except:\n",
        "  print('No es pot canviar en una tuple')"
      ],
      "execution_count": null,
      "outputs": [
        {
          "output_type": "stream",
          "text": [
            "Es pot canviar en una llista:  3\n",
            "No es pot canviar en una tuple\n"
          ],
          "name": "stdout"
        }
      ]
    },
    {
      "cell_type": "markdown",
      "metadata": {
        "id": "mEjeM1YWAdR-",
        "colab_type": "text"
      },
      "source": [
        "Altres coses pohibides en tuples i legals en llistes"
      ]
    },
    {
      "cell_type": "code",
      "metadata": {
        "id": "oS2G-6uA_PMt",
        "colab_type": "code",
        "colab": {
          "base_uri": "https://localhost:8080/",
          "height": 69
        },
        "outputId": "ea0437c9-6c40-4a15-9b8d-9e71ba7116bc"
      },
      "source": [
        "tup = (3,2,1)\n",
        "try:\n",
        "  x.sort()\n",
        "except:\n",
        "  print('No es poden reordenar')\n",
        "try:\n",
        "  x.append()\n",
        "except:\n",
        "  print('No es poden afegir termes al final')\n",
        "try:\n",
        "  x.reverse()\n",
        "except:\n",
        "  print('No es poden invertir')"
      ],
      "execution_count": null,
      "outputs": [
        {
          "output_type": "stream",
          "text": [
            "No es poden reordenar\n",
            "No es poden afegir termes al final\n",
            "No es poden invertir\n"
          ],
          "name": "stdout"
        }
      ]
    },
    {
      "cell_type": "code",
      "metadata": {
        "id": "uQGHD9UnDRO0",
        "colab_type": "code",
        "colab": {
          "base_uri": "https://localhost:8080/",
          "height": 589
        },
        "outputId": "1af4b857-aef7-4de7-e630-d1f32f8d988d"
      },
      "source": [
        "t = tuple()\n",
        "dir(t)"
      ],
      "execution_count": null,
      "outputs": [
        {
          "output_type": "execute_result",
          "data": {
            "text/plain": [
              "['__add__',\n",
              " '__class__',\n",
              " '__contains__',\n",
              " '__delattr__',\n",
              " '__dir__',\n",
              " '__doc__',\n",
              " '__eq__',\n",
              " '__format__',\n",
              " '__ge__',\n",
              " '__getattribute__',\n",
              " '__getitem__',\n",
              " '__getnewargs__',\n",
              " '__gt__',\n",
              " '__hash__',\n",
              " '__init__',\n",
              " '__init_subclass__',\n",
              " '__iter__',\n",
              " '__le__',\n",
              " '__len__',\n",
              " '__lt__',\n",
              " '__mul__',\n",
              " '__ne__',\n",
              " '__new__',\n",
              " '__reduce__',\n",
              " '__reduce_ex__',\n",
              " '__repr__',\n",
              " '__rmul__',\n",
              " '__setattr__',\n",
              " '__sizeof__',\n",
              " '__str__',\n",
              " '__subclasshook__',\n",
              " 'count',\n",
              " 'index']"
            ]
          },
          "metadata": {
            "tags": []
          },
          "execution_count": 8
        }
      ]
    },
    {
      "cell_type": "markdown",
      "metadata": {
        "id": "5kUJowbyD4d1",
        "colab_type": "text"
      },
      "source": [
        "Com que són immutables, la seva efinciència en despesa de computació és molt major. Seran preferibles a les llistes quan la seva funcionalitat ja ens serveixi per la necessitat que ens cal cobrir."
      ]
    },
    {
      "cell_type": "code",
      "metadata": {
        "id": "-kZF2n5qDoHp",
        "colab_type": "code",
        "colab": {
          "base_uri": "https://localhost:8080/",
          "height": 52
        },
        "outputId": "5cac0560-0ea0-4706-8107-8ea8c4844f56"
      },
      "source": [
        "#podem tenir dobles tuples per assignar valors\n",
        "(x,y) = (3,6)\n",
        "print(y)\n",
        "(k,m) = ('hehe', 2)\n",
        "print(k)"
      ],
      "execution_count": null,
      "outputs": [
        {
          "output_type": "stream",
          "text": [
            "6\n",
            "hehe\n"
          ],
          "name": "stdout"
        }
      ]
    },
    {
      "cell_type": "code",
      "metadata": {
        "id": "PsqGsvzIEbC2",
        "colab_type": "code",
        "colab": {
          "base_uri": "https://localhost:8080/",
          "height": 69
        },
        "outputId": "b7f79670-62b2-47dc-ddb5-9bb37bd90f0b"
      },
      "source": [
        "#tuples & dictionaries\n",
        "#recordem que el diccionari.items() retorna tuples:\n",
        "d = {}\n",
        "d['a']=2\n",
        "d['b']=22\n",
        "for (x,y) in d.items():\n",
        "  print(x,y)\n",
        "\n",
        "print(d.items())"
      ],
      "execution_count": null,
      "outputs": [
        {
          "output_type": "stream",
          "text": [
            "a 2\n",
            "b 22\n",
            "dict_items([('a', 2), ('b', 22)])\n"
          ],
          "name": "stdout"
        }
      ]
    },
    {
      "cell_type": "markdown",
      "metadata": {
        "id": "eNwXqgB4FaGF",
        "colab_type": "text"
      },
      "source": [
        "####Comparació de tuples"
      ]
    },
    {
      "cell_type": "code",
      "metadata": {
        "id": "RoXop0-5E4jH",
        "colab_type": "code",
        "colab": {
          "base_uri": "https://localhost:8080/",
          "height": 69
        },
        "outputId": "f7b0ee80-e4e2-4f91-c9ee-620f77d8813c"
      },
      "source": [
        "#són comparables\n",
        "print((1,2,3)<(2,3,4))\n",
        "print((5,6,7)<(3,4,5))\n",
        "print((1,2,3)<(2,1,1))"
      ],
      "execution_count": null,
      "outputs": [
        {
          "output_type": "stream",
          "text": [
            "True\n",
            "False\n",
            "True\n"
          ],
          "name": "stdout"
        }
      ]
    },
    {
      "cell_type": "markdown",
      "metadata": {
        "id": "dQuX-CqQGsqy",
        "colab_type": "text"
      },
      "source": [
        "####Ordenar llistes de tuples amb *sorted( )*"
      ]
    },
    {
      "cell_type": "code",
      "metadata": {
        "id": "2AF6xubzGT06",
        "colab_type": "code",
        "colab": {
          "base_uri": "https://localhost:8080/",
          "height": 156
        },
        "outputId": "3737fc51-e53b-4eae-f37c-f27c48dedb3d"
      },
      "source": [
        "di = {'a':1,'s':4,'d':21,'f':7,'g':5}\n",
        "o = sorted(di.items())\n",
        "print(o)\n",
        "for x,y in o:\n",
        "  print(x,y)\n",
        "#ordenar al revés\n",
        "r = sorted(di.items(), reverse =True) \n",
        "print(r)\n",
        "#ordenem per valors\n",
        "p = []\n",
        "for x,y in di.items():\n",
        "  p.append((y,x))\n",
        "print(sorted(p, reverse = True))"
      ],
      "execution_count": null,
      "outputs": [
        {
          "output_type": "stream",
          "text": [
            "[('a', 1), ('d', 21), ('f', 7), ('g', 5), ('s', 4)]\n",
            "a 1\n",
            "d 21\n",
            "f 7\n",
            "g 5\n",
            "s 4\n",
            "[('s', 4), ('g', 5), ('f', 7), ('d', 21), ('a', 1)]\n",
            "[(21, 'd'), (7, 'f'), (5, 'g'), (4, 's'), (1, 'a')]\n"
          ],
          "name": "stdout"
        }
      ]
    },
    {
      "cell_type": "markdown",
      "metadata": {
        "id": "fMgp9jfqLGb8",
        "colab_type": "text"
      },
      "source": [
        "####Exercici: Top paraules més utilitzades"
      ]
    },
    {
      "cell_type": "code",
      "metadata": {
        "id": "Vp2rA-YxHTq9",
        "colab_type": "code",
        "colab": {
          "base_uri": "https://localhost:8080/",
          "height": 208
        },
        "outputId": "3be3e100-8872-4e4e-902b-ba59ed19757a"
      },
      "source": [
        "frase = input('Escriu una frase')\n",
        "counts = {}\n",
        "paraules = frase.split()\n",
        "for paraula in paraules:\n",
        "  counts[paraula] = counts.get(paraula,0) + 1\n",
        "\n",
        "lst = []\n",
        "for key,val in counts.items():\n",
        "  tup = (val,key)\n",
        "  lst.append(tup)\n",
        "lst = sorted(lst, reverse = True)\n",
        "for val, key in lst[:10]:\n",
        "  print(key, val)"
      ],
      "execution_count": null,
      "outputs": [
        {
          "output_type": "stream",
          "text": [
            "Escriu una fraseque wtf vaja que random per que estic escrivint aquesta frase que no recordare per no\n",
            "que 4\n",
            "per 2\n",
            "no 2\n",
            "wtf 1\n",
            "vaja 1\n",
            "recordare 1\n",
            "random 1\n",
            "frase 1\n",
            "estic 1\n",
            "escrivint 1\n"
          ],
          "name": "stdout"
        }
      ]
    },
    {
      "cell_type": "code",
      "metadata": {
        "id": "M_b1PWivQPcR",
        "colab_type": "code",
        "colab": {
          "base_uri": "https://localhost:8080/",
          "height": 35
        },
        "outputId": "8d7bce77-5873-450a-a825-e9fddbf8c90f"
      },
      "source": [
        "#reduint linies de codi\n",
        "c = {'a':10, 'b':3, 'c':947}\n",
        "print( sorted( [(v,k) for k,v in c.items()]))\n",
        "#creem una llista de tuples invertits i la ordenem"
      ],
      "execution_count": null,
      "outputs": [
        {
          "output_type": "stream",
          "text": [
            "[(3, 'b'), (10, 'a'), (947, 'c')]\n"
          ],
          "name": "stdout"
        }
      ]
    },
    {
      "cell_type": "markdown",
      "metadata": {
        "id": "ftX3L1McWkGM",
        "colab_type": "text"
      },
      "source": [
        "###Entrega de la setmana"
      ]
    },
    {
      "cell_type": "markdown",
      "metadata": {
        "id": "MxwNB8EUYRMF",
        "colab_type": "text"
      },
      "source": [
        "Write a program to read through the mbox-short.txt and figure out the distribution by hour of the day for each of the messages. You can pull the hour out from the 'From ' line by finding the time and then splitting the string a second time using a colon.\n",
        "\n",
        "From stephen.marquard@uct.ac.za Sat Jan  5 09:14:16 2008\n",
        "\n",
        "Once you have accumulated the counts for each hour, print out the counts, sorted by hour as shown below."
      ]
    },
    {
      "cell_type": "code",
      "metadata": {
        "id": "zkqOeSVcQ8Q4",
        "colab_type": "code",
        "colab": {
          "base_uri": "https://localhost:8080/",
          "height": 243
        },
        "outputId": "689a9180-6f30-4e67-c638-76f79085c1f8"
      },
      "source": [
        "name = input(\"Enter file:\")\n",
        "if len(name) < 1 : name = \"mbox-short.txt\"\n",
        "handle = open(name)\n",
        "dic = {}\n",
        "for line in handle:\n",
        "    if line.startswith('From '):\n",
        "        words = line.split()\n",
        "        temps = words[-2]\n",
        "        hores = temps.split(':')\n",
        "        hora = hores[0]\n",
        "        dic[hora] = dic.get(hora, 0) + 1\n",
        "lst = []\n",
        "for key,value in dic.items():\n",
        "\ttup = (key,value)\n",
        "\tlst.append(tup)\n",
        "lst = sorted(lst)\n",
        "for key, val in lst:\n",
        "    print(key,val)"
      ],
      "execution_count": null,
      "outputs": [
        {
          "output_type": "stream",
          "text": [
            "Enter file:mbox-short.txt\n",
            "04 3\n",
            "06 1\n",
            "07 1\n",
            "09 2\n",
            "10 3\n",
            "11 6\n",
            "14 1\n",
            "15 2\n",
            "16 4\n",
            "17 2\n",
            "18 1\n",
            "19 1\n"
          ],
          "name": "stdout"
        }
      ]
    },
    {
      "cell_type": "markdown",
      "metadata": {
        "id": "lRsgN1_afq8Y",
        "colab_type": "text"
      },
      "source": [
        "#Tercer curs: Using Python to Access Web Data"
      ]
    },
    {
      "cell_type": "markdown",
      "metadata": {
        "id": "dVOfCkjUv54g",
        "colab_type": "text"
      },
      "source": [
        "##Sessió 1"
      ]
    },
    {
      "cell_type": "markdown",
      "metadata": {
        "id": "RteGGPk3sN_x",
        "colab_type": "text"
      },
      "source": [
        "###Guia ràpida de $\\mathbf{Regular \\:Expressions}$:"
      ]
    },
    {
      "cell_type": "markdown",
      "metadata": {
        "id": "jzFbSY1cOG-j",
        "colab_type": "text"
      },
      "source": [
        "Cal importar re (import re):\n",
        "\n",
        "^: Encaixa l'**inici** d'una línia\n",
        "\n",
        "$: Encaixa el **final** d'una línia\n",
        "\n",
        ".: Encaixa **qualsevol** caràcter\n",
        "\n",
        "\\s: Encaixa **espais en blanc**\n",
        "\n",
        "\\S: Encaixa **qualsevol caràcter DIFERENT a espais en blanc**\n",
        "\n",
        "*: Repeteix un caràcter 0 o més vegades\n",
        "\n",
        "*?: Repeteix un caràcter 0 o més vegades (non-greedy)\n",
        "\n",
        "+: Repeteix un caràcter 1 o més vegades\n",
        "\n",
        "+?: Repeteix un caràcter 1 o més vegades (non-greedy)\n",
        "\n",
        "[aeiou]: Encaixa un sol caràcter de la llista\n",
        "\n",
        "[^XYZ]: Encaixa un sol caràcter que **NO pertany** a la llista\n",
        "\n",
        "[a-z0-9]: El conjunt de caràcters pot incloure un rang\n",
        "\n",
        "(: Indica on l'extracció de la *string* ha de començar\n",
        "\n",
        "): Indica on l'extracció de la *string* ha d'acabar\n",
        "\n",
        "**non-greedy**, com literalment podria ser traduït, vol dir \"no avariciós\". És a dir, agafarà la cerca només un cop, no tots, o bé el resultat amb menor nombre de repeticions de tots els trobats.\n"
      ]
    },
    {
      "cell_type": "markdown",
      "metadata": {
        "id": "oB6IT6uEsWV5",
        "colab_type": "text"
      },
      "source": [
        "####Exemples"
      ]
    },
    {
      "cell_type": "code",
      "metadata": {
        "id": "JW9Rpf52zFLs",
        "colab_type": "code",
        "colab": {
          "base_uri": "https://localhost:8080/",
          "height": 52
        },
        "outputId": "d4bf4b76-ea95-454f-fe9e-e5e93db3fd24"
      },
      "source": [
        "import re\n",
        "x = 'X-Sieve: CMU SIeve 2.3'\n",
        "y = 'X-DSPAM-Result: Innocent'\n",
        "z = 'X-Plane is behind schedule: two weeks'\n",
        "x1 = re.findall('^X-\\S+:',x) #encaixar X a l'inici de la línia, encaixar qualsevol caràcter no-espai en blanc  1 o més vegades, fins als dos punts(:)\n",
        "y1 = re.findall('^X-\\S+:',y)\n",
        "z1 = re.findall('^X-\\S+:',z)\n",
        "x2 = re.findall('^X.*:', x) #encaixar X a l'inici, encaixar qualsevol caràcter 0 o més vegades fins als dos pnts(:)\n",
        "y2 = re.findall('^X.*:', y)\n",
        "z2 = re.findall('^X.*:', z)\n",
        "print(x1,y1,z1)\n",
        "print(x2,y2,z2)"
      ],
      "execution_count": null,
      "outputs": [
        {
          "output_type": "stream",
          "text": [
            "['X-Sieve:'] ['X-DSPAM-Result:'] []\n",
            "['X-Sieve:'] ['X-DSPAM-Result:'] ['X-Plane is behind schedule:']\n"
          ],
          "name": "stdout"
        }
      ]
    },
    {
      "cell_type": "code",
      "metadata": {
        "id": "7Qr4OZqDfxhB",
        "colab_type": "code",
        "colab": {
          "base_uri": "https://localhost:8080/",
          "height": 52
        },
        "outputId": "f7963201-6bde-4dff-b668-b592e9b7e53e"
      },
      "source": [
        "#veiem que * i + són greedy ja que agafen tan enllà com poden\n",
        "import re\n",
        "x = 'From: Using the : character'\n",
        "y_greedy = re.findall('^F.+:', x)\n",
        "y_non_greedy = re.findall('^F.+?:',x)\n",
        "print(y_greedy)\n",
        "print(y_non_greedy)"
      ],
      "execution_count": null,
      "outputs": [
        {
          "output_type": "stream",
          "text": [
            "['From: Using the :']\n",
            "['From:']\n"
          ],
          "name": "stdout"
        }
      ]
    },
    {
      "cell_type": "code",
      "metadata": {
        "id": "-ngMgunIM4L1",
        "colab_type": "code",
        "colab": {
          "base_uri": "https://localhost:8080/",
          "height": 69
        },
        "outputId": "682c5062-ae53-4dd3-f571-065b958c7e21"
      },
      "source": [
        "x= 'From stephen.marquard@uct.ac.za Sat Jan  5 09:14:16 2008'\n",
        "y = re.findall('\\S+?@\\S+',x) #almenys un terme no-espai blanc i una @ entremig\n",
        "#els parèntesi no són part de la cerca però indiquen on iniciar i finalitzar la cerca:\n",
        "z = re.findall('^From (\\S+@\\S+)',x)\n",
        "print(y)\n",
        "print(z)\n",
        "y==z"
      ],
      "execution_count": null,
      "outputs": [
        {
          "output_type": "stream",
          "text": [
            "['stephen.marquard@uct.ac.za']\n",
            "['stephen.marquard@uct.ac.za']\n"
          ],
          "name": "stdout"
        },
        {
          "output_type": "execute_result",
          "data": {
            "text/plain": [
              "True"
            ]
          },
          "metadata": {
            "tags": []
          },
          "execution_count": 17
        }
      ]
    },
    {
      "cell_type": "markdown",
      "metadata": {
        "id": "ZwOTkjuOwek2",
        "colab_type": "text"
      },
      "source": [
        "####Diferència *re.search( )* i *re.findall( )*"
      ]
    },
    {
      "cell_type": "markdown",
      "metadata": {
        "id": "KgvVDAS_wqL-",
        "colab_type": "text"
      },
      "source": [
        "*search* serveix com a operador lògic que retorna True/False, en canvi, *findall* retorna els resultats que encaixen amb la cerca."
      ]
    },
    {
      "cell_type": "code",
      "metadata": {
        "id": "XSdUos6IcgDP",
        "colab_type": "code",
        "colab": {
          "base_uri": "https://localhost:8080/",
          "height": 52
        },
        "outputId": "cf671756-f192-4984-e2cc-95f54faf2fcb"
      },
      "source": [
        "import re\n",
        "x = 'Els meus 3 números preferits són 8, 57 i 911'\n",
        "if re.search('[0-9]',x):\n",
        "  y = re.findall('[0-9]+',x)\n",
        "  print('Els números presents són:',y)\n",
        "else:\n",
        "  print('No hi ha números')\n",
        "#findall pot tornar 0 termes:\n",
        "z = re.findall('[AMHJBIOU]', x) #busca les majúscules dins la llista a la string x\n",
        "print(z)"
      ],
      "execution_count": null,
      "outputs": [
        {
          "output_type": "stream",
          "text": [
            "Els números presents són: ['3', '8', '57', '911']\n",
            "[]\n"
          ],
          "name": "stdout"
        }
      ]
    },
    {
      "cell_type": "markdown",
      "metadata": {
        "id": "JxMDQtjl0n3d",
        "colab_type": "text"
      },
      "source": [
        "###Ús de les posicions en *strings*"
      ]
    },
    {
      "cell_type": "code",
      "metadata": {
        "id": "63zRBnsdwVEc",
        "colab_type": "code",
        "colab": {
          "base_uri": "https://localhost:8080/",
          "height": 69
        },
        "outputId": "104fece5-f363-40f6-ea8f-872a9e079368"
      },
      "source": [
        "data= 'From stephen.marquard@uct.ac.za Sat Jan  5 09:14:16 2008'\n",
        "atpos = data.find('@')\n",
        "print(atpos)\n",
        "sppos = data.find(' ',atpos)\n",
        "print(sppos)\n",
        "host = data[atpos+1 : sppos]\n",
        "print(host)"
      ],
      "execution_count": null,
      "outputs": [
        {
          "output_type": "stream",
          "text": [
            "21\n",
            "31\n",
            "uct.ac.za\n"
          ],
          "name": "stdout"
        }
      ]
    },
    {
      "cell_type": "markdown",
      "metadata": {
        "id": "mklqUaHNn0Uc",
        "colab_type": "text"
      },
      "source": [
        "####Double Split Pattern"
      ]
    },
    {
      "cell_type": "code",
      "metadata": {
        "id": "bYnxAP1enlJh",
        "colab_type": "code",
        "colab": {
          "base_uri": "https://localhost:8080/",
          "height": 69
        },
        "outputId": "b1ce148c-1e51-4efa-e237-345880638974"
      },
      "source": [
        "#a vegades interessa tallar de certa manera i agafar-ne una part i tornar a tallar\n",
        "data= 'From stephen.marquard@uct.ac.za Sat Jan  5 09:14:16 2008'\n",
        "words = data.split()\n",
        "email = words[1]\n",
        "pieces = email.split('@')\n",
        "print(email)\n",
        "print(pieces)\n",
        "print(pieces[1])"
      ],
      "execution_count": null,
      "outputs": [
        {
          "output_type": "stream",
          "text": [
            "stephen.marquard@uct.ac.za\n",
            "['stephen.marquard', 'uct.ac.za']\n",
            "uct.ac.za\n"
          ],
          "name": "stdout"
        }
      ]
    },
    {
      "cell_type": "markdown",
      "metadata": {
        "id": "U2ENS2ByoqXo",
        "colab_type": "text"
      },
      "source": [
        "Versió Regex (Regular Expressions)"
      ]
    },
    {
      "cell_type": "code",
      "metadata": {
        "id": "C--9npLXof7L",
        "colab_type": "code",
        "colab": {
          "base_uri": "https://localhost:8080/",
          "height": 52
        },
        "outputId": "2bf584a3-bd15-4a75-8115-fd08c6e5a4b8"
      },
      "source": [
        "data= 'From stephen.marquard@uct.ac.za Sat Jan  5 09:14:16 2008'\n",
        "import re\n",
        "y = re.findall('@([^ ]*)', data) #anar per l'string i buscar @, encaixa terme no-blanc, tants com sigui i pels () extreu els termes no-blanc\n",
        "z = re.findall('^From.*@([^ ]+)', data)\n",
        "print(y)\n",
        "y==z"
      ],
      "execution_count": null,
      "outputs": [
        {
          "output_type": "stream",
          "text": [
            "['uct.ac.za']\n"
          ],
          "name": "stdout"
        },
        {
          "output_type": "execute_result",
          "data": {
            "text/plain": [
              "True"
            ]
          },
          "metadata": {
            "tags": []
          },
          "execution_count": 10
        }
      ]
    },
    {
      "cell_type": "markdown",
      "metadata": {
        "id": "bwo_G2Bkqwo2",
        "colab_type": "text"
      },
      "source": [
        "Spam confidence"
      ]
    },
    {
      "cell_type": "code",
      "metadata": {
        "id": "edRnmSDUpG5y",
        "colab_type": "code",
        "colab": {}
      },
      "source": [
        "import re\n",
        "hand = open('mbox-short.txt')\n",
        "numlist = list()\n",
        "for line in hand:\n",
        "  line = line.rstrip()\n",
        "  stuff = re.findall('^X-DSPAM-Confidence: ([0-9.]+)', line)\n",
        "  if len(stuff) != 1 : continue\n",
        "  num = float(stuff[0])\n",
        "  numlist.append(num)\n",
        "print('Maximum: ', max(numlist))"
      ],
      "execution_count": null,
      "outputs": []
    },
    {
      "cell_type": "code",
      "metadata": {
        "id": "cBHh1SY6synQ",
        "colab_type": "code",
        "colab": {
          "base_uri": "https://localhost:8080/",
          "height": 35
        },
        "outputId": "8d95ad4d-1bd7-4065-a86c-3c277ef8ffc4"
      },
      "source": [
        "text = \"\"\"Why should you learn to write programs? 7746\n",
        "12 1929 8827\n",
        "Writing programs (or programming) is a very creative \n",
        "7 and rewarding activity.  You can write programs for \n",
        "many reasons, ranging from making your living to solving\n",
        "8837 a difficult data analysis problem to having fun to helping 128\n",
        "someone else solve a problem.  This book assumes that \n",
        "everyone needs to know how to program ...\"\"\"\n",
        "import re\n",
        "nums = re.findall('[0-9]+',text)\n",
        "for num in range(len(nums)):\n",
        "  nums[num]=float(nums[num])\n",
        "print(sum(nums))"
      ],
      "execution_count": null,
      "outputs": [
        {
          "output_type": "stream",
          "text": [
            "27486.0\n"
          ],
          "name": "stdout"
        }
      ]
    },
    {
      "cell_type": "markdown",
      "metadata": {
        "id": "wqXjAdE1HGIb",
        "colab_type": "text"
      },
      "source": [
        "###Entrega de la setmana"
      ]
    },
    {
      "cell_type": "markdown",
      "metadata": {
        "id": "qIvyhgIAGWql",
        "colab_type": "text"
      },
      "source": [
        "Sample data: http://py4e-data.dr-chuck.net/regex_sum_42.txt (There are 90 values with a sum=445833)\n",
        "\n",
        "Actual data: http://py4e-data.dr-chuck.net/regex_sum_721149.txt (There are 106 values and the sum ends with 654)\n"
      ]
    },
    {
      "cell_type": "markdown",
      "metadata": {
        "id": "tTDOeNwcGgE8",
        "colab_type": "text"
      },
      "source": [
        "The basic outline of this problem is to read the file, look for integers using the re.findall(), looking for a regular expression of '[0-9]+' and then converting the extracted strings to integers and summing up the integers."
      ]
    },
    {
      "cell_type": "code",
      "metadata": {
        "id": "3OGCi8apDMWk",
        "colab_type": "code",
        "colab": {
          "base_uri": "https://localhost:8080/",
          "height": 35
        },
        "outputId": "ffa7ab7b-29c2-46bf-d50e-961c6e131673"
      },
      "source": [
        "import re\n",
        "text = open('regex_sum_721149.txt')\n",
        "nums = re.findall('[0-9]+',text.read())\n",
        "for num in range(len(nums)):\n",
        "  nums[num]=float(nums[num])\n",
        "print(sum(nums))"
      ],
      "execution_count": null,
      "outputs": [
        {
          "output_type": "stream",
          "text": [
            "473654.0\n"
          ],
          "name": "stdout"
        }
      ]
    },
    {
      "cell_type": "markdown",
      "metadata": {
        "id": "glxSdcpkEGbh",
        "colab_type": "text"
      },
      "source": [
        "## Sessió 2"
      ]
    },
    {
      "cell_type": "markdown",
      "metadata": {
        "id": "VudgMNTyEKqm",
        "colab_type": "text"
      },
      "source": [
        "###HTTP Request amb Python"
      ]
    },
    {
      "cell_type": "markdown",
      "metadata": {
        "id": "9kskeIsxEd-a",
        "colab_type": "text"
      },
      "source": [
        "S'utilitzen *sockets* i el port TCP (Transport Control Protocol) utilitzat és el 80 (HTTP).\n",
        "\n",
        "S'utilitza *.connect( ('host', port) )* per rebre suport de TCP sockets ja de Python:"
      ]
    },
    {
      "cell_type": "code",
      "metadata": {
        "id": "4yutxFBaEIqQ",
        "colab_type": "code",
        "colab": {
          "base_uri": "https://localhost:8080/",
          "height": 347
        },
        "outputId": "46e8946c-b9a2-405a-c3d8-b258133e4292"
      },
      "source": [
        "#això és un exemple de programa que segueix (socket->connect->send->recv)->Port 80 -> Web pages amb la llibreria socket\n",
        "import socket\n",
        "mysock = socket.socket(socket.AF_INET, socket.SOCK_STREAM)\n",
        "mysock.connect(('data.pr4e.org', 80)) #primer el host i dsp el port\n",
        "cmd = 'GET http://data.pr4e.org/romeo.txt HTTP/1.0\\r\\n\\r\\n'.encode()\n",
        "mysock.send(cmd)\n",
        "#part on es descodifiquen les dades en el conjunt de caràcters (explicats dsp) i poder-ho representar com a string en Python:\n",
        "while True:\n",
        "  data = mysock.recv(512)\n",
        "  if (len(data)<1):\n",
        "    break\n",
        "  print(data.decode())\n",
        "mysock.close()"
      ],
      "execution_count": null,
      "outputs": [
        {
          "output_type": "stream",
          "text": [
            "HTTP/1.1 200 OK\r\n",
            "Date: Sat, 27 Jun 2020 16:26:52 GMT\r\n",
            "Server: Apache/2.4.18 (Ubuntu)\r\n",
            "Last-Modified: Sat, 13 May 2017 11:22:22 GMT\r\n",
            "ETag: \"a7-54f6609245537\"\r\n",
            "Accept-Ranges: bytes\r\n",
            "Content-Length: 167\r\n",
            "Cache-Control: max-age=0, no-cache, no-store, must-revalidate\r\n",
            "Pragma: no-cache\r\n",
            "Expires: Wed, 11 Jan 1984 05:00:00 GMT\r\n",
            "Connection: close\r\n",
            "Content-Type: text/plain\r\n",
            "\r\n",
            "But soft what light through yonder window breaks\n",
            "It is the east and Juliet is the sun\n",
            "Arise fair sun and kill the envious moon\n",
            "Who is already s\n",
            "ick and pale with grief\n",
            "\n"
          ],
          "name": "stdout"
        }
      ]
    },
    {
      "cell_type": "markdown",
      "metadata": {
        "id": "Qj9jBFJiHrgJ",
        "colab_type": "text"
      },
      "source": [
        "###American Standard Code for Information Interchange (ASCII)"
      ]
    },
    {
      "cell_type": "markdown",
      "metadata": {
        "id": "8f8XScpgH1ce",
        "colab_type": "text"
      },
      "source": [
        "* És una llista de caràcters amb un número associat del 0 al 256 que s'emmagatzemen en 8 bits (0's i 1's), es pot veure una part a: http://www.catonmat.net/download/ascii-cheat-sheet.png\n",
        "* 8 bits equivalen a 1 byte\n",
        "* La funció *ord()* retorna el valor numèric d'un caràcter senzill de ASCII"
      ]
    },
    {
      "cell_type": "code",
      "metadata": {
        "id": "Ww69Pzu0FzVq",
        "colab_type": "code",
        "colab": {
          "base_uri": "https://localhost:8080/",
          "height": 87
        },
        "outputId": "03f0b65e-af1a-4a70-c8dc-11889a60d4eb"
      },
      "source": [
        "print(ord('H'))\n",
        "print(ord('e'))\n",
        "print(ord('\\n'))\n",
        "print(ord('&'))"
      ],
      "execution_count": null,
      "outputs": [
        {
          "output_type": "stream",
          "text": [
            "72\n",
            "101\n",
            "10\n",
            "38\n"
          ],
          "name": "stdout"
        }
      ]
    },
    {
      "cell_type": "markdown",
      "metadata": {
        "id": "iNblulSRKm_P",
        "colab_type": "text"
      },
      "source": [
        "Tot i així, actualment els caràcter més utilitzats són UTF-8 (entre 1 i 4 bytes) ja que mostra una alta compatibilitat amb ASCII i és una pràctica recomanada per codificar dades que hagin de ser intercanviades entre sistemes.\n",
        "\n",
        "A Python 3 totes les *strings* són Unicode, es passen a bytes mitjançant la part de codi anteior, on s'especifica.\n",
        "\n",
        "En resum, *.decode()* torna una string a partir de bytes i *.encode()* retorna la versió codificada d'una string en forma de bytes. Les dues opcions utilitzen utf-8 de manera predeterminada.\n",
        "\n",
        "En resum:\n",
        "\n",
        "$\\text{1) String unicode}\\xrightarrow{encode()}\\text{2) Bytes|UTF-8}\\xrightarrow{send()}\\text{3) Socket(Network)}$\n",
        "\n",
        "$\\text{3) Socket(Network)}\\xrightarrow{recv()}\\text{2) Bytes|UTF-8}\\xrightarrow{decode()}\\text{1) String Unicode}$"
      ]
    },
    {
      "cell_type": "markdown",
      "metadata": {
        "id": "vYqI-8t8QcDj",
        "colab_type": "text"
      },
      "source": [
        "###Using *urllib* in Python"
      ]
    },
    {
      "cell_type": "markdown",
      "metadata": {
        "id": "gZ4mp0B3REBw",
        "colab_type": "text"
      },
      "source": [
        "Ja que HTTP és tan comú, existeix una llibreria que fa tot el treball de *socket* per nosaltres i fa que les pags. web tinguin aparença de fitxer."
      ]
    },
    {
      "cell_type": "code",
      "metadata": {
        "id": "-lUrIMRsI2kQ",
        "colab_type": "code",
        "colab": {
          "base_uri": "https://localhost:8080/",
          "height": 87
        },
        "outputId": "306a3a55-0903-421c-ad8e-930dd8b1df26"
      },
      "source": [
        "import urllib.request, urllib.parse, urllib.error\n",
        "fhand = urllib.request.urlopen('http://data.pr4e.org/romeo.txt')\n",
        "#per mostrar-ho tot:\n",
        "for line in fhand:\n",
        "  print(line.decode().strip())"
      ],
      "execution_count": null,
      "outputs": [
        {
          "output_type": "stream",
          "text": [
            "But soft what light through yonder window breaks\n",
            "It is the east and Juliet is the sun\n",
            "Arise fair sun and kill the envious moon\n",
            "Who is already sick and pale with grief\n"
          ],
          "name": "stdout"
        }
      ]
    },
    {
      "cell_type": "code",
      "metadata": {
        "id": "sK1_9mkCXO4I",
        "colab_type": "code",
        "colab": {
          "base_uri": "https://localhost:8080/",
          "height": 55
        },
        "outputId": "a80097fc-9d6f-4dea-c751-32f41d9042d8"
      },
      "source": [
        "import urllib.request, urllib.parse, urllib.error\n",
        "fhand = urllib.request.urlopen('http://data.pr4e.org/romeo.txt')\n",
        "#contem paraules (ja hem vist com a sessions anteriors):\n",
        "counts = {}\n",
        "for line in fhand:\n",
        "  words = line.decode().split()\n",
        "  for word in words:\n",
        "    counts[word] = counts.get(word, 0) + 1\n",
        "print(counts)"
      ],
      "execution_count": null,
      "outputs": [
        {
          "output_type": "stream",
          "text": [
            "{'But': 1, 'soft': 1, 'what': 1, 'light': 1, 'through': 1, 'yonder': 1, 'window': 1, 'breaks': 1, 'It': 1, 'is': 3, 'the': 3, 'east': 1, 'and': 3, 'Juliet': 1, 'sun': 2, 'Arise': 1, 'fair': 1, 'kill': 1, 'envious': 1, 'moon': 1, 'Who': 1, 'already': 1, 'sick': 1, 'pale': 1, 'with': 1, 'grief': 1}\n"
          ],
          "name": "stdout"
        }
      ]
    },
    {
      "cell_type": "markdown",
      "metadata": {
        "id": "z6d8eWdeXFjF",
        "colab_type": "text"
      },
      "source": [
        "###Web Scraping"
      ]
    },
    {
      "cell_type": "markdown",
      "metadata": {
        "id": "sN2s1Ix7ZbCT",
        "colab_type": "text"
      },
      "source": [
        "Ús d'un scropt o programa per cercar en pàgines web, extreure'n informació i cercar més pàgines web. Es pot veure què està lligat a què, extreure dades i estudies de plataformes sense aquesta capacitat, etc. Hi ha una mica de controvèrsia i s'ha de vigilar amb els termes de servei de les pàgines web i la publicació d'informació patentada o sota copyright."
      ]
    },
    {
      "cell_type": "markdown",
      "metadata": {
        "id": "Wwh5eDwZaOZS",
        "colab_type": "text"
      },
      "source": [
        "####Beautiful Soup"
      ]
    },
    {
      "cell_type": "markdown",
      "metadata": {
        "id": "zpTAeHmNaS1_",
        "colab_type": "text"
      },
      "source": [
        "Per fer cerques de *strings* el més recomanable és utilitzar el software/llibreria BeautifulSoup, de bs4."
      ]
    },
    {
      "cell_type": "code",
      "metadata": {
        "id": "2kEj8IUVRqIk",
        "colab_type": "code",
        "colab": {
          "base_uri": "https://localhost:8080/",
          "height": 557
        },
        "outputId": "599bb46a-9579-4c2d-c12d-1884aefabe02"
      },
      "source": [
        "import urllib.request, urllib.parse, urllib.error\n",
        "from bs4 import BeautifulSoup\n",
        "\n",
        "url = input('Enter - ')\n",
        "html = urllib.request.urlopen(url).read()\n",
        "soup = BeautifulSoup(html, 'html.parser')\n",
        "\n",
        "#buscar tots els links (com tags per anar a altres pàgines des de la introduïda)\n",
        "tags = soup('a')\n",
        "for tag in tags:\n",
        "  print(tag.get('href', None))"
      ],
      "execution_count": null,
      "outputs": [
        {
          "output_type": "error",
          "ename": "KeyboardInterrupt",
          "evalue": "ignored",
          "traceback": [
            "\u001b[0;31m---------------------------------------------------------------------------\u001b[0m",
            "\u001b[0;31mKeyboardInterrupt\u001b[0m                         Traceback (most recent call last)",
            "\u001b[0;32m/usr/local/lib/python3.6/dist-packages/ipykernel/kernelbase.py\u001b[0m in \u001b[0;36m_input_request\u001b[0;34m(self, prompt, ident, parent, password)\u001b[0m\n\u001b[1;32m    728\u001b[0m             \u001b[0;32mtry\u001b[0m\u001b[0;34m:\u001b[0m\u001b[0;34m\u001b[0m\u001b[0;34m\u001b[0m\u001b[0m\n\u001b[0;32m--> 729\u001b[0;31m                 \u001b[0mident\u001b[0m\u001b[0;34m,\u001b[0m \u001b[0mreply\u001b[0m \u001b[0;34m=\u001b[0m \u001b[0mself\u001b[0m\u001b[0;34m.\u001b[0m\u001b[0msession\u001b[0m\u001b[0;34m.\u001b[0m\u001b[0mrecv\u001b[0m\u001b[0;34m(\u001b[0m\u001b[0mself\u001b[0m\u001b[0;34m.\u001b[0m\u001b[0mstdin_socket\u001b[0m\u001b[0;34m,\u001b[0m \u001b[0;36m0\u001b[0m\u001b[0;34m)\u001b[0m\u001b[0;34m\u001b[0m\u001b[0;34m\u001b[0m\u001b[0m\n\u001b[0m\u001b[1;32m    730\u001b[0m             \u001b[0;32mexcept\u001b[0m \u001b[0mException\u001b[0m\u001b[0;34m:\u001b[0m\u001b[0;34m\u001b[0m\u001b[0;34m\u001b[0m\u001b[0m\n",
            "\u001b[0;32m/usr/local/lib/python3.6/dist-packages/jupyter_client/session.py\u001b[0m in \u001b[0;36mrecv\u001b[0;34m(self, socket, mode, content, copy)\u001b[0m\n\u001b[1;32m    802\u001b[0m         \u001b[0;32mtry\u001b[0m\u001b[0;34m:\u001b[0m\u001b[0;34m\u001b[0m\u001b[0;34m\u001b[0m\u001b[0m\n\u001b[0;32m--> 803\u001b[0;31m             \u001b[0mmsg_list\u001b[0m \u001b[0;34m=\u001b[0m \u001b[0msocket\u001b[0m\u001b[0;34m.\u001b[0m\u001b[0mrecv_multipart\u001b[0m\u001b[0;34m(\u001b[0m\u001b[0mmode\u001b[0m\u001b[0;34m,\u001b[0m \u001b[0mcopy\u001b[0m\u001b[0;34m=\u001b[0m\u001b[0mcopy\u001b[0m\u001b[0;34m)\u001b[0m\u001b[0;34m\u001b[0m\u001b[0;34m\u001b[0m\u001b[0m\n\u001b[0m\u001b[1;32m    804\u001b[0m         \u001b[0;32mexcept\u001b[0m \u001b[0mzmq\u001b[0m\u001b[0;34m.\u001b[0m\u001b[0mZMQError\u001b[0m \u001b[0;32mas\u001b[0m \u001b[0me\u001b[0m\u001b[0;34m:\u001b[0m\u001b[0;34m\u001b[0m\u001b[0;34m\u001b[0m\u001b[0m\n",
            "\u001b[0;32m/usr/local/lib/python3.6/dist-packages/zmq/sugar/socket.py\u001b[0m in \u001b[0;36mrecv_multipart\u001b[0;34m(self, flags, copy, track)\u001b[0m\n\u001b[1;32m    474\u001b[0m         \"\"\"\n\u001b[0;32m--> 475\u001b[0;31m         \u001b[0mparts\u001b[0m \u001b[0;34m=\u001b[0m \u001b[0;34m[\u001b[0m\u001b[0mself\u001b[0m\u001b[0;34m.\u001b[0m\u001b[0mrecv\u001b[0m\u001b[0;34m(\u001b[0m\u001b[0mflags\u001b[0m\u001b[0;34m,\u001b[0m \u001b[0mcopy\u001b[0m\u001b[0;34m=\u001b[0m\u001b[0mcopy\u001b[0m\u001b[0;34m,\u001b[0m \u001b[0mtrack\u001b[0m\u001b[0;34m=\u001b[0m\u001b[0mtrack\u001b[0m\u001b[0;34m)\u001b[0m\u001b[0;34m]\u001b[0m\u001b[0;34m\u001b[0m\u001b[0;34m\u001b[0m\u001b[0m\n\u001b[0m\u001b[1;32m    476\u001b[0m         \u001b[0;31m# have first part already, only loop while more to receive\u001b[0m\u001b[0;34m\u001b[0m\u001b[0;34m\u001b[0m\u001b[0;34m\u001b[0m\u001b[0m\n",
            "\u001b[0;32mzmq/backend/cython/socket.pyx\u001b[0m in \u001b[0;36mzmq.backend.cython.socket.Socket.recv\u001b[0;34m()\u001b[0m\n",
            "\u001b[0;32mzmq/backend/cython/socket.pyx\u001b[0m in \u001b[0;36mzmq.backend.cython.socket.Socket.recv\u001b[0;34m()\u001b[0m\n",
            "\u001b[0;32mzmq/backend/cython/socket.pyx\u001b[0m in \u001b[0;36mzmq.backend.cython.socket._recv_copy\u001b[0;34m()\u001b[0m\n",
            "\u001b[0;32m/usr/local/lib/python3.6/dist-packages/zmq/backend/cython/checkrc.pxd\u001b[0m in \u001b[0;36mzmq.backend.cython.checkrc._check_rc\u001b[0;34m()\u001b[0m\n",
            "\u001b[0;31mKeyboardInterrupt\u001b[0m: ",
            "\nDuring handling of the above exception, another exception occurred:\n",
            "\u001b[0;31mKeyboardInterrupt\u001b[0m                         Traceback (most recent call last)",
            "\u001b[0;32m<ipython-input-14-ee9b90413790>\u001b[0m in \u001b[0;36m<module>\u001b[0;34m()\u001b[0m\n\u001b[1;32m      2\u001b[0m \u001b[0;32mfrom\u001b[0m \u001b[0mbs4\u001b[0m \u001b[0;32mimport\u001b[0m \u001b[0mBeautifulSoup\u001b[0m\u001b[0;34m\u001b[0m\u001b[0;34m\u001b[0m\u001b[0m\n\u001b[1;32m      3\u001b[0m \u001b[0;34m\u001b[0m\u001b[0m\n\u001b[0;32m----> 4\u001b[0;31m \u001b[0murl\u001b[0m \u001b[0;34m=\u001b[0m \u001b[0minput\u001b[0m\u001b[0;34m(\u001b[0m\u001b[0;34m'Enter - '\u001b[0m\u001b[0;34m)\u001b[0m\u001b[0;34m\u001b[0m\u001b[0;34m\u001b[0m\u001b[0m\n\u001b[0m\u001b[1;32m      5\u001b[0m \u001b[0mhtml\u001b[0m \u001b[0;34m=\u001b[0m \u001b[0murllib\u001b[0m\u001b[0;34m.\u001b[0m\u001b[0mrequest\u001b[0m\u001b[0;34m.\u001b[0m\u001b[0murlopen\u001b[0m\u001b[0;34m(\u001b[0m\u001b[0murl\u001b[0m\u001b[0;34m)\u001b[0m\u001b[0;34m.\u001b[0m\u001b[0mread\u001b[0m\u001b[0;34m(\u001b[0m\u001b[0;34m)\u001b[0m\u001b[0;34m\u001b[0m\u001b[0;34m\u001b[0m\u001b[0m\n\u001b[1;32m      6\u001b[0m \u001b[0msoup\u001b[0m \u001b[0;34m=\u001b[0m \u001b[0mBeautifulSoup\u001b[0m\u001b[0;34m(\u001b[0m\u001b[0mhtml\u001b[0m\u001b[0;34m,\u001b[0m \u001b[0;34m'html.parser'\u001b[0m\u001b[0;34m)\u001b[0m\u001b[0;34m\u001b[0m\u001b[0;34m\u001b[0m\u001b[0m\n",
            "\u001b[0;32m/usr/local/lib/python3.6/dist-packages/ipykernel/kernelbase.py\u001b[0m in \u001b[0;36mraw_input\u001b[0;34m(self, prompt)\u001b[0m\n\u001b[1;32m    702\u001b[0m             \u001b[0mself\u001b[0m\u001b[0;34m.\u001b[0m\u001b[0m_parent_ident\u001b[0m\u001b[0;34m,\u001b[0m\u001b[0;34m\u001b[0m\u001b[0;34m\u001b[0m\u001b[0m\n\u001b[1;32m    703\u001b[0m             \u001b[0mself\u001b[0m\u001b[0;34m.\u001b[0m\u001b[0m_parent_header\u001b[0m\u001b[0;34m,\u001b[0m\u001b[0;34m\u001b[0m\u001b[0;34m\u001b[0m\u001b[0m\n\u001b[0;32m--> 704\u001b[0;31m             \u001b[0mpassword\u001b[0m\u001b[0;34m=\u001b[0m\u001b[0;32mFalse\u001b[0m\u001b[0;34m,\u001b[0m\u001b[0;34m\u001b[0m\u001b[0;34m\u001b[0m\u001b[0m\n\u001b[0m\u001b[1;32m    705\u001b[0m         )\n\u001b[1;32m    706\u001b[0m \u001b[0;34m\u001b[0m\u001b[0m\n",
            "\u001b[0;32m/usr/local/lib/python3.6/dist-packages/ipykernel/kernelbase.py\u001b[0m in \u001b[0;36m_input_request\u001b[0;34m(self, prompt, ident, parent, password)\u001b[0m\n\u001b[1;32m    732\u001b[0m             \u001b[0;32mexcept\u001b[0m \u001b[0mKeyboardInterrupt\u001b[0m\u001b[0;34m:\u001b[0m\u001b[0;34m\u001b[0m\u001b[0;34m\u001b[0m\u001b[0m\n\u001b[1;32m    733\u001b[0m                 \u001b[0;31m# re-raise KeyboardInterrupt, to truncate traceback\u001b[0m\u001b[0;34m\u001b[0m\u001b[0;34m\u001b[0m\u001b[0;34m\u001b[0m\u001b[0m\n\u001b[0;32m--> 734\u001b[0;31m                 \u001b[0;32mraise\u001b[0m \u001b[0mKeyboardInterrupt\u001b[0m\u001b[0;34m\u001b[0m\u001b[0;34m\u001b[0m\u001b[0m\n\u001b[0m\u001b[1;32m    735\u001b[0m             \u001b[0;32melse\u001b[0m\u001b[0;34m:\u001b[0m\u001b[0;34m\u001b[0m\u001b[0;34m\u001b[0m\u001b[0m\n\u001b[1;32m    736\u001b[0m                 \u001b[0;32mbreak\u001b[0m\u001b[0;34m\u001b[0m\u001b[0;34m\u001b[0m\u001b[0m\n",
            "\u001b[0;31mKeyboardInterrupt\u001b[0m: "
          ]
        }
      ]
    },
    {
      "cell_type": "markdown",
      "metadata": {
        "id": "FVaZMVElhX6m",
        "colab_type": "text"
      },
      "source": [
        "###Entrega 1 de la setmana"
      ]
    },
    {
      "cell_type": "markdown",
      "metadata": {
        "id": "H80gM1vqhaOd",
        "colab_type": "text"
      },
      "source": [
        "Va sobre els primers temes:"
      ]
    },
    {
      "cell_type": "markdown",
      "metadata": {
        "id": "ZgXsI842heBG",
        "colab_type": "text"
      },
      "source": [
        "You are to retrieve the following document using the HTTP protocol in a way that you can examine the HTTP Response headers.\n",
        "* http://data.pr4e.org/intro-short.txt\n",
        "\n",
        "There are three ways that you might retrieve this web page and look at the response headers:\n",
        "* Preferred: Modify the socket1.py program to retrieve the above URL and print out the headers and data. Make sure to change the code to retrieve the above URL - the values are different for each URL.\n",
        "* Open the URL in a web browser with a developer console or FireBug and manually examine the headers that are returned.\n",
        "*Use the telnet program as shown in lecture to retrieve the headers and content."
      ]
    },
    {
      "cell_type": "code",
      "metadata": {
        "id": "mokSDPbreeXj",
        "colab_type": "code",
        "colab": {
          "base_uri": "https://localhost:8080/",
          "height": 416
        },
        "outputId": "e533064c-027c-44d7-a2c3-ac7f8f181ef3"
      },
      "source": [
        "import socket\n",
        "\n",
        "mysock = socket.socket(socket.AF_INET, socket.SOCK_STREAM)\n",
        "mysock.connect(('data.pr4e.org', 80))\n",
        "cmd = 'GET http://data.pr4e.org/intro-short.txt HTTP/1.0\\r\\n\\r\\n'.encode()\n",
        "mysock.send(cmd)\n",
        "\n",
        "while True:\n",
        "  data = mysock.recv(512)\n",
        "  if len(data)<1:\n",
        "    break\n",
        "  print(data.decode(), end='')\n",
        "mysock.close()"
      ],
      "execution_count": null,
      "outputs": [
        {
          "output_type": "stream",
          "text": [
            "HTTP/1.1 200 OK\r\n",
            "Date: Sat, 27 Jun 2020 16:27:02 GMT\r\n",
            "Server: Apache/2.4.18 (Ubuntu)\r\n",
            "Last-Modified: Sat, 13 May 2017 11:22:22 GMT\r\n",
            "ETag: \"1d3-54f6609240717\"\r\n",
            "Accept-Ranges: bytes\r\n",
            "Content-Length: 467\r\n",
            "Cache-Control: max-age=0, no-cache, no-store, must-revalidate\r\n",
            "Pragma: no-cache\r\n",
            "Expires: Wed, 11 Jan 1984 05:00:00 GMT\r\n",
            "Connection: close\r\n",
            "Content-Type: text/plain\r\n",
            "\r\n",
            "Why should you learn to write programs?\n",
            "\n",
            "Writing programs (or programming) is a very creative \n",
            "and rewarding activity.  You can write programs for \n",
            "many reasons, ranging from making your living to solving\n",
            "a difficult data analysis problem to having fun to helping\n",
            "someone else solve a problem.  This book assumes that \n",
            "everyone needs to know how to program, and that once \n",
            "you know how to program you will figure out what you want \n",
            "to do with your newfound skills.  \n"
          ],
          "name": "stdout"
        }
      ]
    },
    {
      "cell_type": "markdown",
      "metadata": {
        "id": "N3Fk42h1jTCa",
        "colab_type": "text"
      },
      "source": [
        "###Entrega 2 de la setmana"
      ]
    },
    {
      "cell_type": "markdown",
      "metadata": {
        "id": "A6FMRxThk3N5",
        "colab_type": "text"
      },
      "source": [
        "**Scraping Numbers from HTML using BeautifulSoup** In this assignment you will write a Python program similar to http://www.py4e.com/code3/urllink2.py. The program will use **urllib** to read the HTML from the data files below, and parse the data, extracting numbers and compute the sum of the numbers in the file.\n",
        "\n",
        "We provide two files for this assignment. One is a sample file where we give you the sum for your testing and the other is the actual data you need to process for the assignment.\n",
        "\n",
        "* Sample data: http://py4e-data.dr-chuck.net/comments_42.html (Sum=2553)\n",
        "* Actual data: http://py4e-data.dr-chuck.net/comments_721151.html (Sum ends with 6)\n",
        "\n",
        "The file is a table of names and comment counts. You can ignore most of the data in the file except for lines like the following:"
      ]
    },
    {
      "cell_type": "code",
      "metadata": {
        "id": "HkIMkqC0iLe5",
        "colab_type": "code",
        "colab": {}
      },
      "source": [
        "<tr><td>Modu</td><td><span class=\"comments\">90</span></td></tr>\n",
        "<tr><td>Kenzie</td><td><span class=\"comments\">88</span></td></tr>\n",
        "<tr><td>Hubert</td><td><span class=\"comments\">87</span></td></tr>"
      ],
      "execution_count": null,
      "outputs": []
    },
    {
      "cell_type": "markdown",
      "metadata": {
        "id": "ZatC_fG7leuF",
        "colab_type": "text"
      },
      "source": [
        "You are to find all the <$\\text{span}$> tags in the file and pull out the numbers from the tag and sum the numbers.\n",
        "Look at the sample code (https://www.py4e.com/code3/urllink2.py) provided. It shows how to find all of a certain kind of tag, loop through the tags and extract the various aspects of the tags."
      ]
    },
    {
      "cell_type": "code",
      "metadata": {
        "id": "G9TMXomwmP4a",
        "colab_type": "code",
        "colab": {}
      },
      "source": [
        "...\n",
        "# Retrieve all of the anchor tags\n",
        "tags = soup('a')\n",
        "for tag in tags:\n",
        "   # Look at the parts of a tag\n",
        "   print 'TAG:',tag\n",
        "   print 'URL:',tag.get('href', None)\n",
        "   print 'Contents:',tag.contents[0]\n",
        "   print 'Attrs:',tag.attrs"
      ],
      "execution_count": null,
      "outputs": []
    },
    {
      "cell_type": "markdown",
      "metadata": {
        "id": "gvS9k_HlmQ8Z",
        "colab_type": "text"
      },
      "source": [
        "You need to adjust this code to look for **span** tags and pull out the text content of the span tag, convert them to integers and add them up to complete the assignment.\n",
        "\n",
        "Sample Execution:"
      ]
    },
    {
      "cell_type": "code",
      "metadata": {
        "id": "ukPiecFYmmoj",
        "colab_type": "code",
        "colab": {}
      },
      "source": [
        "$ python3 solution.py\n",
        "Enter - http://py4e-data.dr-chuck.net/comments_42.html\n",
        "Count 50\n",
        "Sum 2..."
      ],
      "execution_count": null,
      "outputs": []
    },
    {
      "cell_type": "markdown",
      "metadata": {
        "id": "vI4ItjXTmnoG",
        "colab_type": "text"
      },
      "source": [
        "####Solució:"
      ]
    },
    {
      "cell_type": "code",
      "metadata": {
        "id": "DaLkUS4tmrbw",
        "colab_type": "code",
        "colab": {
          "base_uri": "https://localhost:8080/",
          "height": 66
        },
        "outputId": "3b1237f5-79d5-4aca-ffbd-81ba325cb655"
      },
      "source": [
        "from urllib.request import urlopen\n",
        "from bs4 import BeautifulSoup\n",
        "import ssl\n",
        "import re\n",
        "\n",
        "# Ignore SSL certificate errors\n",
        "ctx = ssl.create_default_context()\n",
        "ctx.check_hostname = False\n",
        "ctx.verify_mode = ssl.CERT_NONE\n",
        "\n",
        "url = input('Enter - ')\n",
        "html = urlopen(url, context=ctx).read()\n",
        "soup = BeautifulSoup(html, \"html.parser\")\n",
        "\n",
        "# Retrieve all of the anchor tags\n",
        "tags = soup('span')\n",
        "total = []\n",
        "count=0\n",
        "for tag in tags:\n",
        "    total.append(int(tag.contents[0]))\n",
        "    count+=1\n",
        "print('Count',count)\n",
        "print('Sum',sum(total))"
      ],
      "execution_count": null,
      "outputs": [
        {
          "output_type": "stream",
          "text": [
            "Enter - http://py4e-data.dr-chuck.net/comments_721151.html\n",
            "Count 50\n",
            "Sum 2606\n"
          ],
          "name": "stdout"
        }
      ]
    },
    {
      "cell_type": "markdown",
      "metadata": {
        "id": "3f9y-hEoGHol",
        "colab_type": "text"
      },
      "source": [
        "###Entrega 3 de la setmana"
      ]
    },
    {
      "cell_type": "markdown",
      "metadata": {
        "id": "t_9-oQN0f9M7",
        "colab_type": "text"
      },
      "source": [
        "In this assignment you will write a Python program that expands on http://www.py4e.com/code3/urllinks.py. The program will use urllib to read the HTML from the data files below, extract the href= vaues from the anchor tags, scan for a tag that is in a particular position relative to the first name in the list, follow that link and repeat the process a number of times and report the last name you find.\n",
        "\n",
        "We provide two files for this assignment. One is a sample file where we give you the name for your testing and the other is the actual data you need to process for the assignment\n",
        "* Sample problem: Start at http://py4e-data.dr-chuck.net/known_by_Fikret.html\n",
        "Find the link at position 3 (the first name is 1). Follow that link. Repeat this process 4 times. The answer is the last name that you retrieve.\n",
        "Sequence of names: Fikret Montgomery Mhairade Butchi Anayah\n",
        "Last name in sequence: Anayah\n",
        "* Actual problem: Start at: http://py4e-data.dr-chuck.net/known_by_Ty.html\n",
        "Find the link at position 18 (the first name is 1). Follow that link. Repeat this process 7 times. The answer is the last name that you retrieve.\n",
        "Hint: The first character of the name of the last page that you will load is: E\n",
        "\n",
        "**Strategy**\n",
        "\n",
        "The web pages tweak the height between the links and hide the page after a few seconds to make it difficult for you to do the assignment without writing a Python program. But frankly with a little effort and patience you can overcome these attempts to make it a little harder to complete the assignment without writing a Python program. But that is not the point. The point is to write a clever Python program to solve the program."
      ]
    },
    {
      "cell_type": "markdown",
      "metadata": {
        "id": "9ry4MldahHXa",
        "colab_type": "text"
      },
      "source": [
        "####Exemple"
      ]
    },
    {
      "cell_type": "markdown",
      "metadata": {
        "id": "TYRy77YKhKXX",
        "colab_type": "text"
      },
      "source": [
        "**Sample Execution**\n",
        "\n",
        "Here is a sample execution of a solution:\n",
        "\n",
        "The answer to the assignment for this execution is \"Anayah\"."
      ]
    },
    {
      "cell_type": "code",
      "metadata": {
        "id": "VHZwahtJhJw4",
        "colab_type": "code",
        "colab": {}
      },
      "source": [
        "$ python3 solution.py\n",
        "Enter URL: http://py4e-data.dr-chuck.net/known_by_Fikret.html\n",
        "Enter count: 4\n",
        "Enter position: 3\n",
        "Retrieving: http://py4e-data.dr-chuck.net/known_by_Fikret.html\n",
        "Retrieving: http://py4e-data.dr-chuck.net/known_by_Montgomery.html\n",
        "Retrieving: http://py4e-data.dr-chuck.net/known_by_Mhairade.html\n",
        "Retrieving: http://py4e-data.dr-chuck.net/known_by_Butchi.html\n",
        "Retrieving: http://py4e-data.dr-chuck.net/known_by_Anayah.html"
      ],
      "execution_count": null,
      "outputs": []
    },
    {
      "cell_type": "markdown",
      "metadata": {
        "id": "jj1SnmjVhwTH",
        "colab_type": "text"
      },
      "source": [
        "####Solució"
      ]
    },
    {
      "cell_type": "code",
      "metadata": {
        "id": "1bPvagXnGKVS",
        "colab_type": "code",
        "colab": {
          "base_uri": "https://localhost:8080/",
          "height": 216
        },
        "outputId": "3acf81d5-d600-48b4-8431-d69c30fb38d0"
      },
      "source": [
        "import urllib.request, urllib.parse, urllib.error\n",
        "from bs4 import BeautifulSoup\n",
        "import ssl\n",
        "import re\n",
        "\n",
        "# Ignore SSL certificate errors\n",
        "ctx = ssl.create_default_context()\n",
        "ctx.check_hostname = False\n",
        "ctx.verify_mode = ssl.CERT_NONE\n",
        "\n",
        "url = input('Enter URL:')\n",
        "html = urllib.request.urlopen(url, context=ctx).read()\n",
        "soup = BeautifulSoup(html, 'html.parser')\n",
        "\n",
        "count = input('Enter count:')\n",
        "count = int(count)\n",
        "pos = input('Enter position:')\n",
        "pos = int(pos)\n",
        "tags = soup('a')\n",
        "tag = tags[0]\n",
        "print(tag.get('href', None))\n",
        "for i in range(count):\n",
        "  tags = soup('a')\n",
        "  tag = tags[pos-1]\n",
        "  print('Retrievering:',tag.get('href', None))\n",
        "  url = tag.get('href', None)\n",
        "  html = urllib.request.urlopen(url, context=ctx).read()\n",
        "  soup = BeautifulSoup(html, 'html.parser')\n",
        "print(re.findall('by_(.*).html', tag.get('href', None)))"
      ],
      "execution_count": null,
      "outputs": [
        {
          "output_type": "stream",
          "text": [
            "Enter URL:http://py4e-data.dr-chuck.net/known_by_Ty.html\n",
            "Enter count:7\n",
            "Enter position:18\n",
            "http://py4e-data.dr-chuck.net/known_by_Siriol.html\n",
            "Retrievering: http://py4e-data.dr-chuck.net/known_by_Masood.html\n",
            "Retrievering: http://py4e-data.dr-chuck.net/known_by_Kenyon.html\n",
            "Retrievering: http://py4e-data.dr-chuck.net/known_by_Darrius.html\n",
            "Retrievering: http://py4e-data.dr-chuck.net/known_by_Gracie.html\n",
            "Retrievering: http://py4e-data.dr-chuck.net/known_by_Kerris.html\n",
            "Retrievering: http://py4e-data.dr-chuck.net/known_by_Hamish.html\n",
            "Retrievering: http://py4e-data.dr-chuck.net/known_by_Elyse.html\n",
            "['Elyse']\n"
          ],
          "name": "stdout"
        }
      ]
    },
    {
      "cell_type": "markdown",
      "metadata": {
        "id": "fNnIfIhB1tyO",
        "colab_type": "text"
      },
      "source": [
        "##Sessió 3"
      ]
    },
    {
      "cell_type": "markdown",
      "metadata": {
        "id": "eMHUl98U12bR",
        "colab_type": "text"
      },
      "source": [
        "###XML"
      ]
    },
    {
      "cell_type": "markdown",
      "metadata": {
        "id": "vLifYKmy14rQ",
        "colab_type": "text"
      },
      "source": [
        "És l'acrònim per **eXtensible Markup Language**. Com el nom indica no és més que un llenguatge de programari i s'utilitza com a pont entre diferents llenguatges més comuns per fer *scripts*, com per exemple Python o Java.\n",
        "\n",
        "El format general és, sense seguir indexació (ni espais en blanc quan no estem a *text content*):\n",
        "\n",
        "\\<start tag\\> text content \\</end tag\\>\n",
        "\n",
        "Poden haver atributs dins dels \\<start tag\\> com a \\<start tag attribute=\"whatever\"\\>"
      ]
    },
    {
      "cell_type": "markdown",
      "metadata": {
        "id": "N9eLho0jy_Nv",
        "colab_type": "text"
      },
      "source": [
        "### Parsing XML"
      ]
    },
    {
      "cell_type": "markdown",
      "metadata": {
        "id": "kJRSX6pbzMM-",
        "colab_type": "text"
      },
      "source": [
        "For a single tag"
      ]
    },
    {
      "cell_type": "code",
      "metadata": {
        "id": "j92PNSf8tDQ9",
        "colab_type": "code",
        "colab": {
          "base_uri": "https://localhost:8080/",
          "height": 50
        },
        "outputId": "461d889e-6432-4656-aead-1047c29da138"
      },
      "source": [
        "import xml.etree.ElementTree as ET\n",
        "data = '''<person>\n",
        "      <name>Arnau</name>\n",
        "      <phone type=\"intl\">\n",
        "      +34 123 456 789\n",
        "      </phone>\n",
        "      <email hide=\"yes\"/>\n",
        "      </person>'''\n",
        "tree = ET.fromstring(data)\n",
        "print('Name:', tree.find('name').text)\n",
        "print('Attr:', tree.find('email').get('hide'))"
      ],
      "execution_count": null,
      "outputs": [
        {
          "output_type": "stream",
          "text": [
            "Name: Arnau\n",
            "Attr: yes\n"
          ],
          "name": "stdout"
        }
      ]
    },
    {
      "cell_type": "markdown",
      "metadata": {
        "id": "q6nnilnczO6Q",
        "colab_type": "text"
      },
      "source": [
        "For multiple tags"
      ]
    },
    {
      "cell_type": "code",
      "metadata": {
        "id": "z_eoIM-8w4Hb",
        "colab_type": "code",
        "colab": {
          "base_uri": "https://localhost:8080/",
          "height": 133
        },
        "outputId": "fbbb7471-5ddc-4ee5-906e-ceb6ddcf5eae"
      },
      "source": [
        "import xml.etree.ElementTree as ET\n",
        "input = '''<stuff>\n",
        "  <users>\n",
        "    <user x=\"2\">\n",
        "      <id>001</id>\n",
        "      <name>Arnau</name>\n",
        "    </user>\n",
        "    <user x=\"7\">\n",
        "      <id>009</id>\n",
        "      <name>Oriol</name>\n",
        "    </user>\n",
        "  </users>\n",
        "</stuff>'''\n",
        "stuff = ET.fromstring(input)\n",
        "lst = stuff.findall('users/user')\n",
        "print('User count:', len(lst))\n",
        "for item in lst:\n",
        "  print('Name:', item.find('name').text)\n",
        "  print('ID:', item.find('id').text)\n",
        "  print('Attribute:', item.get(\"x\"))\n",
        "        "
      ],
      "execution_count": null,
      "outputs": [
        {
          "output_type": "stream",
          "text": [
            "User count: 2\n",
            "Name: Arnau\n",
            "ID: 001\n",
            "Attribute: 2\n",
            "Name: Oriol\n",
            "ID: 009\n",
            "Attribute: 7\n"
          ],
          "name": "stdout"
        }
      ]
    },
    {
      "cell_type": "markdown",
      "metadata": {
        "id": "4lBhcpxO56Rv",
        "colab_type": "text"
      },
      "source": [
        "###Entrega de la setmana"
      ]
    },
    {
      "cell_type": "markdown",
      "metadata": {
        "id": "HSLCdHfC6CA0",
        "colab_type": "text"
      },
      "source": [
        "In this assignment you will write a Python program somewhat similar to http://www.py4e.com/code3/geoxml.py. The program will prompt for a URL, read the XML data from that URL using urllib and then parse and extract the comment counts from the XML data, compute the sum of the numbers in the file.\n",
        "\n",
        "We provide two files for this assignment. One is a sample file where we give you the sum for your testing and the other is the actual data you need to process for the assignment.\n",
        "\n",
        "* Sample data: http://py4e-data.dr-chuck.net/comments_42.xml (Sum=2553)\n",
        "* Actual data: http://py4e-data.dr-chuck.net/comments_721153.xml (Sum ends with 18)\n",
        "\n",
        "You do not need to save these files to your folder since your program will read the data directly from the URL. Note: Each student will have a distinct data url for the assignment - so only use your own data url for analysis.\n",
        "\n",
        "The data consists of a number of names and comment counts in XML as follows:"
      ]
    },
    {
      "cell_type": "code",
      "metadata": {
        "id": "kxtC8HV21ksk",
        "colab_type": "code",
        "colab": {}
      },
      "source": [
        "<comment>\n",
        "  <name>Matthias</name>\n",
        "  <count>97</count>\n",
        "</comment>"
      ],
      "execution_count": null,
      "outputs": []
    },
    {
      "cell_type": "markdown",
      "metadata": {
        "id": "JEENM-d_66H6",
        "colab_type": "text"
      },
      "source": [
        "####Solució"
      ]
    },
    {
      "cell_type": "code",
      "metadata": {
        "id": "rQ1qUUUG9uDC",
        "colab_type": "code",
        "colab": {
          "base_uri": "https://localhost:8080/",
          "height": 227
        },
        "outputId": "7ee467d7-1ae0-412e-9ba6-c853b8baac8a"
      },
      "source": [
        "import urllib.request, urllib.parse, urllib.error\n",
        "import xml.etree.ElementTree as ET\n",
        "import ssl\n",
        "\n",
        "api_key = False\n",
        "# If you have a Google Places API key, enter it here\n",
        "# api_key = 'AIzaSy___IDByT70'\n",
        "# https://developers.google.com/maps/documentation/geocoding/intro\n",
        "\n",
        "if api_key is False:\n",
        "    api_key = 42\n",
        "    serviceurl = 'http://py4e-data.dr-chuck.net/xml?'\n",
        "else :\n",
        "    serviceurl = 'https://maps.googleapis.com/maps/api/geocode/xml?'\n",
        "\n",
        "# Ignore SSL certificate errors\n",
        "ctx = ssl.create_default_context()\n",
        "ctx.check_hostname = False\n",
        "ctx.verify_mode = ssl.CERT_NONE\n",
        "\n",
        "\n",
        "address = input('Enter location: ')\n",
        "\n",
        "\n",
        "parms = dict()\n",
        "parms['address'] = address\n",
        "if api_key is not False: parms['key'] = api_key\n",
        "url = serviceurl + urllib.parse.urlencode(parms)\n",
        "print('Retrieving', address)\n",
        "uh = urllib.request.urlopen(address, context=ctx)\n",
        "\n",
        "data = uh.read()\n",
        "print('Retrieved', len(data), 'characters')\n",
        "\n",
        "tree = ET.fromstring(data.decode())\n",
        "\n",
        "counts = tree.findall('comments/comment')\n",
        "count = 0\n",
        "lst = []\n",
        "for count_tag in counts:\n",
        "  count+=1\n",
        "  lst.append(int(count_tag.find('count').text))\n",
        "print('Count:', count)\n",
        "print('Sum:', sum(lst))"
      ],
      "execution_count": null,
      "outputs": [
        {
          "output_type": "error",
          "ename": "TypeError",
          "evalue": "ignored",
          "traceback": [
            "\u001b[0;31m---------------------------------------------------------------------------\u001b[0m",
            "\u001b[0;31mTypeError\u001b[0m                                 Traceback (most recent call last)",
            "\u001b[0;32m<ipython-input-11-5869dd129c5e>\u001b[0m in \u001b[0;36m<module>\u001b[0;34m()\u001b[0m\n\u001b[1;32m     20\u001b[0m \u001b[0;34m\u001b[0m\u001b[0m\n\u001b[1;32m     21\u001b[0m \u001b[0;34m\u001b[0m\u001b[0m\n\u001b[0;32m---> 22\u001b[0;31m \u001b[0maddress\u001b[0m \u001b[0;34m=\u001b[0m \u001b[0minput\u001b[0m\u001b[0;34m(\u001b[0m\u001b[0;34m'Enter location: '\u001b[0m\u001b[0;34m)\u001b[0m\u001b[0;34m\u001b[0m\u001b[0;34m\u001b[0m\u001b[0m\n\u001b[0m\u001b[1;32m     23\u001b[0m \u001b[0;34m\u001b[0m\u001b[0m\n\u001b[1;32m     24\u001b[0m \u001b[0;34m\u001b[0m\u001b[0m\n",
            "\u001b[0;31mTypeError\u001b[0m: 'str' object is not callable"
          ]
        }
      ]
    },
    {
      "cell_type": "markdown",
      "metadata": {
        "id": "8CU_EHkhGXKY",
        "colab_type": "text"
      },
      "source": [
        "##Sessió 4"
      ]
    },
    {
      "cell_type": "markdown",
      "metadata": {
        "id": "H7KOlku-y3zE",
        "colab_type": "text"
      },
      "source": [
        "###Extracting Data from JSON"
      ]
    },
    {
      "cell_type": "markdown",
      "metadata": {
        "id": "OyiLkn1t0xhv",
        "colab_type": "text"
      },
      "source": [
        "JSON és una eina menys potent que XML a l'hora de contenir informació. Tot i així, gràcies a que amb una simple lçinia de codi es pot transformar la informació en una llista o diccionari de Python com els que ja s'han estudiat, permet un tractament de les dades extremadament més senzill."
      ]
    },
    {
      "cell_type": "code",
      "metadata": {
        "id": "nc_uJZplFyOz",
        "colab_type": "code",
        "colab": {
          "base_uri": "https://localhost:8080/",
          "height": 133
        },
        "outputId": "5d14e3b3-4404-4553-e38a-b84635504635"
      },
      "source": [
        "import json\n",
        "input = '''[\n",
        "{\"id\":\"001\",\n",
        "\"x\":\"2\",\n",
        "\"nom\":\"Arnau\"\n",
        "},\n",
        "{\"id\":\"009\",\n",
        "\"x\":\"7\",\n",
        "\"nom\":\"Oriol\"\n",
        "}\n",
        "]'''\n",
        "\n",
        "info = json.loads(input)\n",
        "#com que serà una llista (comença i acaba per [], si ho fes amb {} seria un diccionari) podem contar elements\n",
        "print('User Count:', len(info))\n",
        "for item in info:\n",
        "  print('Name:', item['nom'])\n",
        "  print('ID:', item['id'])\n",
        "  print('Attr:', item['x'])"
      ],
      "execution_count": null,
      "outputs": [
        {
          "output_type": "stream",
          "text": [
            "User Count: 2\n",
            "Name: Arnau\n",
            "ID: 001\n",
            "Attr: 2\n",
            "Name: Oriol\n",
            "ID: 009\n",
            "Attr: 7\n"
          ],
          "name": "stdout"
        }
      ]
    },
    {
      "cell_type": "markdown",
      "metadata": {
        "id": "P2C9fY9s83rL",
        "colab_type": "text"
      },
      "source": [
        "###Entrega 1 de la setmana"
      ]
    },
    {
      "cell_type": "markdown",
      "metadata": {
        "id": "sZHb4IEg83fM",
        "colab_type": "text"
      },
      "source": [
        "In this assignment you will write a Python program somewhat similar to http://www.py4e.com/code3/json2.py. The program will prompt for a URL, read the JSON data from that URL using urllib and then parse and extract the comment counts from the JSON data, compute the sum of the numbers in the file and enter the sum below:\n",
        "We provide two files for this assignment. One is a sample file where we give you the sum for your testing and the other is the actual data you need to process for the assignment.\n",
        "\n",
        "* Sample data: http://py4e-data.dr-chuck.net/comments_42.json (Sum=2553)\n",
        "* Actual data: http://py4e-data.dr-chuck.net/comments_721154.json (Sum ends with 54)\n",
        "\n",
        "You do not need to save these files to your folder since your program will read the data directly from the URL. Note: Each student will have a distinct data url for the assignment - so only use your own data url for analysis.\n",
        "\n",
        "El format de les dades facilitades és:"
      ]
    },
    {
      "cell_type": "code",
      "metadata": {
        "id": "E2b4uPTB3syX",
        "colab_type": "code",
        "colab": {
          "base_uri": "https://localhost:8080/",
          "height": 127
        },
        "outputId": "cb414f6d-7768-4aa2-ca1d-a5d3df9c62cd"
      },
      "source": [
        "{\n",
        "  comments: [\n",
        "    {\n",
        "      name: \"Matthias\"\n",
        "      count: 97\n",
        "    },\n",
        "    {\n",
        "      name: \"Geomer\"\n",
        "      count: 97\n",
        "    }\n",
        "    ...\n",
        "  ]\n",
        "}"
      ],
      "execution_count": null,
      "outputs": [
        {
          "output_type": "error",
          "ename": "SyntaxError",
          "evalue": "ignored",
          "traceback": [
            "\u001b[0;36m  File \u001b[0;32m\"<ipython-input-3-e1d3fa690836>\"\u001b[0;36m, line \u001b[0;32m5\u001b[0m\n\u001b[0;31m    count: 97\u001b[0m\n\u001b[0m        ^\u001b[0m\n\u001b[0;31mSyntaxError\u001b[0m\u001b[0;31m:\u001b[0m invalid syntax\n"
          ]
        }
      ]
    },
    {
      "cell_type": "markdown",
      "metadata": {
        "id": "uXaGM4c59ODb",
        "colab_type": "text"
      },
      "source": [
        "####Solució"
      ]
    },
    {
      "cell_type": "code",
      "metadata": {
        "id": "CtZNudpp9MKW",
        "colab_type": "code",
        "colab": {
          "base_uri": "https://localhost:8080/",
          "height": 99
        },
        "outputId": "079c554b-4764-4755-baa9-27d76ceb61f6"
      },
      "source": [
        "import urllib.request, urllib.parse, urllib.error\n",
        "import xml.etree.ElementTree as ET\n",
        "import ssl\n",
        "import json\n",
        "\n",
        "\n",
        "# Ignore SSL certificate errors\n",
        "ctx = ssl.create_default_context()\n",
        "ctx.check_hostname = False\n",
        "ctx.verify_mode = ssl.CERT_NONE\n",
        "\n",
        "address = input('Enter location: ')\n",
        "\n",
        "print('Retrieving', address)\n",
        "uh = urllib.request.urlopen(address, context=ctx)\n",
        "\n",
        "data = uh.read()\n",
        "print('Retrieved', len(data), 'characters')\n",
        "\n",
        "son = json.loads(data.decode())\n",
        "fi = []\n",
        "con = 0\n",
        "for i in range(len(son[\"comments\"])):\n",
        "  fi.append(int(son[\"comments\"][i][\"count\"]))\n",
        "  con+=1\n",
        "print('Count:', con)\n",
        "print('Sum:', sum(fi))"
      ],
      "execution_count": null,
      "outputs": [
        {
          "output_type": "stream",
          "text": [
            "Enter location: http://py4e-data.dr-chuck.net/comments_721154.json\n",
            "Retrieving http://py4e-data.dr-chuck.net/comments_721154.json\n",
            "Retrieved 2722 characters\n",
            "Count: 50\n",
            "Sum: 2554\n"
          ],
          "name": "stdout"
        }
      ]
    },
    {
      "cell_type": "markdown",
      "metadata": {
        "id": "i8DOz2yDBS6U",
        "colab_type": "text"
      },
      "source": [
        "###Entrega 2 de la setmana"
      ]
    },
    {
      "cell_type": "markdown",
      "metadata": {
        "id": "Y5rOeuAzB0Pb",
        "colab_type": "text"
      },
      "source": [
        "**Calling a JSON API**\n",
        "\n",
        "In this assignment you will write a Python program somewhat similar to http://www.py4e.com/code3/geojson.py. The program will prompt for a location, contact a web service and retrieve JSON for the web service and parse that data, and retrieve the first place_id from the JSON. A place ID is a textual identifier that uniquely identifies a place as within Google Maps.\n",
        "\n",
        "**API End Points**\n",
        "\n",
        "To complete this assignment, you should use this API endpoint that has a static subset of the Google Data:\n",
        "\n",
        "http://py4e-data.dr-chuck.net/json?\n",
        "\n",
        "This API uses the same parameter (address) as the Google API. This API also has no rate limit so you can test as often as you like. If you visit the URL with no parameters, you get \"No address...\" response.\n",
        "To call the API, you need to include a key= parameter and provide the address that you are requesting as the address= parameter that is properly URL encoded using the urllib.parse.urlencode() function as shown in http://www.py4e.com/code3/geojson.py\n",
        "\n",
        "Make sure to check that your code is using the API endpoint is as shown above. You will get different results from the geojson and json endpoints so make sure you are using the same end point as this autograder is using.\n",
        "\n",
        "You can test to see if your program is working with a location of \"South Federal University\" which will have a place_id of \"ChIJy0Uc1Zmym4gR3fmAYmWNuac\".\n",
        "\n",
        "The solution of the assignment will be the place_id for the *University of Pennsylvania*.\n"
      ]
    },
    {
      "cell_type": "code",
      "metadata": {
        "id": "eJAAwtxJ_cIV",
        "colab_type": "code",
        "colab": {
          "base_uri": "https://localhost:8080/",
          "height": 83
        },
        "outputId": "f2b65864-aad8-4abc-d3f1-68a8a77ea73f"
      },
      "source": [
        "import urllib.request, urllib.parse, urllib.error\n",
        "import json\n",
        "import ssl\n",
        "\n",
        "api_key = False\n",
        "# If you have a Google Places API key, enter it here\n",
        "# api_key = 'AIzaSy___IDByT70'\n",
        "# https://developers.google.com/maps/documentation/geocoding/intro\n",
        "\n",
        "if api_key is False:\n",
        "    api_key = 42\n",
        "    serviceurl = 'http://py4e-data.dr-chuck.net/json?'\n",
        "else :\n",
        "    serviceurl = 'https://maps.googleapis.com/maps/api/geocode/json?'\n",
        "\n",
        "# Ignore SSL certificate errors\n",
        "ctx = ssl.create_default_context()\n",
        "ctx.check_hostname = False\n",
        "ctx.verify_mode = ssl.CERT_NONE\n",
        "\n",
        "\n",
        "address = input('Enter location: ')\n",
        "\n",
        "parms = dict()\n",
        "parms['address'] = address\n",
        "if api_key is not False: parms['key'] = api_key\n",
        "url = serviceurl + urllib.parse.urlencode(parms)\n",
        "\n",
        "print('Retrieving', url)\n",
        "uh = urllib.request.urlopen(url, context=ctx)\n",
        "data = uh.read().decode()\n",
        "print('Retrieved', len(data), 'characters')\n",
        "\n",
        "try:\n",
        "  js = json.loads(data)\n",
        "except:\n",
        "  js = None\n",
        "\n",
        "if not js or 'status' not in js or js['status'] != 'OK':\n",
        "  print('==== Failure To Retrieve ====')\n",
        "  print(data)\n",
        "\n",
        "#print(json.dumps(js, indent=4)) #per veure com està tot en forma de diccionaris i llistes\n",
        "id = js['results'][0]['place_id']\n",
        "print(id)"
      ],
      "execution_count": null,
      "outputs": [
        {
          "output_type": "stream",
          "text": [
            "Enter location: Universitat Autònoma de Barcelona\n",
            "Retrieving http://py4e-data.dr-chuck.net/json?address=Universitat+Aut%C3%B2noma+de+Barcelona&key=42\n",
            "Retrieved 2136 characters\n",
            "ChIJY497myqUpBIRbYL-lRC9UYo\n"
          ],
          "name": "stdout"
        }
      ]
    },
    {
      "cell_type": "markdown",
      "metadata": {
        "id": "0N4567MqZWF8",
        "colab_type": "text"
      },
      "source": [
        "#Quart curs: Using Databases with Python"
      ]
    },
    {
      "cell_type": "markdown",
      "metadata": {
        "id": "a41XcrHdaExR",
        "colab_type": "text"
      },
      "source": [
        "##Sessió 1"
      ]
    },
    {
      "cell_type": "markdown",
      "metadata": {
        "id": "XiTGnNnZbjZb",
        "colab_type": "text"
      },
      "source": [
        "###Unicode Characters and Strings"
      ]
    },
    {
      "cell_type": "code",
      "metadata": {
        "id": "YOuYXWm6FvDu",
        "colab_type": "code",
        "colab": {
          "base_uri": "https://localhost:8080/",
          "height": 33
        },
        "outputId": "768ab624-0eef-4cf5-c0c2-1dee027766fa"
      },
      "source": [
        "#recordem que la funció ord() ens dóna el valor numèric del terme segons els sistema ASCII\n",
        "print(ord('*'))"
      ],
      "execution_count": null,
      "outputs": [
        {
          "output_type": "stream",
          "text": [
            "42\n"
          ],
          "name": "stdout"
        }
      ]
    },
    {
      "cell_type": "markdown",
      "metadata": {
        "id": "gWVQAD3Di0sj",
        "colab_type": "text"
      },
      "source": [
        "Totes les *strings* de Python estan en UNICODE, per compartir-les amb altres llenguatges cal transformar-les en bytes (*to code*), i viceversa si es desitja seguir el procés contrari (*to decode*)."
      ]
    },
    {
      "cell_type": "markdown",
      "metadata": {
        "id": "24sm0YQWpmWB",
        "colab_type": "text"
      },
      "source": [
        "###Object Oriented Programming"
      ]
    },
    {
      "cell_type": "markdown",
      "metadata": {
        "id": "9Y9zZVWBsNVy",
        "colab_type": "text"
      },
      "source": [
        "Revisar conceptes:\n",
        "* Class: gos (concepte)\n",
        "* Instance/Object: gos (objecte real com podria ser la mascota d'algú conegut)\n",
        "* Method/Message: bordar() seria un exemple. Acció que poden fer tots els gossos (com a concepte) però pel qual cal demanar a un en concret (com a objecte real) que ho executi.\n"
      ]
    },
    {
      "cell_type": "code",
      "metadata": {
        "id": "ljIbhaSGjwoE",
        "colab_type": "code",
        "colab": {
          "base_uri": "https://localhost:8080/",
          "height": 50
        },
        "outputId": "71f4e36a-6bb2-4294-9d84-ff1fe866241c"
      },
      "source": [
        "#creating a class\n",
        "class PartyAnimal:\n",
        "  x=0 #a bit of data in the class\n",
        "  def party(self): #a method in the class\n",
        "    self.x = self.x+1\n",
        "    print('So far:', self.x)\n",
        "an = PartyAnimal()\n",
        "an.party()\n",
        "an.party()"
      ],
      "execution_count": null,
      "outputs": [
        {
          "output_type": "stream",
          "text": [
            "So far: 1\n",
            "So far: 2\n"
          ],
          "name": "stdout"
        }
      ]
    },
    {
      "cell_type": "code",
      "metadata": {
        "id": "G8h0GgRdv8c9",
        "colab_type": "code",
        "colab": {
          "base_uri": "https://localhost:8080/",
          "height": 99
        },
        "outputId": "a8c48afb-b908-485b-d788-294b20d73587"
      },
      "source": [
        "#object life cycle\n",
        "class PartyAnimal:\n",
        "  x=0 #a bit of data in the class\n",
        "  def __init__(self): #s'executarà tan aviat com es cridi a algo d'aquesta classe (\"constructor\")\n",
        "    print('I am constructed')\n",
        "  def party(self): #a method in the class\n",
        "    self.x = self.x+1\n",
        "    print('So far:', self.x)\n",
        "  def __del__(self): #s'executarà tan aviat com es cridi a qualseol altra cosa que no és de la classe (\"destructor\")\n",
        "    print('I am destructed', self.x)\n",
        "an = PartyAnimal()\n",
        "an.party()\n",
        "an.party()\n",
        "an = 42\n",
        "print('an contains', an)"
      ],
      "execution_count": null,
      "outputs": [
        {
          "output_type": "stream",
          "text": [
            "I am constructed\n",
            "So far: 1\n",
            "So far: 2\n",
            "I am destructed 2\n",
            "an contains 42\n"
          ],
          "name": "stdout"
        }
      ]
    },
    {
      "cell_type": "code",
      "metadata": {
        "id": "NKbRGL6B0lvC",
        "colab_type": "code",
        "colab": {
          "base_uri": "https://localhost:8080/",
          "height": 99
        },
        "outputId": "5779aa03-d23f-4eef-e2ac-7b5941d63ef9"
      },
      "source": [
        "#constructors can have additional parameters\n",
        "class PartyAnimal:\n",
        "  x = 0\n",
        "  name = \"\"\n",
        "  def __init__(self, z):\n",
        "    self.name = z\n",
        "    print(self.name, 'constructed')\n",
        "  def party(self):\n",
        "    self.x = self.x + 1\n",
        "    print(self.name, 'animal count', self.x)\n",
        "s = PartyAnimal(\"Sally\")\n",
        "s.party()\n",
        "j = PartyAnimal(\"Jim\")\n",
        "j.party()\n",
        "s.party()"
      ],
      "execution_count": null,
      "outputs": [
        {
          "output_type": "stream",
          "text": [
            "Sally constructed\n",
            "Sally animal count 1\n",
            "Jim constructed\n",
            "Jim animal count 1\n",
            "Sally animal count 2\n"
          ],
          "name": "stdout"
        }
      ]
    },
    {
      "cell_type": "markdown",
      "metadata": {
        "id": "AslGfNMYLPt1",
        "colab_type": "text"
      },
      "source": [
        "####Inheritance"
      ]
    },
    {
      "cell_type": "markdown",
      "metadata": {
        "id": "iUtsHRgVLSmi",
        "colab_type": "text"
      },
      "source": [
        "Les classes creades poden reutilitzar-se de manera que es mantenen les funcions atribuides amb anterioritat i afegir-ne de noves."
      ]
    },
    {
      "cell_type": "code",
      "metadata": {
        "id": "8ec50dA2GXOV",
        "colab_type": "code",
        "colab": {
          "base_uri": "https://localhost:8080/",
          "height": 99
        },
        "outputId": "5727f17b-36ef-4c31-d907-d63f58870d8b"
      },
      "source": [
        "#com a exemple, FootballFan serà una extensió de PartyAnimal\n",
        "class PartyAnimal:\n",
        "  x = 0\n",
        "  name = \"\"\n",
        "  def __init__(self, z):\n",
        "    self.name = z\n",
        "    print(self.name, 'constructed')\n",
        "  def party(self):\n",
        "    self.x = self.x + 1\n",
        "    print(self.name, 'animal count', self.x)\n",
        "class FootballFan(PartyAnimal):\n",
        "  points = 0\n",
        "  def touchdown(self):\n",
        "    self.points = self.points + 7\n",
        "    self.party()\n",
        "    print(self.name, 'points', self.points)\n",
        "s = PartyAnimal(\"Sally\")\n",
        "s.party()\n",
        "j = FootballFan(\"Jim\")\n",
        "j.party()\n",
        "j.touchdown()"
      ],
      "execution_count": null,
      "outputs": [
        {
          "output_type": "stream",
          "text": [
            "Sally constructed\n",
            "Sally animal count 1\n",
            "Jim constructed\n",
            "Jim animal count 1\n",
            "Jim points 7\n"
          ],
          "name": "stdout"
        }
      ]
    },
    {
      "cell_type": "markdown",
      "metadata": {
        "id": "iYP1XEzJXJAI",
        "colab_type": "text"
      },
      "source": [
        "##Sessió 2"
      ]
    },
    {
      "cell_type": "markdown",
      "metadata": {
        "id": "Um_wOBN_Y8zp",
        "colab_type": "text"
      },
      "source": [
        "###Databases\n"
      ]
    },
    {
      "cell_type": "markdown",
      "metadata": {
        "id": "pNbavvcZ44x-",
        "colab_type": "text"
      },
      "source": [
        "**Terminologia**\n",
        "\n",
        "* Database: conté diverses *taules*\n",
        "* Relació (o taula): conté *tuples* i *atributs*\n",
        "* Tuple (o fila): conjunt de camps que generalment representen un \"objecte\" com una persona o una pista de música\n",
        "* Atribut (també columna o camp): un de tants elements possibles de dades corresponents a l'objecte representat per la fila"
      ]
    },
    {
      "cell_type": "markdown",
      "metadata": {
        "id": "Q5FK0Byd7XGG",
        "colab_type": "text"
      },
      "source": [
        "**SQL**\n",
        "\n",
        "Acrònim per Structured Query Language i és el llenguatge que s'utiltza per comunicar-se amb les Databases. Normalment serveix per:\n",
        "* Crear taules\n",
        "* Recuperar dades de les Databases\n",
        "* Inserir/Actualitzar dades\n",
        "* Eliminar dades"
      ]
    },
    {
      "cell_type": "markdown",
      "metadata": {
        "id": "LL1qBDwXGICM",
        "colab_type": "text"
      },
      "source": [
        "**Data Analysis Structure**\n",
        "\n",
        "Tindrem el paper d'administradors amb SQLite Browser i el paper de developers utilitzant codi Python, amb els dos programes accedirem i modificarem dades a el fitxer Database. Al programa Python li donarem alguns inputs per tal d'obtenir outputs com per exemple fitxers en R, Excel o D3.js"
      ]
    },
    {
      "cell_type": "markdown",
      "metadata": {
        "id": "mTHVJ67GMY2k",
        "colab_type": "text"
      },
      "source": [
        "###Using SQLite\n",
        "\n",
        "Primer de tot cal instal·lar el programari i seguidament començar a posar en pràctica els següents passos per tal de familiaritzar-se amb el programa.\n",
        "\n",
        "Per crear taules amb dades (els caràcters cal especificar-los) s'utilitza un codi com:\n",
        "```\n",
        "CREATE TABLE Users(\n",
        "\tname VARCHAR(128),\n",
        "\temail VARCHAR(128)\n",
        ")\n",
        "```"
      ]
    },
    {
      "cell_type": "markdown",
      "metadata": {
        "id": "LqHGc3e9O6Gu",
        "colab_type": "text"
      },
      "source": [
        "####SQL Insert"
      ]
    },
    {
      "cell_type": "markdown",
      "metadata": {
        "id": "d0Hc_6nzO-TH",
        "colab_type": "text"
      },
      "source": [
        "A part d'accedir a *Browse Data* i afegir manualment les coses, es pot executar la següent línia:\n",
        "```\n",
        "INSERT INTO Users(name,email) VALUES ('Kristin','kf@umich.edu')\n",
        "```"
      ]
    },
    {
      "cell_type": "markdown",
      "metadata": {
        "id": "RH_qqZDQQSL3",
        "colab_type": "text"
      },
      "source": [
        "####SQL Delete"
      ]
    },
    {
      "cell_type": "markdown",
      "metadata": {
        "id": "sAJRxBaIQXo-",
        "colab_type": "text"
      },
      "source": [
        "Per eliminar alguna fila de la database:\n",
        "```\n",
        "DELETE FROM Users WHERE email='fred@umich.edu'\n",
        "```"
      ]
    },
    {
      "cell_type": "markdown",
      "metadata": {
        "id": "pdw63CXIRn5X",
        "colab_type": "text"
      },
      "source": [
        "####SQL Update"
      ]
    },
    {
      "cell_type": "markdown",
      "metadata": {
        "id": "2-Br8AIkRqI8",
        "colab_type": "text"
      },
      "source": [
        "Permet actualitzar algun camp (field) mitjançant un WHERE:\n",
        "```\n",
        "UPDATE Users SET name='Charles' WHERE email='csev@umich.edu'\n",
        "```\n",
        "Això canvia el nom que tenia atribuït el correu 'csev@umich.edu' pel nou nom 'Charles'"
      ]
    },
    {
      "cell_type": "markdown",
      "metadata": {
        "id": "JjlUGXThTKZR",
        "colab_type": "text"
      },
      "source": [
        "####SQL Retrieving records: Select"
      ]
    },
    {
      "cell_type": "markdown",
      "metadata": {
        "id": "e-p7-YJATVxb",
        "colab_type": "text"
      },
      "source": [
        "Permet recuperar el complet o un subgrup de les dades mitjançant l'execució de:\n",
        "```\n",
        "SELECT*FROM Users WHERE email='csev@umich.edu'\n",
        "```"
      ]
    },
    {
      "cell_type": "markdown",
      "metadata": {
        "id": "Yw4otxZ4VigJ",
        "colab_type": "text"
      },
      "source": [
        "####SQL Sorting with ORDER BY\n",
        "\n",
        "És com un *Select* però en aquest cas es pot decidir ordenar i fer-ho de manera ascendent o descendent.\n",
        "```\n",
        "SELECT*FROM Users ORDER BY email\n",
        "SELECT*FROM Users ORDER BY name\n",
        "```"
      ]
    },
    {
      "cell_type": "markdown",
      "metadata": {
        "id": "3vgSWfGXWmGf",
        "colab_type": "text"
      },
      "source": [
        "###Entrega 1 de la setmana"
      ]
    },
    {
      "cell_type": "markdown",
      "metadata": {
        "id": "gd0iHMjWd2F9",
        "colab_type": "text"
      },
      "source": [
        "Tota es fa amb SQLite, així que no s'insertarà codi aquí. Tot i així les intruccions són (només cal anar copiant):\n",
        "```\n",
        "CREATE TABLE Ages ( \n",
        "  name VARCHAR(128), \n",
        "  age INTEGER\n",
        ")\n",
        "```\n",
        "```\n",
        "DELETE FROM Ages;\n",
        "INSERT INTO Ages (name, age) VALUES ('Teydren', 23);\n",
        "INSERT INTO Ages (name, age) VALUES ('Payton', 36);\n",
        "INSERT INTO Ages (name, age) VALUES ('Neive', 30);\n",
        "INSERT INTO Ages (name, age) VALUES ('Ahmed', 18);\n",
        "INSERT INTO Ages (name, age) VALUES ('Hollee', 16);\n",
        "```\n",
        "```\n",
        "SELECT hex(name || age) AS X FROM Ages ORDER BY X\n",
        "```\n",
        "Find the first row in the resulting record set and enter the long string that looks like *53656C696E613333*."
      ]
    },
    {
      "cell_type": "markdown",
      "metadata": {
        "id": "a_4Bu365ela1",
        "colab_type": "text"
      },
      "source": [
        "**Solució**\n",
        "\n",
        "El resultat hauria de ser **41686D65643138**"
      ]
    },
    {
      "cell_type": "markdown",
      "metadata": {
        "id": "dXDoSoUYfExa",
        "colab_type": "text"
      },
      "source": [
        "###Entrega 2 de la setmana\n",
        "\n",
        "\n",
        "Recordeu que per tal que el codi funcioni primer hauríeu de descarregar mbox.txt i pujar-ho com a fitxer en aquest Colab (a la part esquerra, a *files*). En aquest mateix lloc trobareu el fitxer .sqlite creat, que és la resposta correcta a la tasca (triga una estona en carregar correctament, cal ser pacients: el conn.commit() és el que requereix més temps i es pot provar de fer cada certes iteracions o fora del loop)."
      ]
    },
    {
      "cell_type": "markdown",
      "metadata": {
        "id": "Afa3aktyfIUT",
        "colab_type": "text"
      },
      "source": [
        "**Counting Organizations**\n",
        "\n",
        "This application will read the mailbox data (mbox.txt) and count the number of email messages per organization (i.e. domain name of the email address) using a database with the following schema to maintain the counts.\n",
        "```\n",
        "CREATE TABLE Counts (org TEXT, count INTEGER)\n",
        "```\n",
        "When you have run the program on mbox.txt upload the resulting database file above for grading.\n",
        "If you run the program multiple times in testing or with dfferent files, make sure to empty out the data before each run.\n",
        "\n",
        "You can use this code as a starting point for your application: http://www.py4e.com/code3/emaildb.py.\n",
        "\n",
        "The data file for this application is the same as in previous assignments: http://www.py4e.com/code3/mbox.txt.\n",
        "\n",
        "Because the sample code is using an UPDATE statement and committing the results to the database as each record is read in the loop, it might take as long as a few minutes to process all the data. The commit insists on completely writing all the data to disk every time it is called.\n",
        "\n",
        "The program can be speeded up greatly by moving the commit operation outside of the loop. In any database program, there is a balance between the number of operations you execute between commits and the importance of not losing the results of operations that have not yet been committed."
      ]
    },
    {
      "cell_type": "code",
      "metadata": {
        "id": "x-cqCKVnPiyl",
        "colab_type": "code",
        "colab": {
          "base_uri": "https://localhost:8080/",
          "height": 199
        },
        "outputId": "dd8a0be9-4906-40e1-8b04-0ddd84125270"
      },
      "source": [
        "import sqlite3\n",
        "\n",
        "conn = sqlite3.connect('org_count.sqlite')\n",
        "cur = conn.cursor()\n",
        "\n",
        "cur.execute('DROP TABLE IF EXISTS Counts')\n",
        "\n",
        "cur.execute('''\n",
        "CREATE TABLE Counts (org TEXT, count INTEGER)''')\n",
        "\n",
        "fname = input('Enter file name: ')\n",
        "if (len(fname) < 1): fname = 'mbox-short.txt'\n",
        "fh = open(fname)\n",
        "for line in fh:\n",
        "    if not line.startswith('From: '): continue\n",
        "    words = line.split()\n",
        "    email = words[1]\n",
        "    pieces = email.split('@')\n",
        "    org = pieces[1]\n",
        "    cur.execute('SELECT count FROM Counts WHERE org = ? ', (org,))\n",
        "    row = cur.fetchone()\n",
        "    if row is None:\n",
        "        cur.execute('''INSERT INTO Counts (org, count)\n",
        "                VALUES (?, 1)''', (org,))\n",
        "    else:\n",
        "        cur.execute('UPDATE Counts SET count = count + 1 WHERE org = ?',\n",
        "                    (org,))\n",
        "    conn.commit()\n",
        "\n",
        "# https://www.sqlite.org/lang_select.html\n",
        "sqlstr = 'SELECT org, count FROM Counts ORDER BY count DESC LIMIT 10'\n",
        "\n",
        "for row in cur.execute(sqlstr):\n",
        "    print(str(row[0]), row[1])\n",
        "\n",
        "cur.close()"
      ],
      "execution_count": null,
      "outputs": [
        {
          "output_type": "stream",
          "text": [
            "Enter file name: mbox.txt\n",
            "iupui.edu 536\n",
            "umich.edu 491\n",
            "indiana.edu 178\n",
            "caret.cam.ac.uk 157\n",
            "vt.edu 110\n",
            "uct.ac.za 96\n",
            "media.berkeley.edu 56\n",
            "ufp.pt 28\n",
            "gmail.com 25\n",
            "et.gatech.edu 17\n"
          ],
          "name": "stdout"
        }
      ]
    },
    {
      "cell_type": "markdown",
      "metadata": {
        "id": "oQ8fwKpmm9nZ",
        "colab_type": "text"
      },
      "source": [
        "##Sessió 3"
      ]
    },
    {
      "cell_type": "markdown",
      "metadata": {
        "id": "JZ3IJqTJjSpH",
        "colab_type": "text"
      },
      "source": [
        "###Designing Data Models"
      ]
    },
    {
      "cell_type": "markdown",
      "metadata": {
        "id": "jaReKUuzjbFT",
        "colab_type": "text"
      },
      "source": [
        "Com que les Databases amb SQL serien molt lentes d'escanejar si s'utilitzessin només noms (per exemple gèneres musicals). Es creen múltiples taules amb un link (id) que permet atribuir u número a cada clau important i poder-la relacionar només escanejant números, que és molt més fàcil (sobretot perquè són menys caràcters).\n",
        "\n",
        "Un cop creats, l'operació JOIN a SQLite permet enllaçar-ho correctament, per exemple:\n",
        "```\n",
        "select Album.title, Artist.name from Album join Artist on Album.artist_id = Artist.id\n",
        "```\n",
        "Sense el ON es farien totes les combinacions possibles.\n",
        "\n",
        "El JOIN complet seria per exemple:\n",
        "```\n",
        "select Track.title, Artist.name, Album.title, Genre.name from Track join Genre, Album join Artist on Track.genre_id = Genre.id and Track.album_id = Album.id and Album.artist_id = Artist.id\n",
        "```"
      ]
    },
    {
      "cell_type": "markdown",
      "metadata": {
        "id": "sMp-cX53yPCL",
        "colab_type": "text"
      },
      "source": [
        "###Entrega de la setmana"
      ]
    },
    {
      "cell_type": "markdown",
      "metadata": {
        "id": "4PT4DiJAymoq",
        "colab_type": "text"
      },
      "source": [
        "**Musical Track Database**\n",
        "\n",
        "This application will read an iTunes export file in XML and produce a properly normalized database with this structure:\n",
        "```\n",
        "CREATE TABLE Artist (\n",
        "    id  INTEGER NOT NULL PRIMARY KEY AUTOINCREMENT UNIQUE,\n",
        "    name    TEXT UNIQUE\n",
        ");\n",
        "\n",
        "CREATE TABLE Genre (\n",
        "    id  INTEGER NOT NULL PRIMARY KEY AUTOINCREMENT UNIQUE,\n",
        "    name    TEXT UNIQUE\n",
        ");\n",
        "\n",
        "CREATE TABLE Album (\n",
        "    id  INTEGER NOT NULL PRIMARY KEY AUTOINCREMENT UNIQUE,\n",
        "    artist_id  INTEGER,\n",
        "    title   TEXT UNIQUE\n",
        ");\n",
        "\n",
        "CREATE TABLE Track (\n",
        "    id  INTEGER NOT NULL PRIMARY KEY \n",
        "        AUTOINCREMENT UNIQUE,\n",
        "    title TEXT  UNIQUE,\n",
        "    album_id  INTEGER,\n",
        "    genre_id  INTEGER,\n",
        "    len INTEGER, rating INTEGER, count INTEGER\n",
        ");\n",
        "```\n",
        "If you run the program multiple times in testing or with different files, make sure to empty out the data before each run.\n",
        "\n",
        "You can use this code as a starting point for your application: http://www.py4e.com/code3/tracks.zip. The ZIP file contains the Library.xml file to be used for this assignment. You can export your own tracks from iTunes and create a database, but for the database that you turn in for this assignment, only use the Library.xml data that is provided.\n",
        "\n",
        "To grade this assignment, the program will run a query like this on your uploaded database and look for the data it expects to see:\n",
        "```\n",
        "SELECT Track.title, Artist.name, Album.title, Genre.name \n",
        "    FROM Track JOIN Genre JOIN Album JOIN Artist \n",
        "    ON Track.genre_id = Genre.ID and Track.album_id = Album.id \n",
        "        AND Album.artist_id = Artist.id\n",
        "    ORDER BY Artist.name LIMIT 3\n",
        "```"
      ]
    },
    {
      "cell_type": "code",
      "metadata": {
        "id": "8ESwHyTijRdK",
        "colab_type": "code",
        "colab": {
          "base_uri": "https://localhost:8080/",
          "height": 1000
        },
        "outputId": "6023c8e3-70a3-41f5-d768-4bbae19746c3"
      },
      "source": [
        "import xml.etree.ElementTree as ET\n",
        "import sqlite3\n",
        "\n",
        "conn = sqlite3.connect('musical_trackdb.sqlite')\n",
        "cur = conn.cursor()\n",
        "\n",
        "# Make some fresh tables using executescript()\n",
        "cur.executescript('''\n",
        "DROP TABLE IF EXISTS Artist;\n",
        "DROP TABLE IF EXISTS Album;\n",
        "DROP TABLE IF EXISTS Track;\n",
        "DROP TABLE IF EXISTS Genre;\n",
        "\n",
        "CREATE TABLE Artist (\n",
        "    id  INTEGER NOT NULL PRIMARY KEY AUTOINCREMENT UNIQUE,\n",
        "    name    TEXT UNIQUE\n",
        ");\n",
        " \n",
        "CREATE TABLE Genre (\n",
        "    id  INTEGER NOT NULL PRIMARY KEY AUTOINCREMENT UNIQUE,\n",
        "    name    TEXT UNIQUE\n",
        ");\n",
        " \n",
        "CREATE TABLE Album (\n",
        "    id  INTEGER NOT NULL PRIMARY KEY AUTOINCREMENT UNIQUE,\n",
        "    artist_id  INTEGER,\n",
        "    title   TEXT UNIQUE\n",
        ");\n",
        " \n",
        "CREATE TABLE Track (\n",
        "    id  INTEGER NOT NULL PRIMARY KEY \n",
        "        AUTOINCREMENT UNIQUE,\n",
        "    title TEXT  UNIQUE,\n",
        "    album_id  INTEGER,\n",
        "    genre_id  INTEGER,\n",
        "    len INTEGER, rating INTEGER, count INTEGER\n",
        ");\n",
        "''')\n",
        "\n",
        "\n",
        "fname = input('Enter file name: ')\n",
        "if ( len(fname) < 1 ) : fname = 'Library.xml'\n",
        "\n",
        "# <key>Track ID</key><integer>369</integer>\n",
        "# <key>Name</key><string>Another One Bites The Dust</string>\n",
        "# <key>Artist</key><string>Queen</string>\n",
        "def lookup(d, key):\n",
        "    found = False\n",
        "    for child in d:\n",
        "        if found : return child.text\n",
        "        if child.tag == 'key' and child.text == key :\n",
        "            found = True\n",
        "    return None\n",
        "\n",
        "stuff = ET.parse(fname)\n",
        "all = stuff.findall('dict/dict/dict')\n",
        "print('Dict count:', len(all))\n",
        "for entry in all:\n",
        "    if ( lookup(entry, 'Track ID') is None ) : continue\n",
        "\n",
        "    name = lookup(entry, 'Name')\n",
        "    artist = lookup(entry, 'Artist')\n",
        "    album = lookup(entry, 'Album')\n",
        "    genre = lookup(entry, 'Genre')\n",
        "    count = lookup(entry, 'Play Count')\n",
        "    rating = lookup(entry, 'Rating')\n",
        "    length = lookup(entry, 'Total Time')\n",
        "\n",
        "    if name is None or artist is None or album is None or genre is None: \n",
        "        continue\n",
        "\n",
        "    print(name, artist, album, genre, count, rating, length)\n",
        "\n",
        "    cur.execute('''INSERT OR IGNORE INTO Artist (name) \n",
        "        VALUES ( ? )''', ( artist, ) )\n",
        "    cur.execute('SELECT id FROM Artist WHERE name = ? ', (artist, ))\n",
        "    artist_id = cur.fetchone()[0]\n",
        "\n",
        "    cur.execute('''INSERT OR IGNORE INTO Album (title, artist_id) \n",
        "        VALUES ( ?, ? )''', ( album, artist_id ) )\n",
        "    cur.execute('SELECT id FROM Album WHERE title = ? ', (album, ))\n",
        "    album_id = cur.fetchone()[0]\n",
        "\n",
        "    cur.execute('''INSERT OR IGNORE INTO Genre (name)\n",
        "        VALUES ( ? )''', (genre, ) )\n",
        "    cur.execute('SELECT id from Genre WHERE name = ?', (genre, ))\n",
        "    genre_id = cur.fetchone()[0]\n",
        "\n",
        "    cur.execute('''INSERT OR REPLACE INTO Track\n",
        "        (title, album_id, genre_id, len, rating, count) \n",
        "        VALUES ( ?, ?, ?, ?, ?, ? )''', \n",
        "        ( name, album_id, genre_id, length, rating, count ) )\n",
        "\n",
        "    conn.commit()"
      ],
      "execution_count": null,
      "outputs": [
        {
          "output_type": "stream",
          "text": [
            "Enter file name: Library.xml\n",
            "Dict count: 404\n",
            "Another One Bites The Dust Queen Greatest Hits Rock 55 100 217103\n",
            "Asche Zu Asche Rammstein Herzeleid Industrial 79 100 231810\n",
            "Beauty School Dropout Various Grease Soundtrack 48 100 239960\n",
            "Black Dog Led Zeppelin IV Rock 109 100 296620\n",
            "Bring The Boys Back Home Pink Floyd The Wall [Disc 2] Rock 33 100 87118\n",
            "Circles Bryan Lee Blues Is Funk 54 60 355369\n",
            "Comfortably Numb Pink Floyd The Wall [Disc 2] Rock 36 100 384130\n",
            "Crazy Little Thing Called Love Queen Greatest Hits Rock 38 100 163631\n",
            "Electric Funeral Black Sabbath Paranoid Metal 44 100 293015\n",
            "Fat Bottomed Girls Queen Greatest Hits Rock 38 100 257515\n",
            "For Those About To Rock (We Salute You) AC/DC Who Made Who Rock 84 100 353750\n",
            "Four Sticks Led Zeppelin IV Rock 84 100 284421\n",
            "Furious Angels Rob Dougan The Matrix Reloaded Soundtrack 54 100 330004\n",
            "Gelle Bryan Lee Blues Is Blues/R&B 45 60 199836\n",
            "Going To California Led Zeppelin IV Rock 100 100 215666\n",
            "Grease Various Grease Soundtrack 42 100 205792\n",
            "Hand of Doom Black Sabbath Paranoid Metal 36 100 429609\n",
            "Hells Bells AC/DC Who Made Who Rock 82 100 312946\n",
            "Hey You Pink Floyd The Wall [Disc 2] Rock 23 100 282305\n",
            "I Worry Bryan Lee Blues Is Blues/R&B 33 100 341315\n",
            "Iron Man Black Sabbath Paranoid Metal 39 100 358530\n",
            "Is There Anybody Out There? Pink Floyd The Wall [Disc 2] Rock 26 100 160679\n",
            "It was a Very Good Year Frank Sinatra Greatest Hits Easy Listening 39 100 268852\n",
            "Its Your Move Bryan Lee Blues Is Blues/R&B 40 100 245002\n",
            "Jack the Stripper/Fairies Wear Boots Black Sabbath Paranoid Metal 35 100 373995\n",
            "Killer Queen Queen Greatest Hits Rock 34 100 181368\n",
            "Laichzeit Rammstein Herzeleid Industrial 41 100 262844\n",
            "Let me Down Easy Bryan Lee Blues Is Blues/R&B 43 100 331441\n",
            "Misty Mountain Hop Led Zeppelin IV Rock 88 100 278831\n",
            "No Low Down Bryan Lee Blues Is Blues/R&B 39 100 245760\n",
            "Now You Are Gone America Greatest Hits Easy Listening 52 100 187559\n",
            "Outside The Wall Pink Floyd The Wall [Disc 2] Rock 16 100 104437\n",
            "Paranoid Black Sabbath Paranoid Metal 36 100 172930\n",
            "Planet Caravan Black Sabbath Paranoid Metal 38 100 274938\n",
            "Pretty Jeanie Bryan Lee Blues Is Blues/R&B 34 100 225175\n",
            "Rammstein Rammstein Herzeleid Industrial 45 100 265090\n",
            "Rat Salad Black Sabbath Paranoid Metal 46 100 150230\n",
            "Rock & Roll Led Zeppelin IV Rock 109 100 220891\n",
            "Rode Across the Desert America Greatest Hits Easy Listening 60 100 249887\n",
            "Sandy Various Grease Soundtrack 36 100 155742\n",
            "Shake Your Foundations AC/DC Who Made Who Rock 85 100 233769\n",
            "Sister Golden Hair America Greatest Hits Easy Listening 60 100 202057\n",
            "Somebody To Love Queen Greatest Hits Rock 17 100 297586\n",
            "Stairway To Heaven Led Zeppelin IV Rock 93 100 481567\n",
            "Strangers in the Night Frank Sinatra Greatest Hits Easy Listening 42 100 158484\n",
            "Summer Nights Various Grease Soundtrack 35 100 216973\n",
            "Summer Wind Frank Sinatra Greatest Hits Easy Listening 46 100 177554\n",
            "Thats Life Frank Sinatra Greatest Hits Easy Listening 43 100 189988\n",
            "The Battle Of Evermore Led Zeppelin IV Rock 110 100 351529\n",
            "The Blues \"Is\" Bryan Lee Blues Is Blues/R&B 45 100 252238\n",
            "There it Is Bryan Lee Blues Is Blues/R&B 35 100 395441\n",
            "Think Bryan Lee Blues Is Blues/R&B 41 100 320339\n",
            "This Town Frank Sinatra Greatest Hits Easy Listening 44 100 185051\n",
            "Tin Man America Greatest Hits Easy Listening 50 100 210076\n",
            "Track 01 Billy Price Danger Zone Blues/R&B 47 100 261825\n",
            "Track 02 Billy Price Danger Zone Blues/R&B 42 100 165459\n",
            "Track 03 Billy Price Danger Zone Blues/R&B 41 100 206471\n",
            "Messin with the Kid The Canettes Blues Band Self Titled Blues/R&B 23 100 226377\n",
            "Track 04 Billy Price Danger Zone Blues/R&B 37 100 257175\n",
            "Stormy Monday The Canettes Blues Band Self Titled Blues/R&B 29 100 464143\n",
            "Track 05 Billy Price Danger Zone Blues/R&B 42 100 230295\n",
            "Waiting on Ice Bryan Lee Blues Is Blues/R&B 37 100 289384\n",
            "War Pigs/Luke's Wall Black Sabbath Paranoid Metal 38 100 478197\n",
            "We Are The Champions Queen Greatest Hits Rock 24 100 181864\n",
            "We Will Rock You Queen Greatest Hits Rock 33 100 123559\n",
            "When Somebody Loves You Frank Sinatra Greatest Hits Easy Listening 43 100 117263\n",
            "When The Levee Breaks Led Zeppelin IV Rock 83 100 427624\n",
            "You are the One that I Want Various Grease Soundtrack 31 100 169900\n",
            "You Done Me Wrong Bryan Lee Blues Is Blues/R&B 35 100 200097\n",
            "You Shook Me All Night Long AC/DC Who Made Who Rock 92 100 210938\n",
            "You're My Best Friend Queen Greatest Hits Rock 31 100 172643\n",
            "Zion Fluke The Matrix Reloaded Soundtrack 47 100 273528\n",
            "Who Made Who AC/DC Who Made Who Rock 110 100 207203\n",
            "D.T. AC/DC Who Made Who Rock 90 None 173714\n",
            "Sink the Pink AC/DC Who Made Who Rock 83 None 253466\n",
            "Ride On AC/DC Who Made Who Rock 75 None 351268\n",
            "Chase the Ace AC/DC Who Made Who Rock 93 None 181420\n",
            "Wollt Ihr Das Bett In Flammen Sehen Rammstein Herzeleid Industrial 50 None 317387\n",
            "Der Meister Rammstein Herzeleid Industrial 46 None 250801\n",
            "Weisses Fleisch Rammstein Herzeleid Industrial 52 None 215902\n",
            "Seemann Rammstein Herzeleid Industrial 34 None 288235\n",
            "Du Riechst So Gut Rammstein Herzeleid Industrial 50 None 289332\n",
            "Das Alte Leid Rammstein Herzeleid Industrial 46 None 344581\n",
            "Heirate Mich Rammstein Herzeleid Industrial 39 None 284734\n",
            "Herzeleid Rammstein Herzeleid Industrial 42 None 223425\n",
            "Baba O'Riley The Who Who's Next Rock 45 None 298448\n",
            "Bargain The Who Who's Next Rock 37 None 331676\n",
            "Love Ain't for Keeping The Who Who's Next Rock 24 None 130560\n",
            "My Wife The Who Who's Next Rock 17 None 213786\n",
            "The Song Is Over The Who Who's Next Rock 14 None 375797\n",
            "Getting In Tune The Who Who's Next Rock 27 None 288809\n",
            "Going Mobile The Who Who's Next Rock 28 100 221910\n",
            "Behind Blue Eyes The Who Who's Next Rock 43 None 221570\n",
            "Won't Get Fooled Again The Who Who's Next Rock 21 None 511111\n",
            "Folsom Prison Blues Johnny Cash The Legend Of Johnny Cash Country 47 100 170004\n",
            "I Walk The Line Johnny Cash The Legend Of Johnny Cash Country 33 100 165720\n",
            "Get Rhythm Johnny Cash The Legend Of Johnny Cash Country 35 100 134530\n",
            "Big River Johnny Cash The Legend Of Johnny Cash Country 51 None 152711\n",
            "Guess Things Happen That Way Johnny Cash The Legend Of Johnny Cash Country 35 None 111386\n",
            "Ring Of Fire Johnny Cash The Legend Of Johnny Cash Country 30 100 157100\n",
            "Jackson Johnny Cash The Legend Of Johnny Cash Country 35 100 166530\n",
            "A Boy Named Sue (live) Johnny Cash The Legend Of Johnny Cash Country 37 None 226063\n",
            "You Raise Me Up Selah Hiding Place Gospel & Religious 9 None 302262\n",
            "Hold On, I'm Coming The Canettes Blues Band On Tap & In the Can Blues/R&B 34 100 282566\n",
            "Got my Mojo Working The Canettes Blues Band On Tap & In the Can Blues/R&B 52 100 310517\n",
            "Sweet Home Chicago The Canettes Blues Band On Tap & In the Can Blues/R&B 27 100 375849\n",
            "Heavy Love The Canettes Blues Band On Tap & In the Can Blues/R&B 28 100 253544\n",
            "Cold Cold Feeling The Canettes Blues Band On Tap & In the Can Blues/R&B 43 100 261929\n",
            "Lonely Avenue The Canettes Blues Band On Tap & In the Can Blues/R&B 24 100 292022\n",
            "Good Morning Little Schoolgirl The Canettes Blues Band On Tap & In the Can Blues/R&B 20 100 278648\n",
            "Dust My Broom The Canettes Blues Band On Tap & In the Can Blues/R&B 24 100 299311\n",
            "Gimme' Some Lovin The Canettes Blues Band On Tap & In the Can Blues/R&B 35 100 227239\n",
            "Everybody Needs Somebody to Love The Canettes Blues Band On Tap & In the Can Blues/R&B 24 100 195186\n",
            "Black Magic Woman The Canettes Blues Band On Tap & In the Can Blues/R&B 31 100 442644\n",
            "Steppin' Rooster The Canettes Blues Band On Tap & In the Can Blues/R&B 21 100 704862\n",
            "Our Love is Drifting The Canettes Blues Band On Tap & In the Can Blues/R&B 15 100 292649\n",
            "Doin' 100 The Canettes Blues Band On Tap & In the Can Blues/R&B 20 100 343980\n",
            "Mother Joy Matt Ender Natural Wonders Music Sampler 1999 New Age 463 None 287294\n",
            "Soldier's Lament Steve McDonald Natural Wonders Music Sampler 1999 New Age 371 None 347193\n",
            "Dulaman Altan Natural Wonders Music Sampler 1999 New Age 403 None 223007\n",
            "The Arrow Chris Spheeris Natural Wonders Music Sampler 1999 New Age 416 None 319869\n",
            "Spanish Eyes La Esperanza Natural Wonders Music Sampler 1999 New Age 375 None 259030\n",
            "Banana Bay Luis Villegas Natural Wonders Music Sampler 1999 New Age 403 None 198060\n",
            "Aguas De Marco Rosa Passos Natural Wonders Music Sampler 1999 New Age 407 None 179408\n",
            "Tamborea Energipsy Natural Wonders Music Sampler 1999 New Age 355 None 235389\n",
            "Gone Hollie Smith Natural Wonders Music Sampler 1999 New Age 362 None 196414\n",
            "The Immigrant Joanie Madden Natural Wonders Music Sampler 1999 New Age 350 None 362631\n",
            "Pahrump-Big Water Cusco Natural Wonders Music Sampler 1999 New Age 342 None 191634\n",
            "Seeker's Quest Cheryl Gunn Natural Wonders Music Sampler 1999 New Age 337 None 236434\n",
            "Floating To Forever Dean Everson Natural Wonders Music Sampler 1999 New Age 337 None 351686\n",
            "Open Road Jeff Bailey Relaxing Jazz Jazz 10 None 318563\n",
            "Ruby Kaiser Chiefs Yours Truly, Angry Mob Alternative & Punk 13 None 205008\n",
            "The Angry Mob Kaiser Chiefs Yours Truly, Angry Mob Alternative & Punk 41 None 288313\n",
            "Heat Dies Down Kaiser Chiefs Yours Truly, Angry Mob Alternative & Punk 12 None 237061\n",
            "Highroyds Kaiser Chiefs Yours Truly, Angry Mob Alternative & Punk 10 None 199575\n",
            "Love's Not A Competition (But I'm Winning) Kaiser Chiefs Yours Truly, Angry Mob Alternative & Punk 11 None 197799\n",
            "Thank You Very Much Kaiser Chiefs Yours Truly, Angry Mob Alternative & Punk 11 None 157753\n",
            "I Can Do It Without You Kaiser Chiefs Yours Truly, Angry Mob Alternative & Punk 11 None 204199\n",
            "My Kind Of Guy Kaiser Chiefs Yours Truly, Angry Mob Alternative & Punk 10 None 246595\n",
            "Everything Is Average Nowadays Kaiser Chiefs Yours Truly, Angry Mob Alternative & Punk 16 None 164754\n",
            "Learnt My Lesson Well Kaiser Chiefs Yours Truly, Angry Mob Alternative & Punk 9 None 325955\n",
            "Try Your Best Kaiser Chiefs Yours Truly, Angry Mob Alternative & Punk 8 None 222511\n",
            "Retirement Kaiser Chiefs Yours Truly, Angry Mob Alternative & Punk 10 None 237426\n",
            "The Angry Mob [Live From Berlin] Kaiser Chiefs Yours Truly, Angry Mob Alternative & Punk 40 None 279066\n",
            "I Like To Fight Kaiser Chiefs Yours Truly, Angry Mob Alternative & Punk 8 None 218566\n",
            "From The Neck Down Kaiser Chiefs Yours Truly, Angry Mob Alternative & Punk 15 None 147226\n",
            "The Wisdom of Crowds: Why the Many Are Smarter than the Few Part 1 of 3 James Surowiecki The Wisdom of Crowds: Why the Many Are Smarter than the Few (Abridged Nonfiction) Business 15 None 8586749\n",
            "The Wisdom of Crowds: Why the Many Are Smarter than the Few Part 2 of 3 James Surowiecki The Wisdom of Crowds: Why the Many Are Smarter than the Few (Abridged Nonfiction) Business 9 None 8443432\n",
            "The Wisdom of Crowds: Why the Many Are Smarter than the Few Part 3 of 3 James Surowiecki The Wisdom of Crowds: Why the Many Are Smarter than the Few (Abridged Nonfiction) Business 3 None 4168829\n",
            "The Wisdom of Crowds: Why the Many Are Smarter Than the Few (Unabridged) Part 1 of 5 James Surowiecki The Wisdom of Crowds: Why the Many Are Smarter Than the Few (Unabridged) Nonfiction 4 None 7920893\n",
            "The Wisdom of Crowds: Why the Many Are Smarter Than the Few (Unabridged) Part 2 of 5 James Surowiecki The Wisdom of Crowds: Why the Many Are Smarter Than the Few (Unabridged) Nonfiction None None 7921106\n",
            "The Wisdom of Crowds: Why the Many Are Smarter Than the Few (Unabridged) Part 3 of 5 James Surowiecki The Wisdom of Crowds: Why the Many Are Smarter Than the Few (Unabridged) Nonfiction None None 7965736\n",
            "The Wisdom of Crowds: Why the Many Are Smarter Than the Few (Unabridged) Part 4 of 5 James Surowiecki The Wisdom of Crowds: Why the Many Are Smarter Than the Few (Unabridged) Nonfiction 1 None 9653330\n",
            "The Wisdom of Crowds: Why the Many Are Smarter Than the Few (Unabridged) Part 5 of 5 James Surowiecki The Wisdom of Crowds: Why the Many Are Smarter Than the Few (Unabridged) Nonfiction None None 746536\n",
            "Misty David Osborne Moonlight And Love Songs Classical 302 None 249312\n",
            "My Funny Valentine David Osborne Moonlight And Love Songs Classical 301 None 235885\n",
            "Since I Don't Have You David Osborne Moonlight And Love Songs Classical 288 None 251846\n",
            "Tenderly David Osborne Moonlight And Love Songs Classical 284 None 227395\n",
            "When I Fall In Love David Osborne Moonlight And Love Songs Classical 281 None 187768\n",
            "Unforgettable David Osborne Moonlight And Love Songs Classical 280 None 272927\n",
            "The Way You Look Tonight David Osborne Moonlight And Love Songs Classical 277 None 247222\n",
            "I've Grown Accustomed To Your Face David Osborne Moonlight And Love Songs Classical 280 None 148035\n",
            "Smoke Gets In Your Eyes David Osborne Moonlight And Love Songs Classical 277 None 198504\n",
            "Fly Me To The Moon David Osborne Moonlight And Love Songs Classical 275 None 182543\n",
            "Unchained Melody David Osborne Moonlight And Love Songs Classical 265 None 259369\n",
            "These Foolish Things Remind Me Of You David Osborne Moonlight And Love Songs Classical 267 None 184711\n",
            "La Vie En Rose David Osborne Moonlight And Love Songs Classical 259 None 276767\n",
            "As Time Goes By David Osborne Moonlight And Love Songs Classical 290 None 257985\n",
            "Pilot Fairly Legal Fairly Legal, Season 1 Drama 1 None 3847006\n",
            "hte postal service - the impor The Postal Service unreleased demo Electronic None None 193959\n",
            "Winter Wonderland Bing Crosby Seasons Greatings Holiday 163 None 144744\n",
            "Jingle Bells Frank Sinatra Seasons Greatings Holiday 271 None 121756\n",
            "White Christmas Bing Crosby Seasons Greatings Holiday 158 None 95634\n",
            "The Christmas Song Frank Sinatra Seasons Greatings Holiday 272 None 209632\n",
            "Little Drummer Boy Bing Crosby Seasons Greatings Holiday 154 None 178311\n",
            "Silent Night Frank Sinatra Seasons Greatings Holiday 257 None 149054\n",
            "Let It Snow Bing Crosby Seasons Greatings Holiday 154 None 125126\n",
            "Mistletoe And Holly Frank Sinatra Seasons Greatings Holiday 257 None 138501\n",
            "O Holy Night Bing Crosby Seasons Greatings Holiday 150 None 214021\n",
            "Have Yourself A Merry Little Christmas Frank Sinatra Seasons Greatings Holiday 252 None 208248\n",
            "Do You Hear What I Hear Bing Crosby Seasons Greatings Holiday 155 None 164728\n",
            "I'll Be Home For Christmas Frank Sinatra Seasons Greatings Holiday 249 None 190876\n",
            "Voices Disturbed The Sickness Alternative None None 191764\n",
            "The Game Disturbed The Sickness Alternative 1 None 227134\n",
            "Stupify Disturbed The Sickness Alternative 1 None 274233\n",
            "Down With The Sickness Disturbed The Sickness Alternative 1 None 278726\n",
            "Violence Fetish Disturbed The Sickness Alternative None None 203833\n",
            "Fear Disturbed The Sickness Alternative 4 None 227004\n",
            "Numb Disturbed The Sickness Alternative None None 224940\n",
            "Want Disturbed The Sickness Alternative None None 232803\n",
            "Conflict Disturbed The Sickness Alternative 5 None 275330\n",
            "Shout 2000 Disturbed The Sickness Alternative 1 None 257802\n",
            "Droppin' Plates Disturbed The Sickness Alternative 4 None 229302\n",
            "Meaning Of Life Disturbed The Sickness Alternative 3 None 242599\n",
            "PY4INF-01-Intro.mp3 Recording by Dr. Chuck Python for Informatics's official Podcast. Podcast 1 None 3428075\n",
            "Eben Upton: Raspberry Pi IEEE Computer Society Computing Conversations Podcast 2 None 661368\n",
            "Andrew Tanenbaum: Writing the Book on Networks IEEE Computer Society Computing Conversations Podcast 4 None 535040\n",
            "Massimo Banzi: Building Arduino IEEE Computer Society Computing Conversations Podcast 1 None 567745\n",
            "PY4INF-04-Functions.mp3 Recording by Dr. Chuck Python for Informatics's official Podcast. Podcast None None 1683800\n",
            "PY4INF-02-Expressions.mp3 Recording by Dr. Chuck Python for Informatics's official Podcast. Podcast None None 2578416\n",
            "PY4INF-03-Conditional.mp3 Recording by Dr. Chuck Python for Informatics's official Podcast. Podcast None None 2296058\n",
            "PY4INF-05-Iterations.mp3 Recording by Dr. Chuck Python for Informatics's official Podcast. Podcast 1 None 2804297\n",
            "PY4INF-06-Strings.mp3 Recording by Dr. Chuck Python for Informatics's official Podcast. Podcast None None 1677844\n",
            "PY4INF-07-Files.mp3 Recording by Dr. Chuck Python for Informatics's official Podcast. Podcast None None 1478713\n",
            "PY4INF-08-Lists.mp3 Recording by Dr. Chuck Python for Informatics's official Podcast. Podcast None None 1636231\n",
            "PY4INF-09-Dictionaries.mp3 Recording by Dr. Chuck Python for Informatics's official Podcast. Podcast None None 2254445\n",
            "PY4INF-10-Tuples.mp3 Recording by Dr. Chuck Python for Informatics's official Podcast. Podcast None None 1597596\n",
            "PY4INF-11-Regex.mp3 Recording by Dr. Chuck Python for Informatics's official Podcast. Podcast None None 2123702\n",
            "John C. Hollar: History of Computing IEEE Computer Society Computing Conversations Podcast 1 None 694073\n",
            "Bob Metcalfe: Ethernet at Forty IEEE Computer Society Computing Conversations Podcast None None 1031392\n",
            "Gordon Bell: Building Blocks of Computing IEEE Computer Society Computing Conversations Podcast 1 None 744620\n",
            "Ian Horrocks: Standardizing OWL IEEE Computer Society Computing Conversations Podcast 1 None 572212\n",
            "Katie Hafner: The Origins of the Internet IEEE Computer Society Computing Conversations Podcast 1 None 652460\n",
            "Larry Smarr: Building Mosaic IEEE Computer Society Computing Conversations Podcast None None 894693\n",
            "Len Kleinrock: The Theory of Packets IEEE Computer Society Computing Conversations Podcast 1 None 674742\n",
            "Mitchell Baker: The Mozilla Foundation IEEE Computer Society Computing Conversations Podcast None None 994246\n",
            "Pooja Sankar: Building the Piazza Collaboration System IEEE Computer Society Computing Conversations Podcast None None 496404\n",
            "Van Jacobson: Content-Centric Networking IEEE Computer Society Computing Conversations Podcast None None 780251\n",
            "The Apache Software Foundation IEEE Computer Society Computing Conversations Podcast None None 542484\n",
            "A Brief History of Packets IEEE Computer Society Computing Conversations Podcast None None 1004643\n",
            "Discovering JavaScript Object Notation IEEE Computer Society Computing Conversations Podcast None None 650971\n",
            "Inventing PHP IEEE Computer Society Computing Conversations Podcast None None 494915\n",
            "Monash Museum of Computing History IEEE Computer Society Computing Conversations Podcast None None 362657\n",
            "The Rise of JavaScript IEEE Computer Society Computing Conversations Podcast None None 526132\n",
            "Joseph Hardin: NCSA Mosaic IEEE Computer Society Computing Conversations Podcast None None 845635\n",
            "Len Kleinrock on the Internet's First Two Packets IEEE Computer Society Computing Conversations Podcast 1 None 594390\n",
            "Doug Van Houweling on Building the NSFNet IEEE Computer Society Computing Conversations Podcast None None 773146\n",
            "Computing Conversations: Nathaniel Borenstein on MIME IEEE Computer Society Computing Conversations Podcast None None 682135\n",
            "You Don't Mess Around With Jim Jim Croce Classic Hits Folk None None 184398\n",
            "Andrew S. Tanenbaum on MINIX IEEE Computer Society Computing Conversations Podcast None None 603000\n",
            "Computing Conversations: Elizabeth Fong on SQL Standards IEEE Computer Society Computing Conversations Podcast None None 533577\n",
            "Nii Quaynor on Bringing the Internet to Africa IEEE Computer Society Computing Conversations Podcast 1 None 673332\n",
            "PHP-09-Transactions.mp3 Created by Sakai SI 664 W14's official Podcast. Podcast None None 1728888\n",
            "PHP-01-Intro.mp3 Created by Sakai SI 664 W14's official Podcast. Podcast None None 2250624\n",
            "PHP-02-Install.mp3 Created by Sakai SI 664 W14's official Podcast. Podcast 1 None None\n",
            "PHP-04-Expressions.mp3 Created by Sakai SI 664 W14's official Podcast. Podcast None None 2168064\n",
            "PHP-05-Functions.mp3 Created by Sakai SI 664 W14's official Podcast. Podcast None None 1446792\n",
            "PHP-06-Strings.mp3 Created by Sakai SI 664 W14's official Podcast. Podcast None None 417696\n",
            "PHP-12-Sessions.mp3 Created by Sakai SI 664 W14's official Podcast. Podcast None None 3624312\n",
            "PHP-06-Objects.mp3 Created by Sakai SI 664 W14's official Podcast. Podcast None None 2455368\n",
            "SI664-13-JSON-A.mp3 Created by Sakai SI 664 W14's official Podcast. Podcast None None 4407672\n",
            "PHP-13-JavaScript.mp3 Created by Sakai SI 664 W14's official Podcast. Podcast None None 3650088\n",
            "PHP-09-Database-Design.mp3 Created by Sakai SI 664 W14's official Podcast. Podcast None None 3591072\n",
            "PHP-Tsugi-Install.mp3 Created by Sakai SI 664 W14's official Podcast. Podcast None None 3181656\n",
            "PHP-10-MySQL-PDO.mp3 Created by Sakai SI 664 W14's official Podcast. Podcast None None 4536685\n",
            "PHP-08-MySQL.mp3 Created by Sakai SI 664 W14's official Podcast. Podcast None None 3994656\n",
            "SI664-13-JSON-B.mp3 Created by Sakai SI 664 W14's official Podcast. Podcast None None 1484616\n",
            "IMS-Learning-Tools-Interoperability.mp3 Created by Sakai SI 664 W14's official Podcast. Podcast None None 2185848\n",
            "An Interview with Don Waters Matt Pasiewicz CNI Event Coverage Speech 2 None 1411082\n",
            "PY4INF-11-Regex.mp3 Recording by Dr. Chuck Python for Informatics's official Podcast. Podcast None None 2123702\n",
            "PY4INF-10-Tuples.mp3 Recording by Dr. Chuck Python for Informatics's official Podcast. Podcast None None 1597596\n",
            "PY4INF-09-Dictionaries.mp3 Recording by Dr. Chuck Python for Informatics's official Podcast. Podcast None None 2254445\n",
            "PY4INF-08-Lists.mp3 Recording by Dr. Chuck Python for Informatics's official Podcast. Podcast None None 1636231\n",
            "PY4INF-07-Files.mp3 Recording by Dr. Chuck Python for Informatics's official Podcast. Podcast None None 1478713\n",
            "PY4INF-06-Strings.mp3 Recording by Dr. Chuck Python for Informatics's official Podcast. Podcast None None 1677844\n",
            "PY4INF-05-Iterations.mp3 Recording by Dr. Chuck Python for Informatics's official Podcast. Podcast None None 2804297\n",
            "PY4INF-04-Functions.mp3 Recording by Dr. Chuck Python for Informatics's official Podcast. Podcast None None 1683800\n",
            "PY4INF-03-Conditional.mp3 Recording by Dr. Chuck Python for Informatics's official Podcast. Podcast None None 2296058\n",
            "PY4INF-02-Expressions.mp3 Recording by Dr. Chuck Python for Informatics's official Podcast. Podcast None None 2578416\n",
            "PY4INF-01-Intro.mp3 Recording by Dr. Chuck Python for Informatics's official Podcast. Podcast None None 3428075\n",
            "Py4Inf-11-Regex.mp3 Recording by Dr. Chuck Python for Informatics's official Podcast. Podcast None None 2123702\n",
            "Py4Inf-10-Tuples.mp3 Recording by Dr. Chuck Python for Informatics's official Podcast. Podcast None None 1597596\n",
            "Py4Inf-09-Dictionaries.mp3 Recording by Dr. Chuck Python for Informatics's official Podcast. Podcast None None 2254445\n",
            "Py4Inf-08-Lists.mp3 Recording by Dr. Chuck Python for Informatics's official Podcast. Podcast None None 1636231\n",
            "Py4Inf-07-Files.mp3 Recording by Dr. Chuck Python for Informatics's official Podcast. Podcast None None 1478713\n",
            "Py4Inf-06-Strings.mp3 Recording by Dr. Chuck Python for Informatics's official Podcast. Podcast None None 1677844\n",
            "Py4Inf-05-Iterations.mp3 Recording by Dr. Chuck Python for Informatics's official Podcast. Podcast None None 2804297\n",
            "Py4Inf-04-Functions.mp3 Recording by Dr. Chuck Python for Informatics's official Podcast. Podcast None None 1683800\n",
            "Py4Inf-03-Conditional.mp3 Recording by Dr. Chuck Python for Informatics's official Podcast. Podcast None None 2296058\n",
            "Py4Inf-02-Expressions.mp3 Recording by Dr. Chuck Python for Informatics's official Podcast. Podcast None None 2578416\n",
            "Py4Inf-01-Intro.mp3 Recording by Dr. Chuck Python for Informatics's official Podcast. Podcast None None 3428075\n",
            "Ian Foster on the Globus Project IEEE Computer Society Computing Conversations Podcast 1 None 538305\n",
            "Khan Academy and Computer Science IEEE Computer Society Computing Conversations Podcast 1 None 558837\n",
            "Guido van Rossumon the Early Years of Python IEEE Computer Society Computing Conversations Podcast 1 None 701884\n",
            "Guido van Rossum on the Modern Era of Python IEEE Computer Society Computing Conversations Podcast None None 741616\n",
            "John Resig on Building jQuery IEEE Computer Society Computing Conversations Podcast None None 595983\n",
            "Roy T. Fielding on Understanding the REST Style IEEE Computer Society Computing Conversations Podcast 1 None 683650\n",
            "Anil Jain: 25 Years of Biometric Recognition IEEE Computer Society Computing Conversations Podcast None None 661368\n",
            "Waste Management Undercover Boss Undercover Boss, Season 1 Reality TV 1 None 2565232\n",
            "Sleep Like a Baby Tonight U2 Songs of Innocence Rock None None 301641\n",
            "Evergreen The Black Crowes Warpaint Rock None None 261373\n",
            "Oh Josephine The Black Crowes Warpaint Rock None None 398907\n",
            "Movin' On Down the Line The Black Crowes Warpaint Rock None None 342693\n",
            "Wounded Bird The Black Crowes Warpaint Rock None None 263453\n",
            "Volcano U2 Songs of Innocence Rock None None 194116\n",
            "Wee Who See the Deep The Black Crowes Warpaint Rock None None 290520\n",
            "Cedarwood Road U2 Songs of Innocence Rock None None 265268\n",
            "Locust Street The Black Crowes Warpaint Rock None None 255240\n",
            "Raised By Wolves U2 Songs of Innocence Rock None None 245599\n",
            "The Troubles U2 Songs of Innocence Rock None None 285843\n",
            "This Is Where You Can Reach Me Now U2 Songs of Innocence Rock None None 305134\n",
            "God's Got It The Black Crowes Warpaint Rock None None 202653\n",
            "California (There Is No End to Love) U2 Songs of Innocence Rock None None 239846\n",
            "Every Breaking Wave U2 Songs of Innocence Rock None None 252162\n",
            "Interview With the Onion News Network Onion News Network Onion News Network, Season 1 Comedy 1 None 302002\n",
            "Song for Someone U2 Songs of Innocence Rock None None 226763\n",
            "The Miracle (Of Joey Ramone) U2 Songs of Innocence Rock None None 255382\n",
            "Iris (Hold Me Close) U2 Songs of Innocence Rock None None 319457\n",
            "Goodbye Daughters of the Revolution The Black Crowes Warpaint Rock None None 304147\n",
            "Walk Believer Walk The Black Crowes Warpaint Rock None None 280253\n",
            "Choice Hotels International Undercover Boss Undercover Boss, Season 2 Reality TV 1 None 2614047\n",
            "Microchip Jason Farnham YouTube Audio Library Dance & Electronic None None 114336\n",
            "Anant Agarwal IEEE Computer Society Computing Conversations Podcast None None 494000\n"
          ],
          "name": "stdout"
        }
      ]
    },
    {
      "cell_type": "markdown",
      "metadata": {
        "id": "w7pEC5g2MOc7",
        "colab_type": "text"
      },
      "source": [
        "##Sessió 4"
      ]
    },
    {
      "cell_type": "markdown",
      "metadata": {
        "id": "bbYBvq0LlTsz",
        "colab_type": "text"
      },
      "source": [
        "###Relacions many-to-many"
      ]
    },
    {
      "cell_type": "markdown",
      "metadata": {
        "id": "qTfQXXCZlibD",
        "colab_type": "text"
      },
      "source": [
        "En la sessió anterior s'han vist relacions one-to-many com per exemple cada track només podia pertànyer a un àlbum. Ara es veuran relacions com podrien ser autor-llibre, ja que pot ser que més d'un autor estigui atribuit al mateix llibre i que diferents llibres estiguin atribuits a un mateix autor.\n",
        "\n",
        "S'acaba amb una taula sense cap *primary key* i múltiples *foreign keys* (dues en l'exemple autor-llibre). Això és perquè es crea una taula amb múltiples connexions one-to-many."
      ]
    },
    {
      "cell_type": "markdown",
      "metadata": {
        "id": "CyQ4_M8lpY2B",
        "colab_type": "text"
      },
      "source": [
        "Per exemple:\n",
        "```\n",
        "CREATE TABLE User(\n",
        "  id INTEGER NOT NULL PRIMARY KEY AUTOINCREMENT UNIQUE,\n",
        "  name TEXT,\n",
        "  email TEXT\n",
        ");\n",
        "CREATE TABLE Course(\n",
        "  id INTEGER NOT NULL PRIMARY KEY AUTOINCREMENT UNIQUE,\n",
        "  title TEXT\n",
        ");\n",
        "CREATE TABLE Member(\n",
        "  user_id INTEGER,\n",
        "  course_id INTEGER,\n",
        "  role INTEGER,\n",
        "  PRIMARY KEY (user_id, course_id)\n",
        ");\n",
        "```\n",
        "Ara li posem algunes dades:\n",
        "```\n",
        "INSERT INTO User (name, email) VALUES ('Jane', 'jane@tsugi.org');\n",
        "INSERT INTO User (name, email) VALUES ('Ed', 'ed@tsugi.org');\n",
        "INSERT INTO User (name, email) VALUES ('Sue', 'sue@tsugi.org');\n",
        "INSERT INTO Course (title) VALUES ('Python');\n",
        "INSERT INTO Course (title) VALUES ('SQL');\n",
        "INSERT INTO Course (title) VALUES ('PHP');\n",
        "```\n",
        "Ara cal afegir les dades de membres:\n",
        "```\n",
        "INSERT INTO Member(user_id, course_id, role) VALUES (1,1,1);\n",
        "INSERT INTO Member(user_id, course_id, role) VALUES (2,1,0);\n",
        "INSERT INTO Member(user_id, course_id, role) VALUES (3,1,0);\n",
        "\n",
        "INSERT INTO Member(user_id, course_id, role) VALUES (1,2,0);\n",
        "INSERT INTO Member(user_id, course_id, role) VALUES (2,2,1);\n",
        "\n",
        "INSERT INTO Member(user_id, course_id, role) VALUES (2,3,1);\n",
        "INSERT INTO Member(user_id, course_id, role) VALUES (3,3,0);\n",
        "```\n",
        "Seleccionem certes dades i les ordenem (nota: role=1 és professorat i role=0 alumnat):\n",
        "```\n",
        "SELECT User.name, Member.role, Course.title\n",
        "FROM User JOIN Member JOIN Course\n",
        "ON Member.user_id=User.id AND Member.course_id=Course.id\n",
        "ORDER BY Course.title, Member.role DESC, User.name\n",
        "```"
      ]
    },
    {
      "cell_type": "markdown",
      "metadata": {
        "id": "EJiMESqsc4Ke",
        "colab_type": "text"
      },
      "source": [
        "###Entrega de la setmana"
      ]
    },
    {
      "cell_type": "markdown",
      "metadata": {
        "id": "WqtwHf_O8p7w",
        "colab_type": "text"
      },
      "source": [
        "This application will read roster data in JSON format, parse the file, and then produce an SQLite database that contains a User, Course, and Member table and populate the tables from the data file.\n",
        "\n",
        "You can base your solution on this code: http://www.py4e.com/code3/roster/roster.py - this code is incomplete as you need to modify the program to store the role column in the Member table to complete the assignment.\n",
        "\n",
        "Each student gets their own file for the assignment. Download this file and save it as roster_data.json. Move the downloaded file into the same folder as your roster.py program.\n",
        "\n",
        "Once you have made the necessary changes to the program and it has been run successfully reading the above JSON data, run the following SQL command:\n",
        "```\n",
        "SELECT hex(User.name || Course.title || Member.role ) AS X FROM \n",
        "    User JOIN Member JOIN Course \n",
        "    ON User.id = Member.user_id AND Member.course_id = Course.id\n",
        "    ORDER BY X\n",
        "```\n",
        "Find the first row in the resulting record set."
      ]
    },
    {
      "cell_type": "code",
      "metadata": {
        "id": "MYaGZCZ6c3oO",
        "colab_type": "code",
        "colab": {
          "base_uri": "https://localhost:8080/",
          "height": 1000
        },
        "outputId": "4a1e90bf-fbb3-47e9-e69c-bb6382c96b66"
      },
      "source": [
        "import json\n",
        "import sqlite3\n",
        "\n",
        "conn = sqlite3.connect('rosterdb.sqlite')\n",
        "cur = conn.cursor()\n",
        "\n",
        "# Do some setup\n",
        "cur.executescript('''\n",
        "DROP TABLE IF EXISTS User;\n",
        "DROP TABLE IF EXISTS Member;\n",
        "DROP TABLE IF EXISTS Course;\n",
        "\n",
        "CREATE TABLE User (\n",
        "    id     INTEGER NOT NULL PRIMARY KEY AUTOINCREMENT UNIQUE,\n",
        "    name   TEXT UNIQUE\n",
        ");\n",
        "\n",
        "CREATE TABLE Course (\n",
        "    id     INTEGER NOT NULL PRIMARY KEY AUTOINCREMENT UNIQUE,\n",
        "    title  TEXT UNIQUE\n",
        ");\n",
        "\n",
        "CREATE TABLE Member (\n",
        "    user_id     INTEGER,\n",
        "    course_id   INTEGER,\n",
        "    role        INTEGER,\n",
        "    PRIMARY KEY (user_id, course_id)\n",
        ")\n",
        "''')\n",
        "\n",
        "fname = input('Enter file name: ')\n",
        "if len(fname) < 1:\n",
        "    fname = 'roster_data.json'\n",
        "\n",
        "# [\n",
        "#   [ \"Charley\", \"si110\", 1 ],\n",
        "#   [ \"Mea\", \"si110\", 0 ],\n",
        "\n",
        "str_data = open(fname).read()\n",
        "json_data = json.loads(str_data)\n",
        "\n",
        "for entry in json_data:\n",
        "\n",
        "    name = entry[0];\n",
        "    title = entry[1];\n",
        "    role = entry[2];\n",
        "\n",
        "    print((name, title, role))\n",
        "\n",
        "    cur.execute('''INSERT OR IGNORE INTO User (name)\n",
        "        VALUES ( ? )''', ( name, ) )\n",
        "    cur.execute('SELECT id FROM User WHERE name = ? ', (name, ))\n",
        "    user_id = cur.fetchone()[0]\n",
        "\n",
        "    cur.execute('''INSERT OR IGNORE INTO Course (title)\n",
        "        VALUES ( ? )''', ( title, ) )\n",
        "    cur.execute('SELECT id FROM Course WHERE title = ? ', (title, ))\n",
        "    course_id = cur.fetchone()[0]\n",
        "\n",
        "    cur.execute('''INSERT OR REPLACE INTO Member\n",
        "        (user_id, course_id, role) VALUES ( ?, ?, ? )''',\n",
        "        ( user_id, course_id, role ) )\n",
        "\n",
        "    conn.commit()"
      ],
      "execution_count": null,
      "outputs": [
        {
          "output_type": "stream",
          "text": [
            "Enter file name: roster_data.json\n",
            "('Aislinn', 'si110', 1)\n",
            "('Lida', 'si110', 0)\n",
            "('Lucien', 'si110', 0)\n",
            "('Koray', 'si110', 0)\n",
            "('Alexa', 'si110', 0)\n",
            "('Diane', 'si110', 0)\n",
            "('Airidas', 'si110', 0)\n",
            "('Aarman', 'si110', 0)\n",
            "('Kitty', 'si110', 0)\n",
            "('Faye', 'si110', 0)\n",
            "('Nelly', 'si110', 0)\n",
            "('Trudy', 'si110', 0)\n",
            "('Cecily', 'si110', 0)\n",
            "('Kile', 'si110', 0)\n",
            "('Darren', 'si110', 0)\n",
            "('Eabha', 'si110', 0)\n",
            "('Rohit', 'si110', 0)\n",
            "('Milana', 'si110', 0)\n",
            "('Khalan', 'si110', 0)\n",
            "('Cassia', 'si110', 0)\n",
            "('Loui', 'si110', 0)\n",
            "('Anthony', 'si110', 0)\n",
            "('Richey', 'si110', 0)\n",
            "('Fergie', 'si110', 0)\n",
            "('Anastacia', 'si110', 0)\n",
            "('Alighia', 'si110', 0)\n",
            "('Ashton', 'si110', 0)\n",
            "('Meri', 'si110', 0)\n",
            "('Fay', 'si110', 0)\n",
            "('Ellyce', 'si110', 0)\n",
            "('Geena', 'si110', 0)\n",
            "('Savannah', 'si110', 0)\n",
            "('Atal', 'si110', 0)\n",
            "('Efan', 'si110', 0)\n",
            "('Martin', 'si110', 0)\n",
            "('Ameelia', 'si110', 0)\n",
            "('Aileigh', 'si110', 0)\n",
            "('Nerea', 'si110', 0)\n",
            "('Yadgor', 'si110', 0)\n",
            "('Tru', 'si110', 0)\n",
            "('Salman', 'si110', 0)\n",
            "('Neo', 'si110', 0)\n",
            "('Rui', 'si110', 0)\n",
            "('Damla', 'si110', 0)\n",
            "('Jonah', 'si110', 0)\n",
            "('Su', 'si110', 0)\n",
            "('Tian', 'si110', 0)\n",
            "('Munro', 'si110', 0)\n",
            "('Sayad', 'si110', 0)\n",
            "('Natania', 'si106', 1)\n",
            "('Jaime', 'si106', 0)\n",
            "('Aibidh', 'si106', 0)\n",
            "('Bente', 'si106', 0)\n",
            "('Tiernan', 'si106', 0)\n",
            "('Neave', 'si106', 0)\n",
            "('Dillan', 'si106', 0)\n",
            "('Babyjane', 'si106', 0)\n",
            "('Sareena', 'si106', 0)\n",
            "('Kyleena', 'si106', 0)\n",
            "('Kerrin', 'si106', 0)\n",
            "('Inara', 'si106', 0)\n",
            "('Uchenna', 'si106', 0)\n",
            "('Nelson', 'si106', 0)\n",
            "('Buse', 'si106', 0)\n",
            "('Abubakar', 'si106', 0)\n",
            "('Aieecia', 'si106', 0)\n",
            "('Branden', 'si106', 0)\n",
            "('Devin', 'si106', 0)\n",
            "('Kainin', 'si106', 0)\n",
            "('Gwen', 'si106', 0)\n",
            "('Ophelia', 'si106', 0)\n",
            "('Murren', 'si106', 0)\n",
            "('Ryszard', 'si106', 0)\n",
            "('Charlene', 'si106', 0)\n",
            "('Bianca', 'si106', 0)\n",
            "('Magdalena', 'si106', 0)\n",
            "('Elyse', 'si106', 0)\n",
            "('Mirren', 'si106', 0)\n",
            "('Danys', 'si106', 0)\n",
            "('Noel', 'si106', 0)\n",
            "('Ian', 'si106', 0)\n",
            "('Shauna', 'si106', 0)\n",
            "('Cailean', 'si106', 0)\n",
            "('Simon', 'si106', 0)\n",
            "('Robyn', 'si106', 0)\n",
            "('Ajooni', 'si106', 0)\n",
            "('Kehinde', 'si106', 0)\n",
            "('Francesca', 'si106', 0)\n",
            "('Pablo', 'si106', 0)\n",
            "('Faheem', 'si106', 0)\n",
            "('Salahudin', 'si106', 0)\n",
            "('Suvi', 'si106', 0)\n",
            "('Paidamoyo', 'si106', 0)\n",
            "('Cailaen', 'si106', 0)\n",
            "('Emilyann', 'si106', 0)\n",
            "('Akan', 'si106', 0)\n",
            "('Matas', 'si106', 0)\n",
            "('Orin', 'si106', 0)\n",
            "('Cleo', 'si206', 1)\n",
            "('Lynsey', 'si206', 0)\n",
            "('Alannah', 'si206', 0)\n",
            "('Walid', 'si206', 0)\n",
            "('Rayann', 'si206', 0)\n",
            "('Taysia', 'si206', 0)\n",
            "('Israa', 'si206', 0)\n",
            "('Susan', 'si206', 0)\n",
            "('Sergio', 'si206', 0)\n",
            "('Sung', 'si206', 0)\n",
            "('Macauley', 'si206', 0)\n",
            "('Gursees', 'si206', 0)\n",
            "('Ruairidh', 'si206', 0)\n",
            "('Norea', 'si206', 0)\n",
            "('Keleigh', 'si206', 0)\n",
            "('Laura', 'si206', 0)\n",
            "('Kiyonari', 'si206', 0)\n",
            "('Innis', 'si206', 0)\n",
            "('Robi', 'si206', 0)\n",
            "('Marc', 'si206', 0)\n",
            "('Yanick', 'si206', 0)\n",
            "('Stephanie', 'si206', 0)\n",
            "('Daragh', 'si206', 0)\n",
            "('Lara', 'si206', 0)\n",
            "('Kacey', 'si206', 0)\n",
            "('Nathaniel', 'si206', 0)\n",
            "('Caleb', 'si206', 0)\n",
            "('Nina', 'si206', 0)\n",
            "('Rumaysa', 'si206', 0)\n",
            "('Cirah', 'si206', 0)\n",
            "('Ice', 'si206', 0)\n",
            "('Millan', 'si206', 0)\n",
            "('Fenn', 'si301', 1)\n",
            "('Caedyn', 'si301', 0)\n",
            "('Samar', 'si301', 0)\n",
            "('Christie', 'si301', 0)\n",
            "('Liala', 'si301', 0)\n",
            "('Bennett', 'si301', 0)\n",
            "('Meganlee', 'si301', 0)\n",
            "('Diya', 'si301', 0)\n",
            "('Youssef', 'si301', 0)\n",
            "('Loukas', 'si301', 0)\n",
            "('Yasemin', 'si301', 0)\n",
            "('Irfa', 'si301', 0)\n",
            "('Rhys', 'si301', 0)\n",
            "('Ala', 'si301', 0)\n",
            "('Lenzy', 'si301', 0)\n",
            "('Shelley', 'si301', 0)\n",
            "('Mirabelle', 'si301', 0)\n",
            "('Calen', 'si301', 0)\n",
            "('Meadow', 'si301', 0)\n",
            "('Padraig', 'si301', 0)\n",
            "('Zaaine', 'si301', 0)\n",
            "('Nur', 'si301', 0)\n",
            "('Parker', 'si301', 0)\n",
            "('Kararose', 'si301', 0)\n",
            "('Linda', 'si301', 0)\n",
            "('Krzysztof', 'si301', 0)\n",
            "('Danish', 'si301', 0)\n",
            "('Unaiza', 'si301', 0)\n",
            "('Dion', 'si301', 0)\n",
            "('Elaine', 'si301', 0)\n",
            "('Fauzaan', 'si301', 0)\n",
            "('Jubin', 'si301', 0)\n",
            "('Aseel', 'si301', 0)\n",
            "('Bruce', 'si301', 0)\n",
            "('Puja', 'si301', 0)\n",
            "('Fendi', 'si301', 0)\n",
            "('Gary', 'si301', 0)\n",
            "('Alessio', 'si301', 0)\n",
            "('Fahad', 'si301', 0)\n",
            "('Leyland', 'si301', 0)\n",
            "('Ruth', 'si301', 0)\n",
            "('Launi', 'si301', 0)\n",
            "('Husnain', 'si301', 0)\n",
            "('Bekim', 'si301', 0)\n",
            "('Andrew', 'si301', 0)\n",
            "('Jaise', 'si301', 0)\n",
            "('Orin', 'si301', 0)\n",
            "('Beinn', 'si301', 0)\n",
            "('Caroline', 'si301', 0)\n",
            "('Japleen', 'si301', 0)\n",
            "('Nairn', 'si301', 0)\n",
            "('Areez', 'si301', 0)\n",
            "('Betsy', 'si310', 1)\n",
            "('Suzy', 'si310', 0)\n",
            "('Dhyia', 'si310', 0)\n",
            "('Fiachra', 'si310', 0)\n",
            "('Xida', 'si310', 0)\n",
            "('Viki', 'si310', 0)\n",
            "('Azzedine', 'si310', 0)\n",
            "('Jayde', 'si310', 0)\n",
            "('Shula', 'si310', 0)\n",
            "('Kristen', 'si310', 0)\n",
            "('Conli', 'si310', 0)\n",
            "('Jagat', 'si310', 0)\n",
            "('Kit', 'si310', 0)\n",
            "('Rafal', 'si310', 0)\n",
            "('Andi', 'si310', 0)\n",
            "('Martyna', 'si310', 0)\n",
            "('Reice', 'si310', 0)\n",
            "('Mila', 'si310', 0)\n",
            "('Charly', 'si310', 0)\n",
            "('Kasey', 'si310', 0)\n",
            "('Chelsi', 'si310', 0)\n",
            "('Jahy', 'si310', 0)\n",
            "('Presley', 'si310', 0)\n",
            "('Kalani', 'si310', 0)\n",
            "('Kaydyn', 'si310', 0)\n",
            "('Amro', 'si310', 0)\n",
            "('Sum', 'si310', 0)\n",
            "('Leighanna', 'si310', 0)\n",
            "('Theodore', 'si310', 0)\n",
            "('Alanna', 'si310', 0)\n",
            "('Wayde', 'si310', 0)\n",
            "('Kalvyn', 'si310', 0)\n",
            "('Corbin', 'si310', 0)\n",
            "('Haydon', 'si310', 0)\n",
            "('Abraham', 'si310', 0)\n",
            "('Lotti', 'si310', 0)\n",
            "('Narissa', 'si310', 0)\n",
            "('Nabeeha', 'si310', 0)\n",
            "('Stefanie', 'si310', 0)\n",
            "('Kaleah', 'si310', 0)\n",
            "('Arryn', 'si310', 0)\n",
            "('Kayde', 'si310', 0)\n",
            "('Khadijah', 'si310', 0)\n",
            "('Brody', 'si334', 1)\n",
            "('Kaitlin', 'si334', 0)\n",
            "('Puja', 'si334', 0)\n",
            "('Marykate', 'si334', 0)\n",
            "('Bowie', 'si334', 0)\n",
            "('Dawson', 'si334', 0)\n",
            "('Dante', 'si334', 0)\n",
            "('Kamsiyochi', 'si334', 0)\n",
            "('Zohra', 'si334', 0)\n",
            "('Cieran', 'si334', 0)\n",
            "('Carolyn', 'si334', 0)\n",
            "('Alishba', 'si334', 0)\n",
            "('Angus', 'si334', 0)\n",
            "('Dela', 'si334', 0)\n",
            "('Elias', 'si334', 0)\n",
            "('Alessio', 'si334', 0)\n",
            "('Kenlin', 'si334', 0)\n",
            "('Yves', 'si334', 0)\n",
            "('Jemima', 'si334', 0)\n",
            "('Santino', 'si334', 0)\n",
            "('Elisabeth', 'si334', 0)\n",
            "('Anureet', 'si334', 0)\n",
            "('Davy', 'si334', 0)\n",
            "('Aisa', 'si334', 0)\n",
            "('Raniyah', 'si334', 0)\n",
            "('Sylvain', 'si334', 0)\n",
            "('Maren', 'si334', 0)\n",
            "('Robbie', 'si334', 0)\n",
            "('Cambell', 'si334', 0)\n",
            "('Malika', 'si334', 0)\n",
            "('Anmolpreet', 'si334', 0)\n",
            "('Maxwell', 'si334', 0)\n",
            "('Sydney', 'si334', 0)\n",
            "('Mathias', 'si334', 0)\n",
            "('Aliza', 'si334', 0)\n",
            "('Swarnalakshmi', 'si334', 0)\n",
            "('Neelam', 'si334', 0)\n",
            "('Inayah', 'si334', 0)\n",
            "('Leilani', 'si334', 0)\n",
            "('Kienan', 'si334', 0)\n",
            "('Salma', 'si334', 0)\n",
            "('Aodhan', 'si334', 0)\n",
            "('Taddy', 'si334', 0)\n",
            "('Mikella', 'si334', 0)\n",
            "('Shaarvin', 'si334', 0)\n",
            "('Mysha', 'si334', 0)\n",
            "('Sahaib', 'si334', 0)\n",
            "('Gabriela', 'si334', 0)\n",
            "('Jerry', 'si334', 0)\n",
            "('Josese', 'si334', 0)\n",
            "('Ahoua', 'si334', 0)\n",
            "('Alanas', 'si334', 0)\n",
            "('Deagan', 'si334', 0)\n",
            "('Shona', 'si363', 1)\n",
            "('Markus', 'si363', 0)\n",
            "('Roxanne', 'si363', 0)\n",
            "('Abiola', 'si363', 0)\n",
            "('Sana', 'si363', 0)\n",
            "('Amalia', 'si363', 0)\n",
            "('Atapattu', 'si363', 0)\n",
            "('Danniel', 'si363', 0)\n",
            "('Tristan', 'si363', 0)\n",
            "('Architha', 'si363', 0)\n",
            "('Eirini', 'si363', 0)\n",
            "('Kenyon', 'si363', 0)\n",
            "('Amrit', 'si363', 0)\n",
            "('Harman', 'si363', 0)\n",
            "('Armaan', 'si363', 0)\n",
            "('Eoghan', 'si363', 0)\n",
            "('Sacha', 'si363', 0)\n",
            "('Kieva', 'si363', 0)\n",
            "('Allen', 'si363', 0)\n",
            "('Eva', 'si363', 0)\n",
            "('Calley', 'si363', 0)\n",
            "('Kellsie', 'si363', 0)\n",
            "('Concetta', 'si363', 0)\n",
            "('Loudon', 'si363', 0)\n",
            "('Radmiras', 'si363', 0)\n",
            "('Nikash', 'si363', 0)\n",
            "('Juliet', 'si363', 0)\n",
            "('Kallan', 'si363', 0)\n",
            "('Kylah', 'si363', 0)\n",
            "('Dobrawa', 'si363', 0)\n",
            "('Aiyanna', 'si363', 0)\n",
            "('Kamryn', 'si363', 0)\n",
            "('Jannah', 'si363', 0)\n",
            "('Irvine', 'si363', 0)\n",
            "('Zakk', 'si363', 0)\n",
            "('Stuart', 'si363', 0)\n",
            "('Stefanie', 'si363', 0)\n",
            "('Rebbecca', 'si363', 0)\n",
            "('Jane', 'si363', 0)\n",
            "('Yakup', 'si364', 1)\n",
            "('Dhrishti', 'si364', 0)\n",
            "('Justin', 'si364', 0)\n",
            "('Ezri', 'si364', 0)\n",
            "('Dakota', 'si364', 0)\n",
            "('Greta', 'si364', 0)\n",
            "('Keeton', 'si364', 0)\n",
            "('Fred', 'si364', 0)\n",
            "('Abdulkarem', 'si364', 0)\n",
            "('Murren', 'si364', 0)\n",
            "('Lucy', 'si364', 0)\n",
            "('Kieren', 'si364', 0)\n",
            "('Aya', 'si364', 0)\n",
            "('Shane', 'si364', 0)\n",
            "('Tyra', 'si364', 0)\n",
            "('Siriol', 'si364', 0)\n",
            "('Kalyana', 'si364', 0)\n",
            "('Yoji', 'si364', 0)\n",
            "('Miranda', 'si364', 0)\n",
            "('Circe', 'si364', 0)\n",
            "('Prithivi', 'si364', 0)\n",
            "('Emile', 'si364', 0)\n",
            "('Saif', 'si364', 0)\n",
            "('Shania', 'si364', 0)\n",
            "('Soul', 'si364', 0)\n",
            "('Bertie', 'si364', 0)\n",
            "('Marieclare', 'si364', 0)\n",
            "('Eidhan', 'si364', 0)\n",
            "('Malo', 'si364', 0)\n",
            "('Rhiannon', 'si364', 0)\n",
            "('Ari', 'si364', 0)\n",
            "('Anton', 'si422', 1)\n",
            "('Karine', 'si422', 0)\n",
            "('Kaitlynn', 'si422', 0)\n",
            "('Kiara', 'si422', 0)\n",
            "('Rocco', 'si422', 0)\n",
            "('Ethan', 'si422', 0)\n",
            "('Mary', 'si422', 0)\n",
            "('Bekim', 'si422', 0)\n",
            "('Leland', 'si422', 0)\n",
            "('Paige', 'si422', 0)\n",
            "('Alivia', 'si422', 0)\n",
            "('Fionn', 'si422', 0)\n",
            "('Tyler', 'si422', 0)\n",
            "('Khai', 'si422', 0)\n",
            "('Lacey', 'si422', 0)\n",
            "('Corrina', 'si422', 0)\n",
            "('Thalia', 'si422', 0)\n",
            "('Prabhjot', 'si422', 0)\n",
            "('Brandon', 'si422', 0)\n",
            "('Shayna', 'si422', 0)\n",
            "('Melodie', 'si422', 0)\n",
            "('Anita', 'si422', 0)\n",
            "('Alora', 'si430', 1)\n",
            "('Keri', 'si430', 0)\n",
            "('Meryl', 'si430', 0)\n",
            "('Keiron', 'si430', 0)\n",
            "('Taya', 'si430', 0)\n",
            "('Lacie', 'si430', 0)\n",
            "('Oluwateniolami', 'si430', 0)\n",
            "('Mairi', 'si430', 0)\n",
            "('Matt', 'si430', 0)\n",
            "('Jameel', 'si430', 0)\n",
            "('May', 'si430', 0)\n",
            "('Ricky', 'si430', 0)\n",
            "('Amrien', 'si430', 0)\n",
            "('Corrie', 'si430', 0)\n",
            "('Antoni', 'si430', 0)\n",
            "('Corran', 'si430', 0)\n",
            "('Lang', 'si430', 0)\n",
            "('Bethanie', 'si430', 0)\n",
            "('Cameron', 'si430', 0)\n",
            "('Meagan', 'si430', 0)\n",
            "('Steff', 'si430', 0)\n",
            "('Codie', 'si430', 0)\n",
            "('Rayan', 'si430', 0)\n",
            "('Darach', 'si430', 0)\n",
            "('Chymari', 'si430', 0)\n",
            "('Maisie', 'si430', 0)\n",
            "('Teri', 'si430', 0)\n",
            "('Mercedes', 'si430', 0)\n",
            "('Scarlet', 'si430', 0)\n",
            "('Carwyn', 'si430', 0)\n",
            "('Marcos', 'si430', 0)\n",
            "('Silas', 'si430', 0)\n",
            "('Lynsie', 'si430', 0)\n",
            "('Lotus', 'si430', 0)\n",
            "('Samar', 'si430', 0)\n",
            "('Denis', 'si430', 0)\n",
            "('Chandanpreet', 'si430', 0)\n",
            "('Adil', 'si430', 0)\n",
            "('Camerin', 'si430', 0)\n",
            "('Campbel', 'si430', 0)\n",
            "('Kaska', 'si430', 0)\n",
            "('Promise', 'si430', 0)\n",
            "('Aisa', 'si430', 0)\n",
            "('Tammam', 'si430', 0)\n",
            "('Khyralee', 'si430', 0)\n",
            "('Husnain', 'si430', 0)\n",
            "('Ashleigh', 'si430', 0)\n",
            "('Devayani', 'si430', 0)\n",
            "('Lennen', 'si430', 0)\n",
            "('Aryan', 'si430', 0)\n"
          ],
          "name": "stdout"
        }
      ]
    },
    {
      "cell_type": "markdown",
      "metadata": {
        "id": "0VfvonS8-GyN",
        "colab_type": "text"
      },
      "source": [
        "##Sessió 5"
      ]
    },
    {
      "cell_type": "markdown",
      "metadata": {
        "id": "Hl5w3kamj_XN",
        "colab_type": "text"
      },
      "source": [
        "###Geocoding"
      ]
    },
    {
      "cell_type": "markdown",
      "metadata": {
        "id": "gl-8vCIolMFT",
        "colab_type": "text"
      },
      "source": [
        "Un cop havent vist els diferents passos i tractaments que es poden fer de fonts de dades, s'intentarà posar a la pràctica de manera conjunta. En general el procés equival a:\n",
        "\n",
        "Data source $\\xrightarrow{\\text{gather}}$ Raw Database\n",
        "\n",
        "$\\hspace{4.2cm}\\downarrow \\text{clean}$\n",
        "\n",
        "$\\hspace{3.2cm}\\text{Clean Database}$\n",
        "\n",
        "Amb la DB neta es pot visualitzar les dades o bé analitzar-les.\n",
        "              "
      ]
    },
    {
      "cell_type": "markdown",
      "metadata": {
        "id": "c-itsiAlt050",
        "colab_type": "text"
      },
      "source": [
        "En el cas de *Geocoding*, s'utilitzarà la API de Google per crear una base de dades .sqlite amb diverses geolocalitzacions. A aquesta s'accedirà amb un altre codi de Python que pot generar un fitxer JavaScript per crear un fitxer HTML i visualitzar les dades."
      ]
    },
    {
      "cell_type": "markdown",
      "metadata": {
        "id": "G6FSneAk3AJs",
        "colab_type": "text"
      },
      "source": [
        "###Entrega de la setmana"
      ]
    },
    {
      "cell_type": "markdown",
      "metadata": {
        "id": "rE92At3E3Q6V",
        "colab_type": "text"
      },
      "source": [
        "**Retrieving GEOData**\n",
        "\n",
        "Download the code from http://www.py4e.com/code3/geodata.zip - then unzip the file and edit where.data to add an address nearby where you live - don't reveal where you live. Then run the geoload.py to lookup all of the entries in where.data (including the new one) and produce the geodata.sqlite. Then run geodump.py to read the database and produce where.js. You can run the programs and then scroll back to take your screen shots when the program finishes. Then open where.html to visualize the map. Take screen shots as described below. Make sure that your added location shows in all three of your screen shots.\n",
        "\n",
        "This is a relatively simple assignment. Don't take off points for little mistakes. If they seem to have done the assignment give them full credit. Feel free to make suggestions if there are small mistakes. Please keep your comments positive and useful. If you do not take grading seriously, the instructors may delete your response and you will lose points."
      ]
    },
    {
      "cell_type": "markdown",
      "metadata": {
        "id": "aNcQYOgA5f60",
        "colab_type": "text"
      },
      "source": [
        "Per exemple jo vaig afegir 'Universitat Autonoma de Barcelona' havent vist que no hi era present i que no tenien accents."
      ]
    },
    {
      "cell_type": "code",
      "metadata": {
        "id": "gi2YKf1uG2Hz",
        "colab_type": "code",
        "colab": {}
      },
      "source": [
        ""
      ],
      "execution_count": null,
      "outputs": []
    }
  ]
}